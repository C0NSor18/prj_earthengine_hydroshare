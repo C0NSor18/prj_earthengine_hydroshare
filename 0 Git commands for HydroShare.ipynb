{
 "cells": [
  {
   "cell_type": "markdown",
   "metadata": {},
   "source": [
    "# Git commands for Hydroshare Jupyter:"
   ]
  },
  {
   "cell_type": "code",
   "execution_count": 1,
   "metadata": {},
   "outputs": [
    {
     "name": "stdout",
     "output_type": "stream",
     "text": [
      "Updated by Alfonso Torres-Rua,  January 24, 2020\n"
     ]
    }
   ],
   "source": [
    "from datetime import date\n",
    "today = date.today()\n",
    "d2 = today.strftime(\"%B %d, %Y\")\n",
    "print(\"Updated by Alfonso Torres-Rua, \", d2)"
   ]
  },
  {
   "cell_type": "markdown",
   "metadata": {},
   "source": [
    "A live document of my experience with git and Hydroshare.\n",
    "Derived from https://www.linux.com/learn/beginning-git-and-github-linux-users\n",
    "\n",
    "## Main point/lesson:\n",
    "\n",
    "It is important to be organized when developing code. The main tasks are cloud repository setting, clonning, and commiting files to cloud repository. \n",
    "\n",
    "So, for any project or a class series of homeworks, start a project in GitHub and then clone it to Hydroshare"
   ]
  },
  {
   "cell_type": "markdown",
   "metadata": {},
   "source": [
    "## 1. Creating a GitHub account:\n",
    "\n",
    "Go to https://github.com/ and create an account. It is free."
   ]
  },
  {
   "cell_type": "markdown",
   "metadata": {},
   "source": [
    "## 2. Create a git repository:\n",
    "\n",
    "Click on the **NEW** (green button in your GitHub account."
   ]
  },
  {
   "cell_type": "code",
   "execution_count": 2,
   "metadata": {},
   "outputs": [
    {
     "data": {
      "text/html": [
       "<img src='0 Git commands/picture0.PNG', width=700, height=200>"
      ],
      "text/plain": [
       "<IPython.core.display.HTML object>"
      ]
     },
     "metadata": {},
     "output_type": "display_data"
    }
   ],
   "source": [
    "%%html\n",
    "<img src='0 Git commands/picture0.PNG', width=700, height=200>"
   ]
  },
  {
   "cell_type": "markdown",
   "metadata": {},
   "source": [
    "In continuation:\n",
    "\n",
    "1. Give it a name (I am calling it playground)\n",
    "\n",
    "2. Choose private (only you have the access or public.\n",
    "\n",
    "3. Check the\"Initialize this repository with a README (the README is where an explanation about the repository is placed)\n",
    "\n",
    "4. In the Add.gitignore select the programming language (I chose Python)\n",
    "\n",
    "5. In the add.license select None or an open or close license.\n",
    "\n",
    "6. Click \"Create Repository\""
   ]
  },
  {
   "cell_type": "code",
   "execution_count": 3,
   "metadata": {},
   "outputs": [
    {
     "data": {
      "text/html": [
       "<img src='0 Git commands/picture1.png', width=700, height=200>"
      ],
      "text/plain": [
       "<IPython.core.display.HTML object>"
      ]
     },
     "metadata": {},
     "output_type": "display_data"
    }
   ],
   "source": [
    "%%html\n",
    "<img src='0 Git commands/picture1.png', width=700, height=200>"
   ]
  },
  {
   "cell_type": "markdown",
   "metadata": {},
   "source": [
    "In the next screen, you can still modify the README.md using the pen icon "
   ]
  },
  {
   "cell_type": "code",
   "execution_count": 5,
   "metadata": {},
   "outputs": [
    {
     "data": {
      "text/html": [
       "<img src='0 Git commands/picture2.png', width=700, height=200>"
      ],
      "text/plain": [
       "<IPython.core.display.HTML object>"
      ]
     },
     "metadata": {},
     "output_type": "display_data"
    }
   ],
   "source": [
    "%%html\n",
    "<img src='0 Git commands/picture2.png', width=700, height=200>"
   ]
  },
  {
   "cell_type": "markdown",
   "metadata": {},
   "source": [
    "## 3. Fork a Github repository to your account:\n",
    "\n",
    "First, we have to find a repository to \"fork\", to copy it to your Github account. For example, let's fork the repository openet-ssebop-beta. You can look for it in the search box and click on \"All Github\":\n",
    "    "
   ]
  },
  {
   "cell_type": "code",
   "execution_count": 6,
   "metadata": {},
   "outputs": [
    {
     "data": {
      "text/html": [
       "<img src='0 Git commands/picture3.png', width=700, height=200>"
      ],
      "text/plain": [
       "<IPython.core.display.HTML object>"
      ]
     },
     "metadata": {},
     "output_type": "display_data"
    }
   ],
   "source": [
    "%%html\n",
    "<img src='0 Git commands/picture3.png', width=700, height=200>"
   ]
  },
  {
   "cell_type": "markdown",
   "metadata": {},
   "source": [
    "Click on Fork:\n",
    "    "
   ]
  },
  {
   "cell_type": "code",
   "execution_count": 7,
   "metadata": {},
   "outputs": [
    {
     "data": {
      "text/html": [
       "<img src='0 Git commands/picture4.png', width=700, height=200>"
      ],
      "text/plain": [
       "<IPython.core.display.HTML object>"
      ]
     },
     "metadata": {},
     "output_type": "display_data"
    }
   ],
   "source": [
    "%%html\n",
    "<img src='0 Git commands/picture4.png', width=700, height=200>"
   ]
  },
  {
   "cell_type": "markdown",
   "metadata": {},
   "source": [
    "Why we fork: When we have to modify the files and sync the changes to our Github account without needing permission from repository owner. Now you can \"clone\" it to Hydroshare."
   ]
  },
  {
   "cell_type": "markdown",
   "metadata": {},
   "source": [
    "## 4. Cloning Github repository to Hydroshare "
   ]
  },
  {
   "cell_type": "markdown",
   "metadata": {},
   "source": [
    "You can clone your own or forked repositories to Hydroshare. Clone means create a copy somewhere else from Github (local computer or the cloud) while keeping a link to Github for syncronization and changes tracking.\n",
    "\n",
    "To clone we need to create a location where to clone files. I recommend creating a folder.\n",
    "\n",
    "Go back to HydroShare, and:\n",
    "\n",
    "1. Open Jupyter Notebooks,\n",
    "2. Go to Jupyter notebooks view (click on File then Open)\n",
    "3. Create a git repo folder (I call mine git-repos) using these terminal commands if there is none previously and navigate to it.\n"
   ]
  },
  {
   "cell_type": "raw",
   "metadata": {},
   "source": [
    "#open terminal\n",
    "# navigate to notebooks and type the two commands below:\n",
    "\n",
    "mkdir git-repos\n",
    "\n",
    "cd git-repos"
   ]
  },
  {
   "cell_type": "markdown",
   "metadata": {},
   "source": [
    "4. In the same terminal clone the repository by clicking in the Github green button (which shows a web address like this https://github.com/torresrua/playground.git ) and then typing in the terminal the following command:"
   ]
  },
  {
   "cell_type": "raw",
   "metadata": {},
   "source": [
    "git clone https://github.com/torresrua/playground.git"
   ]
  },
  {
   "cell_type": "markdown",
   "metadata": {},
   "source": [
    "5. pass the command below in the terminal to see the files in the local version of the repository"
   ]
  },
  {
   "cell_type": "raw",
   "metadata": {},
   "source": [
    "ls playground/"
   ]
  },
  {
   "cell_type": "markdown",
   "metadata": {},
   "source": [
    "## 5. Adding files to a local (cloned) git repository  \n",
    "\n",
    "When new files were added to the cloned repo in Jupyter, we need to tell git to track them. Every time you finish working on notebooks, go to a terminal, navigate to the local repo folder and:"
   ]
  },
  {
   "cell_type": "raw",
   "metadata": {},
   "source": [
    "git add *"
   ]
  },
  {
   "cell_type": "markdown",
   "metadata": {},
   "source": [
    "## 6. Removing files from a local (cloned) git repository\n",
    "When files are deleted in the cloned repo, we need to tell git to un-track them. So navigate through a terminal to the local repo folder and:"
   ]
  },
  {
   "cell_type": "raw",
   "metadata": {},
   "source": [
    "git add -u"
   ]
  },
  {
   "cell_type": "markdown",
   "metadata": {},
   "source": [
    "## 7. Committing and Pushing files to cloud git repository (Github)\n",
    "If you are like me who does not know how many files were changed, from a terminal, navigate to the local repo folder and follow these two foolprof commands:"
   ]
  },
  {
   "cell_type": "raw",
   "metadata": {},
   "source": [
    "git commit -a"
   ]
  },
  {
   "cell_type": "markdown",
   "metadata": {},
   "source": [
    "then"
   ]
  },
  {
   "cell_type": "raw",
   "metadata": {},
   "source": [
    "git push origin master"
   ]
  },
  {
   "cell_type": "markdown",
   "metadata": {},
   "source": [
    "## 8. Pulling files from cloud git repository (Github)\n",
    "If new version of files (or new files were added) are available from GitHub, or when you are working with collaborators in a Github repository, from a terminal, navigate to the local repo and type:"
   ]
  },
  {
   "cell_type": "raw",
   "metadata": {},
   "source": [
    "git pull origin master"
   ]
  }
 ],
 "metadata": {
  "kernelspec": {
   "display_name": "Python 3",
   "language": "python",
   "name": "python3"
  },
  "language_info": {
   "codemirror_mode": {
    "name": "ipython",
    "version": 3
   },
   "file_extension": ".py",
   "mimetype": "text/x-python",
   "name": "python",
   "nbconvert_exporter": "python",
   "pygments_lexer": "ipython3",
   "version": "3.6.7"
  }
 },
 "nbformat": 4,
 "nbformat_minor": 2
}
