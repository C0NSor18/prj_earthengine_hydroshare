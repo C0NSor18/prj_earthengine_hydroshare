{
 "cells": [
  {
   "cell_type": "markdown",
   "metadata": {},
   "source": [
    "#### CEE 6003 Term Project\n",
    "#### Hyrum Tennant\n",
    "Use NAIP imagery to identify surface water in beaver impacted reaches.\n",
    "Compare data from multiple years to identify increase or decrease in dam construction in given areas by calculating identified surface area of water."
   ]
  },
  {
   "cell_type": "code",
   "execution_count": 325,
   "metadata": {
    "scrolled": true
   },
   "outputs": [
    {
     "data": {
      "application/vnd.jupyter.widget-view+json": {
       "model_id": "08c17b4730a2404dae24d66ec036b77a",
       "version_major": 2,
       "version_minor": 0
      },
      "text/plain": [
       "Map(center=[0, 0], controls=(ZoomControl(options=['position', 'zoom_in_text', 'zoom_in_title', 'zoom_out_text'…"
      ]
     },
     "metadata": {},
     "output_type": "display_data"
    },
    {
     "data": {
      "application/vnd.jupyter.widget-view+json": {
       "model_id": "26254032a2c94641bf290d493b436e50",
       "version_major": 2,
       "version_minor": 0
      },
      "text/plain": [
       "Tab(children=(CustomInspector(children=(SelectMultiple(options=OrderedDict(), value=()), Accordion(selected_in…"
      ]
     },
     "metadata": {},
     "output_type": "display_data"
    }
   ],
   "source": [
    "# Initializing display and earthengine\n",
    "from IPython.display import Image\n",
    "%matplotlib inline\n",
    "\n",
    "import ee\n",
    "ee.Initialize()\n",
    "\n",
    "import datetime\n",
    "from matplotlib import dates\n",
    "import matplotlib.dates as mdates\n",
    "from pylab import *\n",
    "\n",
    "# importing ipygee for dynamic mapping\n",
    "from ipygee import *\n",
    "# import geetools for cloud /sadow discrimination\n",
    "from geetools import ui, cloud_mask\n",
    "\n",
    "Map = Map() # from ipygee\n",
    "Map.show()"
   ]
  },
  {
   "cell_type": "code",
   "execution_count": 326,
   "metadata": {},
   "outputs": [],
   "source": [
    "naip = ee.ImageCollection(\"USDA/NAIP/DOQQ\")"
   ]
  },
  {
   "cell_type": "markdown",
   "metadata": {},
   "source": [
    "Identify areas of interest."
   ]
  },
  {
   "cell_type": "code",
   "execution_count": 327,
   "metadata": {},
   "outputs": [],
   "source": [
    "# Logan River\n",
    "lrArea = ee.Geometry.Rectangle([-111.565907, 41.923843, -111.561849, 41.896613])\n",
    "# Curtis Creek\n",
    "ccArea = ee.Geometry.Rectangle([-111.568564, 41.604967, -111.553125,  41.600111])"
   ]
  },
  {
   "cell_type": "markdown",
   "metadata": {},
   "source": [
    "Get the images for the areas of interest."
   ]
  },
  {
   "cell_type": "code",
   "execution_count": 328,
   "metadata": {},
   "outputs": [],
   "source": [
    "#Logan River\n",
    "# 2011 imagery\n",
    "# Get the images for the area of interest\n",
    "LR_11 = naip.filterDate('2011-01-01', '2011-12-31').filterBounds(lrArea)\n",
    "# mosaic the images for the area of interest\n",
    "LR_11 = LR_11.mosaic()\n",
    "# clip the mosaic to the area of interest\n",
    "LR_11 = LR_11.clip(lrArea)\n",
    "\n",
    "# 2014 imagery\n",
    "LR_14 = naip.filterDate('2014-01-01', '2014-12-31').filterBounds(lrArea)\n",
    "LR_14 = LR_14.mosaic()\n",
    "LR_14 = LR_14.clip(lrArea)\n",
    "\n",
    "# Curtis Creek\n",
    "# 2011 imagery\n",
    "# Get the images for the area of interest\n",
    "CC_11 = naip.filterDate('2011-01-01', '2011-12-31').filterBounds(ccArea)\n",
    "# mosaic the images for the area of interest\n",
    "CC_11 = CC_11.mosaic()\n",
    "# clip the mosaic to the area of interest\n",
    "CC_11 = CC_11.clip(ccArea)\n",
    "\n",
    "# 2014 imagery\n",
    "CC_14 = naip.filterDate('2014-01-01', '2014-12-31').filterBounds(ccArea)\n",
    "CC_14 = CC_14.mosaic()\n",
    "CC_14 = CC_14.clip(ccArea)"
   ]
  },
  {
   "cell_type": "markdown",
   "metadata": {},
   "source": [
    "Add color-IR composite images to the Map."
   ]
  },
  {
   "cell_type": "code",
   "execution_count": 329,
   "metadata": {},
   "outputs": [],
   "source": [
    "nBands = ['N', 'R', 'G']\n",
    "Map.addLayer(LR_11, {'bands':nBands,'min': 0, 'max': 255}, name='LR 2011')\n",
    "Map.addLayer(LR_14, {'bands':nBands,'min': 0, 'max': 255}, name='LR 2014')\n",
    "Map.addLayer(LR_16, {'bands':nBands,'min': 0, 'max': 255}, name='LR 2016')\n",
    "Map.addLayer(LR_18, {'bands':nBands,'min': 0, 'max': 255}, name='LR 2018')\n",
    "Map.addLayer(CC_11, {'bands':nBands,'min': 0, 'max': 255}, name='CC 2011')\n",
    "Map.addLayer(CC_14, {'bands':nBands,'min': 0, 'max': 255}, name='CC 2014')\n",
    "Map.addLayer(CC_16, {'bands':nBands,'min': 0, 'max': 255}, name='CC 2016')\n",
    "Map.addLayer(CC_18, {'bands':nBands,'min': 0, 'max': 255}, name='CC 2018')"
   ]
  },
  {
   "cell_type": "markdown",
   "metadata": {},
   "source": [
    "Calculate the NDWI for the images."
   ]
  },
  {
   "cell_type": "code",
   "execution_count": 330,
   "metadata": {},
   "outputs": [],
   "source": [
    "# function for adding NDWI band to image\n",
    "def addNDWI(image):\n",
    "    # add band for NDWI\n",
    "    return image.\\\n",
    "    addBands(image.expression('((green - NIR)/(green + NIR))', {\\\n",
    "        'NIR': image.select('N'),\\\n",
    "        'green': image.select('G')\\\n",
    "    }).rename('NDWI'))\n",
    "\n",
    "# set NDWI color palette\n",
    "ndwiViz = {'bands': ['NDWI'], min: 0.5, max: 1, 'palette': ['00FFFF', '0000FF']}\n",
    "\n",
    "# Logan River\n",
    "# process 2011 image\n",
    "LR_11_ndwi = addNDWI(LR_11)\n",
    "LR_11_ndwi = LR_11_ndwi.updateMask(LR_11_ndwi.select('NDWI').gte(0.5))\n",
    "Map.addLayer(LR_11_ndwi, ndwiViz, 'LR_11_ndwi')\n",
    "\n",
    "# process 2014 image\n",
    "LR_14_ndwi = addNDWI(LR_14)\n",
    "LR_14_ndwi = LR_14_ndwi.updateMask(LR_14_ndwi.select('NDWI').gte(0.4))\n",
    "Map.addLayer(LR_14_ndwi, ndwiViz, 'LR_14_ndwi')\n",
    "\n",
    "\n",
    "# Curtis Creek\n",
    "# process 2011 image\n",
    "CC_11_ndwi = addNDWI(CC_11)\n",
    "CC_11_ndwi = CC_11_ndwi.updateMask(CC_11_ndwi.select('NDWI').gte(0.5))\n",
    "Map.addLayer(CC_11_ndwi, ndwiViz, 'CC_11_ndwi')\n",
    "\n",
    "# process 2014 image\n",
    "CC_14_ndwi = addNDWI(CC_14)\n",
    "CC_14_ndwi = CC_14_ndwi.updateMask(CC_14_ndwi.select('NDWI').gte(0.5))\n",
    "Map.addLayer(CC_14_ndwi, ndwiViz, 'CC_14_ndwi')\n",
    "\n",
    "Map.centerObject(lrArea)"
   ]
  },
  {
   "cell_type": "markdown",
   "metadata": {},
   "source": [
    "Calculate the area of water in the images."
   ]
  },
  {
   "cell_type": "code",
   "execution_count": 331,
   "metadata": {},
   "outputs": [
    {
     "name": "stdout",
     "output_type": "stream",
     "text": [
      "Logan River 2011\n",
      "{'NDWI': 17424.237132288046}\n",
      "Logan River 2014\n",
      "{'NDWI': 15751.729349975474}\n",
      "Curtis Creek 2011\n",
      "{'NDWI': 1855.207258633528}\n",
      "Curtis Creek 2014\n",
      "{'NDWI': 6659.754359851257}\n"
     ]
    }
   ],
   "source": [
    "area11 = LR_11_ndwi.select(['NDWI']).multiply(ee.Image.pixelArea()).reduceRegion(reducer=ee.Reducer.sum(), geometry=LR_11_ndwi.geometry(), scale=1) # reduceRegion takes keyword arguments, not a dict\n",
    "print('Logan River 2011')\n",
    "print(area11.getInfo())\n",
    "\n",
    "area14 = LR_14_ndwi.select(['NDWI']).multiply(ee.Image.pixelArea()).reduceRegion(reducer=ee.Reducer.sum(), geometry=LR_14_ndwi.geometry(), scale=1) # reduceRegion takes keyword arguments, not a dict\n",
    "print('Logan River 2014')\n",
    "print(area14.getInfo())\n",
    "\n",
    "CCarea11 = CC_11_ndwi.select(['NDWI']).multiply(ee.Image.pixelArea()).reduceRegion(reducer=ee.Reducer.sum(), geometry=CC_11_ndwi.geometry(), scale=1) # reduceRegion takes keyword arguments, not a dict\n",
    "print('Curtis Creek 2011')\n",
    "print(CCarea11.getInfo())\n",
    "\n",
    "CCarea14 = CC_14_ndwi.select(['NDWI']).multiply(ee.Image.pixelArea()).reduceRegion(reducer=ee.Reducer.sum(), geometry=CC_11_ndwi.geometry(), scale=1) # reduceRegion takes keyword arguments, not a dict\n",
    "print('Curtis Creek 2014')\n",
    "print(CCarea14.getInfo())"
   ]
  },
  {
   "cell_type": "markdown",
   "metadata": {},
   "source": [
    "In 2011 the surface area on the beaver impacted section of the Logan River was 17424 m^2 and 1855 m^2 in the Curtis Creek section.\n",
    "In 2014 the surface area on the beaver impacted section of the Logan River was 15751 m^2 and 6659 m^2 in the Curtis Creek section.\n",
    "\n",
    "The large jump observed in the Curtis Creek section was due to the classification of shadows as water. This is an interesting phenomina and adjusting the index value for which water was classified within the NDWI did improve results. It reduced the amount of actual water that was classified as water. "
   ]
  }
 ],
 "metadata": {
  "kernelspec": {
   "display_name": "Python 3",
   "language": "python",
   "name": "python3"
  },
  "language_info": {
   "codemirror_mode": {
    "name": "ipython",
    "version": 3
   },
   "file_extension": ".py",
   "mimetype": "text/x-python",
   "name": "python",
   "nbconvert_exporter": "python",
   "pygments_lexer": "ipython3",
   "version": "3.6.7"
  }
 },
 "nbformat": 4,
 "nbformat_minor": 2
}
