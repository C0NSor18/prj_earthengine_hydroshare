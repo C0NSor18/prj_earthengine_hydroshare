{
 "cells": [
  {
   "cell_type": "code",
   "execution_count": 573,
   "metadata": {},
   "outputs": [
    {
     "data": {
      "application/vnd.jupyter.widget-view+json": {
       "model_id": "7369796f5a804f6db0a378943b9c8753",
       "version_major": 2,
       "version_minor": 0
      },
      "text/plain": [
       "Map(center=[0, 0], controls=(ZoomControl(options=['position', 'zoom_in_text', 'zoom_in_title', 'zoom_out_text'…"
      ]
     },
     "metadata": {},
     "output_type": "display_data"
    },
    {
     "data": {
      "application/vnd.jupyter.widget-view+json": {
       "model_id": "7c4ff55211e64defa9d266a30bfa0a0e",
       "version_major": 2,
       "version_minor": 0
      },
      "text/plain": [
       "Tab(children=(CustomInspector(children=(SelectMultiple(options=OrderedDict(), value=()), Accordion(selected_in…"
      ]
     },
     "metadata": {},
     "output_type": "display_data"
    }
   ],
   "source": [
    "# Initializing display and earthengine\n",
    "from IPython.display import Image\n",
    "%matplotlib inline\n",
    "\n",
    "import ee\n",
    "ee.Initialize()\n",
    "\n",
    "# importing ipygee for dynamic mapping\n",
    "from ipygee import *\n",
    "# import geetools for cloud /sadow discrimination\n",
    "from geetools import ui, cloud_mask\n",
    "\n",
    "Map = Map() # from ipygee\n",
    "Map.show()"
   ]
  },
  {
   "cell_type": "code",
   "execution_count": 574,
   "metadata": {},
   "outputs": [],
   "source": [
    "import datetime\n",
    "from matplotlib import dates\n",
    "import matplotlib.dates as mdates\n",
    "from pylab import *"
   ]
  },
  {
   "cell_type": "code",
   "execution_count": 575,
   "metadata": {},
   "outputs": [],
   "source": [
    "# adding landsat8 layer\n",
    "l8sr = ee.ImageCollection(\"LANDSAT/LC08/C01/T1_SR\")\n",
    "# l8sr = ee.ImageCollection(\"LANDSAT/LE07/C01/T1\")\n"
   ]
  },
  {
   "cell_type": "code",
   "execution_count": 576,
   "metadata": {},
   "outputs": [],
   "source": [
    "limitrophe= ee.FeatureCollection(\"users/mahmuduraveek/limitrophe_up\");\n",
    "Map.addLayer(limitrophe, {'color': 'red', 'fillColor': '00000000', 'outline': 1}, 'limitrophe');\n",
    "Map.centerObject(limitrophe);"
   ]
  },
  {
   "cell_type": "code",
   "execution_count": 577,
   "metadata": {},
   "outputs": [],
   "source": [
    "# function of clipping image is not working\n",
    "# def im_Clipping(image):\n",
    "#     clipped=image.clip(roibuffer)\n",
    "#     return clipped\n",
    "\n",
    "# l8sr_clipped=l8sr.map(im_Clipping)\n",
    "\n",
    "# trueColor = {'bands': ['B4', 'B3', 'B2'], 'min': 0, 'max': 0.5}\n",
    "\n",
    "# Map.addLayer(l8sr_clipped, trueColor, name='ClippedImage');"
   ]
  },
  {
   "cell_type": "code",
   "execution_count": 578,
   "metadata": {},
   "outputs": [],
   "source": [
    "l8clip = l8sr.mean().clip(limitrophe); # or you can use median (i think)\n",
    "Map.addLayer(l8clip,{},'clip');"
   ]
  },
  {
   "cell_type": "code",
   "execution_count": 579,
   "metadata": {},
   "outputs": [],
   "source": [
    "spatialFiltered = l8sr.filterBounds(limitrophe)\n",
    "temporalFiltered = spatialFiltered.filterDate('2014-10-01', '2014-10-30')\n",
    "sortedA = temporalFiltered.sort('CLOUD_COVER')\n",
    "\n",
    "scene = ee.Image(sortedA.first())\n",
    "#scene = scene.multiply(0.0001)\n",
    "\n",
    "#Map.centerObject(scene, 9);\n",
    "\n",
    "#Map.addLayer(scene, {}, 'default RGB');\n",
    "#vegPalette= ['#0048FB','#FFFFFF','#CE7E45','#FAD163','#74A909','#3A7405','#1A3B03']\n",
    "#visParams ={'bands': ['B4', 'B3', 'B2'], 'min': -.2, 'max': 1}\n",
    "#visParams={min: -0.2, max: 1, 'palette': vegPalette}\n",
    "#Map.addLayer(scene, visParams, 'true-color composite');"
   ]
  },
  {
   "cell_type": "markdown",
   "metadata": {},
   "source": [
    "Calculating the NDVI"
   ]
  },
  {
   "cell_type": "code",
   "execution_count": 580,
   "metadata": {},
   "outputs": [
    {
     "name": "stdout",
     "output_type": "stream",
     "text": [
      "{'NDVI': 6520.364073878494}\n"
     ]
    }
   ],
   "source": [
    "# nir = scene.select('B5');\n",
    "# red = scene.select('B4');\n",
    "# ndvi = nir.subtract(red).divide(nir.add(red)).rename('NDVI');\n",
    "# Map.centerObject(scene, 9);\n",
    "# ndviParams = {'min': 0,'max': 1, 'palette': ['#0000FF', '#FF0000', '#008000']};\n",
    "# Map.addLayer(ndvi, ndviParams, 'NDVI image');\n",
    "bands=['B6','B5', 'B4','B2']\n",
    "ndvi02 = scene.normalizedDifference(['B5', 'B4']).rename('NDVI');\n",
    "ndvi02= ndvi02.clip(limitrophe);\n",
    "\n",
    "vegPalette= ['#0048FB','#FFFFFF','#CE7E45','#FAD163','#74A909','#3A7405','#1A3B03']\n",
    "# vegPalette = ['white','yellow', 'green','blue']\n",
    "Map.addLayer(ndvi02, {min: -0.2, max: 1, 'palette': vegPalette},name = 'NDVI')\n",
    "\n",
    "psum=ndvi02.reduceRegion(ee.Reducer.sum(), limitrophe.geometry(),30)\n",
    "print(psum.getInfo())\n",
    "#Map.addLayer(ndvi02, ndviParams, 'NDVI image 1');"
   ]
  },
  {
   "cell_type": "code",
   "execution_count": 581,
   "metadata": {},
   "outputs": [],
   "source": [
    "# an effort to exclude the encroached farm lands;\n",
    "# pixs = ndvi02.lte(0.05).multiply(ee.Image.pixelArea());\n",
    "# print(pixs.getInfo());\n"
   ]
  },
  {
   "cell_type": "code",
   "execution_count": 582,
   "metadata": {},
   "outputs": [],
   "source": [
    "# psum=pixs.reduceRegion(ee.Reducer.sum(), limitrophe.geometry(),30);\n",
    "# Map.centerObject(limitrophe);\n",
    "# print(psum.getInfo())"
   ]
  },
  {
   "cell_type": "code",
   "execution_count": 583,
   "metadata": {},
   "outputs": [],
   "source": [
    "chart_ts = chart.Image.series(**{\n",
    "    'imageCollection': temporalFiltered, \n",
    "    'region': limitrophe,\n",
    "    'scale': 30,\n",
    "    'bands': bands,\n",
    "    'label_bands':['B6','B5', 'B4','B2'],\n",
    "    'properties':['CLOUD_COVER'],\n",
    "    #'label_properties':['CLOUD_COVER']\n",
    "})"
   ]
  },
  {
   "cell_type": "code",
   "execution_count": 584,
   "metadata": {},
   "outputs": [
    {
     "data": {
      "text/html": [
       "<div>\n",
       "<style scoped>\n",
       "    .dataframe tbody tr th:only-of-type {\n",
       "        vertical-align: middle;\n",
       "    }\n",
       "\n",
       "    .dataframe tbody tr th {\n",
       "        vertical-align: top;\n",
       "    }\n",
       "\n",
       "    .dataframe thead th {\n",
       "        text-align: right;\n",
       "    }\n",
       "</style>\n",
       "<table border=\"1\" class=\"dataframe\">\n",
       "  <thead>\n",
       "    <tr style=\"text-align: right;\">\n",
       "      <th></th>\n",
       "      <th>B6</th>\n",
       "      <th>B5</th>\n",
       "      <th>B4</th>\n",
       "      <th>B2</th>\n",
       "      <th>CLOUD_COVER</th>\n",
       "    </tr>\n",
       "  </thead>\n",
       "  <tbody>\n",
       "    <tr>\n",
       "      <th>2014-10-02 18:10:21.860</th>\n",
       "      <td>3436.790914</td>\n",
       "      <td>3162.093184</td>\n",
       "      <td>2083.485607</td>\n",
       "      <td>1159.432786</td>\n",
       "      <td>0.00</td>\n",
       "    </tr>\n",
       "    <tr>\n",
       "      <th>2014-10-02 18:10:45.750</th>\n",
       "      <td>3473.808681</td>\n",
       "      <td>3176.792883</td>\n",
       "      <td>2104.816786</td>\n",
       "      <td>1166.808140</td>\n",
       "      <td>0.03</td>\n",
       "    </tr>\n",
       "    <tr>\n",
       "      <th>2014-10-09 18:16:34.200</th>\n",
       "      <td>3125.847201</td>\n",
       "      <td>2854.704582</td>\n",
       "      <td>1836.306883</td>\n",
       "      <td>1006.065033</td>\n",
       "      <td>0.04</td>\n",
       "    </tr>\n",
       "    <tr>\n",
       "      <th>2014-10-18 18:10:25.750</th>\n",
       "      <td>3169.183924</td>\n",
       "      <td>2934.040912</td>\n",
       "      <td>1880.719536</td>\n",
       "      <td>1043.654265</td>\n",
       "      <td>16.45</td>\n",
       "    </tr>\n",
       "    <tr>\n",
       "      <th>2014-10-18 18:10:49.650</th>\n",
       "      <td>3207.853671</td>\n",
       "      <td>2949.422280</td>\n",
       "      <td>1905.049997</td>\n",
       "      <td>1055.588620</td>\n",
       "      <td>0.75</td>\n",
       "    </tr>\n",
       "    <tr>\n",
       "      <th>2014-10-25 18:16:34.750</th>\n",
       "      <td>3177.932139</td>\n",
       "      <td>2876.306306</td>\n",
       "      <td>1882.066971</td>\n",
       "      <td>1037.287827</td>\n",
       "      <td>9.33</td>\n",
       "    </tr>\n",
       "  </tbody>\n",
       "</table>\n",
       "</div>"
      ],
      "text/plain": [
       "                                  B6           B5           B4           B2  \\\n",
       "2014-10-02 18:10:21.860  3436.790914  3162.093184  2083.485607  1159.432786   \n",
       "2014-10-02 18:10:45.750  3473.808681  3176.792883  2104.816786  1166.808140   \n",
       "2014-10-09 18:16:34.200  3125.847201  2854.704582  1836.306883  1006.065033   \n",
       "2014-10-18 18:10:25.750  3169.183924  2934.040912  1880.719536  1043.654265   \n",
       "2014-10-18 18:10:49.650  3207.853671  2949.422280  1905.049997  1055.588620   \n",
       "2014-10-25 18:16:34.750  3177.932139  2876.306306  1882.066971  1037.287827   \n",
       "\n",
       "                         CLOUD_COVER  \n",
       "2014-10-02 18:10:21.860         0.00  \n",
       "2014-10-02 18:10:45.750         0.03  \n",
       "2014-10-09 18:16:34.200         0.04  \n",
       "2014-10-18 18:10:25.750        16.45  \n",
       "2014-10-18 18:10:49.650         0.75  \n",
       "2014-10-25 18:16:34.750         9.33  "
      ]
     },
     "execution_count": 584,
     "metadata": {},
     "output_type": "execute_result"
    }
   ],
   "source": [
    "chart_ts.dataframe"
   ]
  },
  {
   "cell_type": "code",
   "execution_count": 585,
   "metadata": {},
   "outputs": [
    {
     "data": {
      "application/vnd.jupyter.widget-view+json": {
       "model_id": "bf1e0162b8f04de19cca8c9bd0e31bff",
       "version_major": 2,
       "version_minor": 0
      },
      "text/plain": [
       "HTML(value='<embed src=data:image/svg+xml;charset=utf-8;base64,PD94bWwgdmVyc2lvbj0nMS4wJyBlbmNvZGluZz0ndXRmLTg…"
      ]
     },
     "metadata": {},
     "output_type": "display_data"
    }
   ],
   "source": [
    "chart_ts.renderWidget(width='50%')"
   ]
  },
  {
   "cell_type": "code",
   "execution_count": 586,
   "metadata": {},
   "outputs": [],
   "source": [
    "# how to export as a csv?\n",
    "# Export.table.toDrive({\n",
    "#   collection: chart_ts.dataframe,\n",
    "#   description:'vectorsToDriveExample',\n",
    "#   fileFormat: 'CSV'\n",
    "# });"
   ]
  },
  {
   "cell_type": "code",
   "execution_count": 587,
   "metadata": {},
   "outputs": [],
   "source": [
    "# // Make a feature without geometry and set the properties to the dictionary of means.\n",
    "feature = ee.Feature(limitrophe, bands)\n",
    "\n",
    "# // Wrap the Feature in a FeatureCollection for export.\n",
    "featureCollection = ee.FeatureCollection([feature])\n",
    "\n",
    "# // Export the FeatureCollection.\n",
    "task = ee.batch.Export.table.toDrive(\n",
    "  collection=featureCollection,\n",
    "  description= 'exportTableExample2',\n",
    "  folder=\"GEEexport\",\n",
    "  fileFormat='CSV'\n",
    ")\n",
    "\n",
    "task.start()"
   ]
  },
  {
   "cell_type": "code",
   "execution_count": 588,
   "metadata": {},
   "outputs": [],
   "source": [
    "# regions =ee.FeatureCollection(\"users/mahmuduraveek/limitrophe\")\n",
    "# l8sr = ee.ImageCollection(\"LANDSAT/LC08/C01/T1_SR\").filterDate('2013-03-01', '2018-10-30').select(['B5','B4'])\n",
    "# tempTimeSeries = ui.Chart.image.seriesByRegion(l8sr, regions, ee.Reducer.mean(), 'B5', 200, 'system:time_start', 'label')\n",
    "#          .setChartType('ScatterChart')\n",
    "#          .setOptions({\n",
    "#          title: 'NIR over time in regions of the American West',\n",
    "#          vAxis: {title: 'Temperature (Kelvin)'},\n",
    "#          lineWidth: 1,\n",
    "#          pointSize: 4});\n"
   ]
  },
  {
   "cell_type": "code",
   "execution_count": 589,
   "metadata": {},
   "outputs": [],
   "source": [
    "# task = ee.batch.Export.table.toDrive(\n",
    "#   collection=chart_ts,\n",
    "#   description= 'exportTableExample',\n",
    "#   folder=\"GEEexport\",\n",
    "#   fileFormat='CSV'\n",
    "# )\n",
    "\n",
    "# task.start()"
   ]
  },
  {
   "cell_type": "markdown",
   "metadata": {},
   "source": [
    "#### Doing it for the -NDBSI.\n",
    "The Normalized Difference Bare Soil Index (NDBSI) aids in the differentiation of no vegetation locations:\n",
    "\n",
    "NDBI = ((SWIR + RED) - (NIR + BLUE)) / ((SWIR + RED) + (NIR + BLUE))"
   ]
  },
  {
   "cell_type": "code",
   "execution_count": 590,
   "metadata": {},
   "outputs": [],
   "source": [
    "b6b4 = scene.select('B6').add(scene.select('B4'))\n",
    "b5b2 = scene.select('B5').add(scene.select('B2'))\n",
    "NDBSI = b5b2.subtract(b6b4).divide(b5b2.add(b6b4)) #normalized difference bare soil index\n",
    "NDBSI2= NDBSI.clip(limitrophe);\n",
    "# barePalette = waterPalette = [ 'blue','white']\n",
    "\n",
    "#Map.addLayer(NDBSI, {'min': -1, 'max': 1, 'palette': vegPalette}, 'NDBSI')\n",
    "Map.addLayer(NDBSI2, {'min': -1, 'max': 1, 'palette': vegPalette}, 'NDBSI2')\n",
    "\n",
    "\n",
    "# filtering only bare soil\n",
    "bareMask= NDBSI2.lte(0)\n",
    "NDBSIMasked=NDBSI2.updateMask(bareMask)\n",
    "Map.addLayer(NDBSIMasked, {'min': -1, 'max': 1, 'palette': vegPalette}, 'NDBSI masked')"
   ]
  },
  {
   "cell_type": "code",
   "execution_count": 591,
   "metadata": {},
   "outputs": [],
   "source": [
    "# bands=['B6','B5', 'B4','B2']\n",
    "# NDBSI2 = scene.normalizedDifference(['B5', 'B4']).rename('NDVI');\n",
    "# ndvi02= NDBSI.clip(limitrophe);\n",
    "\n",
    "# # vegPalette= ['#0048FB','#FFFFFF','#CE7E45','#FAD163','#74A909','#3A7405','#1A3B03']\n",
    "# # # vegPalette = ['white','yellow', 'green','blue']\n",
    "# # Map.addLayer(ndvi02, {min: -0.2, max: 1, 'palette': vegPalette},name = 'NDVI')\n",
    "\n",
    "# # psum=ndvi02.reduceRegion(ee.Reducer.sum(), limitrophe.geometry(),30)\n",
    "# # print(psum.getInfo())\n",
    "# # #Map.addLayer(ndvi02, ndviParams, 'NDVI image 1');"
   ]
  },
  {
   "cell_type": "code",
   "execution_count": 592,
   "metadata": {},
   "outputs": [],
   "source": [
    "evi = scene.expression(\n",
    "    '2.5 * ((NIR - RED) / (NIR + 6 * RED - 7.5 * BLUE + 1))', {\n",
    "      'NIR': scene.select('B5'),\n",
    "      'RED': scene.select('B4'),\n",
    "      'BLUE': scene.select('B2')\n",
    "})\n",
    "evi= evi.clip(limitrophe);\n",
    "# barePalette = waterPalette = [ 'blue','white']\n",
    "\n",
    "Map.addLayer(evi, {min: -0.2, max: 1, 'palette': vegPalette}, 'EVI')"
   ]
  },
  {
   "cell_type": "code",
   "execution_count": null,
   "metadata": {},
   "outputs": [],
   "source": []
  }
 ],
 "metadata": {
  "kernelspec": {
   "display_name": "Python 3",
   "language": "python",
   "name": "python3"
  },
  "language_info": {
   "codemirror_mode": {
    "name": "ipython",
    "version": 3
   },
   "file_extension": ".py",
   "mimetype": "text/x-python",
   "name": "python",
   "nbconvert_exporter": "python",
   "pygments_lexer": "ipython3",
   "version": "3.6.7"
  }
 },
 "nbformat": 4,
 "nbformat_minor": 2
}
