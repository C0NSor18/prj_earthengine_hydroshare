{
 "cells": [
  {
   "cell_type": "code",
   "execution_count": 50,
   "metadata": {
    "scrolled": false
   },
   "outputs": [
    {
     "data": {
      "application/vnd.jupyter.widget-view+json": {
       "model_id": "f753f6371218410ea5b1253fbef97387",
       "version_major": 2,
       "version_minor": 0
      },
      "text/plain": [
       "Map(center=[0, 0], controls=(ZoomControl(options=['position', 'zoom_in_text', 'zoom_in_title', 'zoom_out_text'…"
      ]
     },
     "metadata": {},
     "output_type": "display_data"
    },
    {
     "data": {
      "application/vnd.jupyter.widget-view+json": {
       "model_id": "f6376f56449c4801bd8bb589a9bc1af7",
       "version_major": 2,
       "version_minor": 0
      },
      "text/plain": [
       "Tab(children=(CustomInspector(children=(SelectMultiple(options=OrderedDict(), value=()), Accordion(selected_in…"
      ]
     },
     "metadata": {},
     "output_type": "display_data"
    }
   ],
   "source": [
    "from IPython.display import Image\n",
    "%matplotlib inline\n",
    "\n",
    "import ee\n",
    "ee.Initialize()\n",
    "\n",
    "\n",
    "from ipygee import *\n",
    "\n",
    "Map = Map() \n",
    "Map.show()"
   ]
  },
  {
   "cell_type": "code",
   "execution_count": 51,
   "metadata": {},
   "outputs": [
    {
     "name": "stdout",
     "output_type": "stream",
     "text": [
      "28.0836269 -80.6081089\n"
     ]
    }
   ],
   "source": [
    "from geopy.geocoders import Nominatim\n",
    "geolocator = Nominatim(user_agent=\"bamata2010@gmail.com\")\n",
    "address, (latitude, longitude) = geolocator.geocode(\"Melbourne, FL\")\n",
    "print(latitude, longitude)\n",
    "\n",
    "point = ee.Geometry.Point([longitude, latitude])"
   ]
  },
  {
   "cell_type": "code",
   "execution_count": 52,
   "metadata": {},
   "outputs": [
    {
     "name": "stdout",
     "output_type": "stream",
     "text": [
      "['B1', 'B2', 'B3', 'B4', 'B5', 'B6', 'B7', 'B10', 'B11', 'sr_aerosol', 'pixel_qa', 'radsat_qa']\n"
     ]
    }
   ],
   "source": [
    "landsat8b =ee.ImageCollection(\"LANDSAT/LC08/C01/T1_SR\")\n",
    "\n",
    "image = ee.Image(landsat8b\n",
    "    .filterBounds(point)\n",
    "    .filterDate('2016-08-01', '2016-08-30')\n",
    "    .sort('CLOUD_COVER_LAND')\n",
    "    .first())\n",
    "image = image.multiply(0.0001)\n",
    "trueColor = {'bands': ['B4', 'B3', 'B2'], 'min': 0, 'max': 0.5}\n",
    "print(image.bandNames().getInfo())"
   ]
  },
  {
   "cell_type": "code",
   "execution_count": 53,
   "metadata": {
    "scrolled": true
   },
   "outputs": [],
   "source": [
    "Map.addLayer(image, trueColor, name='Before Hurricane Landsat')\n",
    "bounds = point.buffer(10000)\n",
    "Map.centerObject(bounds)"
   ]
  },
  {
   "cell_type": "code",
   "execution_count": 54,
   "metadata": {},
   "outputs": [],
   "source": [
    "ndvi = image.normalizedDifference(['B5', 'B4'])\n",
    "vegPalette= ['#0048FB','#FFFFFF','#CE7E45','#FAD163','#74A909','#3A7405','#1A3B03']\n",
    "Map.addLayer(ndvi, {min: -0.2, max: 1, 'palette': vegPalette},name = 'Before NDVI')\n"
   ]
  },
  {
   "cell_type": "code",
   "execution_count": 55,
   "metadata": {},
   "outputs": [],
   "source": [
    "evi = image.expression(\n",
    "    '2.5 * ((NIR - RED) / (NIR + 6 * RED - 7.5 * BLUE + 1))', {\n",
    "      'NIR': image.select('B5'),\n",
    "      'RED': image.select('B4'),\n",
    "      'BLUE': image.select('B2')\n",
    "})\n",
    "Map.addLayer(evi, {min: -0.2, max: 1, 'palette': vegPalette}, 'Before EVI')"
   ]
  },
  {
   "cell_type": "code",
   "execution_count": 56,
   "metadata": {},
   "outputs": [],
   "source": [
    "AWEI = image.expression(\n",
    "        'Band1 + 2.5 * Band2 - 1.5 * (Band4-Band5) - .025 * Band7', {\n",
    "            'Band1': image.select('B1'),\n",
    "            'Band2': image.select('B2'),\n",
    "            'Band4': image.select('B4'),\n",
    "            'Band5': image.select('B5'),\n",
    "            'Band7': image.select('B7'),\n",
    "})\n",
    "Map.addLayer(AWEI, {min: -0.2, max: 1, 'palette': vegPalette}, 'Before AWEI')"
   ]
  },
  {
   "cell_type": "code",
   "execution_count": 57,
   "metadata": {},
   "outputs": [
    {
     "name": "stdout",
     "output_type": "stream",
     "text": [
      "['B1', 'B2', 'B3', 'B4', 'B5', 'B6', 'B7', 'B10', 'B11', 'sr_aerosol', 'pixel_qa', 'radsat_qa']\n"
     ]
    }
   ],
   "source": [
    "landsat8a =ee.ImageCollection(\"LANDSAT/LC08/C01/T1_SR\")\n",
    "\n",
    "image = ee.Image(landsat8a\n",
    "    .filterBounds(point)\n",
    "    .filterDate('2016-09-08', '2016-09-15')\n",
    "    .sort('CLOUD_COVER_LAND')\n",
    "    .first())\n",
    "image = image.multiply(0.0001)\n",
    "trueColor = {'bands': ['B4', 'B3', 'B2'], 'min': 0, 'max': 0.5}\n",
    "print(image.bandNames().getInfo())"
   ]
  },
  {
   "cell_type": "code",
   "execution_count": 58,
   "metadata": {},
   "outputs": [],
   "source": [
    "Map.addLayer(image, trueColor, name='After Hurricane Landsat')\n",
    "bounds = point.buffer(10000)\n",
    "Map.centerObject(bounds)"
   ]
  },
  {
   "cell_type": "code",
   "execution_count": 59,
   "metadata": {},
   "outputs": [],
   "source": [
    " ndvi = image.normalizedDifference(['B5', 'B4'])"
   ]
  },
  {
   "cell_type": "code",
   "execution_count": 60,
   "metadata": {},
   "outputs": [],
   "source": [
    "vegPalette= ['#0048FB','#FFFFFF','#CE7E45','#FAD163','#74A909','#3A7405','#1A3B03']\n",
    "Map.addLayer(ndvi, {min: -0.2, max: 1, 'palette': vegPalette},name = 'After NDVI')\n"
   ]
  },
  {
   "cell_type": "code",
   "execution_count": 61,
   "metadata": {},
   "outputs": [],
   "source": [
    "evi = image.expression(\n",
    "    '2.5 * ((NIR - RED) / (NIR + 6 * RED - 7.5 * BLUE + 1))', {\n",
    "      'NIR': image.select('B5'),\n",
    "      'RED': image.select('B4'),\n",
    "      'BLUE': image.select('B2')\n",
    "})\n",
    "Map.addLayer(evi, {min: -0.2, max: 1, 'palette': vegPalette}, 'After EVI')"
   ]
  },
  {
   "cell_type": "code",
   "execution_count": 62,
   "metadata": {},
   "outputs": [],
   "source": [
    "AWEI = image.expression(\n",
    "        'Band1 + 2.5 * Band2 - 1.5 * (Band4-Band5) - .025 * Band7', {\n",
    "            'Band1': image.select('B1'),\n",
    "            'Band2': image.select('B2'),\n",
    "            'Band4': image.select('B4'),\n",
    "            'Band5': image.select('B5'),\n",
    "            'Band7': image.select('B7'),\n",
    "})\n",
    "Map.addLayer(AWEI, {min: -0.2, max: 1, 'palette': vegPalette}, 'After AWEI')"
   ]
  },
  {
   "cell_type": "code",
   "execution_count": null,
   "metadata": {},
   "outputs": [],
   "source": []
  }
 ],
 "metadata": {
  "kernelspec": {
   "display_name": "Python 3",
   "language": "python",
   "name": "python3"
  },
  "language_info": {
   "codemirror_mode": {
    "name": "ipython",
    "version": 3
   },
   "file_extension": ".py",
   "mimetype": "text/x-python",
   "name": "python",
   "nbconvert_exporter": "python",
   "pygments_lexer": "ipython3",
   "version": "3.6.7"
  }
 },
 "nbformat": 4,
 "nbformat_minor": 2
}
