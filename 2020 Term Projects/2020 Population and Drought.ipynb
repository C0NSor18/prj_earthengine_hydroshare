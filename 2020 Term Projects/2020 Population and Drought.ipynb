{
 "cells": [
  {
   "cell_type": "raw",
   "metadata": {},
   "source": [
    "YOUR NAME HERE:Abby Bushman"
   ]
  },
  {
   "cell_type": "markdown",
   "metadata": {},
   "source": [
    "# Final Project"
   ]
  },
  {
   "cell_type": "code",
   "execution_count": 146,
   "metadata": {},
   "outputs": [
    {
     "name": "stdout",
     "output_type": "stream",
     "text": [
      "Updated by Alfonso Torres-Rua,  April 27, 2020\n"
     ]
    }
   ],
   "source": [
    "from datetime import date\n",
    "today = date.today()\n",
    "d2 = today.strftime(\"%B %d, %Y\")\n",
    "print(\"Updated by Alfonso Torres-Rua, \", d2)"
   ]
  },
  {
   "cell_type": "markdown",
   "metadata": {},
   "source": [
    "# Spacial Resolution"
   ]
  },
  {
   "cell_type": "code",
   "execution_count": 147,
   "metadata": {
    "scrolled": true
   },
   "outputs": [
    {
     "data": {
      "application/vnd.jupyter.widget-view+json": {
       "model_id": "3c0a1f45cb0842638a0cb116483d8091",
       "version_major": 2,
       "version_minor": 0
      },
      "text/plain": [
       "Map(center=[0, 0], controls=(ZoomControl(options=['position', 'zoom_in_text', 'zoom_in_title', 'zoom_out_text'…"
      ]
     },
     "metadata": {},
     "output_type": "display_data"
    },
    {
     "data": {
      "application/vnd.jupyter.widget-view+json": {
       "model_id": "2c7048372e3744ae9af895fcaeebbe42",
       "version_major": 2,
       "version_minor": 0
      },
      "text/plain": [
       "Tab(children=(CustomInspector(children=(SelectMultiple(options=OrderedDict(), value=()), Accordion(selected_in…"
      ]
     },
     "metadata": {},
     "output_type": "display_data"
    }
   ],
   "source": [
    "# Initializing display and earthengine\n",
    "from IPython.display import Image\n",
    "%matplotlib inline\n",
    "\n",
    "import ee\n",
    "ee.Initialize()\n",
    "\n",
    "# importing ipygee for dynamic mapping\n",
    "from ipygee import *\n",
    "\n",
    "Map = Map() # from ipygee\n",
    "Map.show()"
   ]
  },
  {
   "cell_type": "markdown",
   "metadata": {},
   "source": [
    "# Modis"
   ]
  },
  {
   "cell_type": "code",
   "execution_count": 148,
   "metadata": {},
   "outputs": [],
   "source": [
    "myd09 = ee.ImageCollection(\"MODIS/006/MYD09GA\")\n",
    "\n",
    "# Define a location of interest as a point at SFO airport.\n",
    "# from geopy.geocoders import Nominatim\n",
    "# geolocator = Nominatim(user_agent=\"a.torres@aggiemail.usu.edu\") #put your email here\n",
    "# address, (latitude, longitude) = geolocator.geocode(\"Logan Utah\")\n",
    "# print(latitude, longitude)\n",
    "\n",
    "\n",
    "latitude = 41.7370\n",
    "longitude = -111.8338\n",
    "sfoPoint = ee.Geometry.Point([-111.8338, 41.7370]);\n",
    "\n",
    "#Define a region to display (from the entire planet to a small region). USE THE COORDINATES FROM GOOGLE EARTH PRO\n",
    "# area_to_display = ee.Geometry.Rectangle([-179, 80, 179, -80]) #entire planet"
   ]
  },
  {
   "cell_type": "code",
   "execution_count": 149,
   "metadata": {},
   "outputs": [
    {
     "name": "stdout",
     "output_type": "stream",
     "text": [
      "['num_observations_1km', 'state_1km', 'SensorZenith', 'SensorAzimuth', 'Range', 'SolarZenith', 'SolarAzimuth', 'gflags', 'orbit_pnt', 'granule_pnt', 'num_observations_500m', 'sur_refl_b01', 'sur_refl_b02', 'sur_refl_b03', 'sur_refl_b04', 'sur_refl_b05', 'sur_refl_b06', 'sur_refl_b07', 'QC_500m', 'obscov_500m', 'iobs_res', 'q_scan']\n"
     ]
    }
   ],
   "source": [
    "# Get a surface reflectance image from the MODIS MYD09GA collection.\n",
    "modisImage = ee.Image(myd09.filterDate('2019-07-06').first());\n",
    "\n",
    "modisImage = modisImage.multiply(0.0001)\n",
    "# Print the image band names to the console.\n",
    "band_names = modisImage.bandNames()\n",
    "print(band_names.getInfo())"
   ]
  },
  {
   "cell_type": "code",
   "execution_count": 150,
   "metadata": {},
   "outputs": [],
   "source": [
    "# Use these MODIS bands for red, green, blue, respectively.\n",
    "modisBands = ['sur_refl_b01', 'sur_refl_b04', 'sur_refl_b03'];\n",
    "\n",
    "#// Add the image to the map.\n",
    "# url = modisImage.getThumbURL({'dimensions': 700,'bands':modisBands,'min': 0, 'max': 3000,'region':area_to_display})\n",
    "# # print(url)\n",
    "# Image(url=url)\n",
    "\n",
    "# add layer\n",
    "Map.addLayer(modisImage, {'bands':modisBands,'min': 0, 'max': 1}, name='MODIS Image')"
   ]
  },
  {
   "cell_type": "code",
   "execution_count": 151,
   "metadata": {},
   "outputs": [
    {
     "name": "stdout",
     "output_type": "stream",
     "text": [
      "MODIS scale: 463.3127165275\n"
     ]
    }
   ],
   "source": [
    "# Get the scale of the data from the first band's projection:\n",
    "modisScale = modisImage.select('sur_refl_b01').projection().nominalScale();\n",
    "\n",
    "print('MODIS scale:', modisScale.getInfo());\n"
   ]
  },
  {
   "cell_type": "code",
   "execution_count": 152,
   "metadata": {},
   "outputs": [],
   "source": [
    "# add layer SensorZenith\n",
    "Map.addLayer(modisImage, {'bands':'SensorZenith','min': 0, 'max': 0.3}, name='MODIS SensorZenith')"
   ]
  },
  {
   "cell_type": "markdown",
   "metadata": {},
   "source": [
    "# Landsat"
   ]
  },
  {
   "cell_type": "code",
   "execution_count": 153,
   "metadata": {},
   "outputs": [
    {
     "name": "stdout",
     "output_type": "stream",
     "text": [
      "['B1', 'B2', 'B3', 'B4', 'BQA']\n"
     ]
    }
   ],
   "source": [
    "# Filter MSS imagery by location, date and cloudiness.\n",
    "mss= ee.ImageCollection(\"LANDSAT/LM05/C01/T2\")\n",
    "\n",
    "mssImage = ee.Image(mss\n",
    "    .filterBounds(sfoPoint)\n",
    "    .sort('CLOUD_COVER')\n",
    "#Get the least cloudy image.\n",
    "    .first());\n",
    "\n",
    "# Print the image band names to the console.\n",
    "band_names = mssImage.bandNames()\n",
    "print(band_names.getInfo())\n",
    "# Display the MSS image as a color-IR composite.\n"
   ]
  },
  {
   "cell_type": "code",
   "execution_count": 154,
   "metadata": {},
   "outputs": [],
   "source": [
    "# Use these MODIS bands for red, green, blue, respectively.\n",
    "mssBands = ['B3', 'B2', 'B1'];\n",
    "\n",
    "#// Add the image to the map.\n",
    "# url = mssImage.getThumbURL({'dimensions': 700,'bands':mssBands,'min': 0, 'max': 200}) # because the area is small we don't need region\n",
    "# # print(url)\n",
    "# Image(url=url)\n",
    "\n",
    "Map.addLayer(mssImage, {'bands':mssBands,'min': 0, 'max': 200}, name='LandsatMSS Image')\n",
    "\n",
    "bounds = sfoPoint.buffer(70000)\n",
    "Map.centerObject(bounds)"
   ]
  },
  {
   "cell_type": "code",
   "execution_count": 155,
   "metadata": {},
   "outputs": [],
   "source": [
    "# landsat_area = ee.Geometry.Rectangle([-123.4, 38.5,-120.7, 36.5]) #Define upper left, lower right corner of Landsat image over san Francisco.\n",
    "# #// Add the image to the map.\n",
    "# modisBands = ['sur_refl_b02', 'sur_refl_b01', 'sur_refl_b04'];\n",
    "\n",
    "# url = modisImage.getThumbURL({'dimensions': 700,'bands':modisBands,'min': 0, 'max': 6000,'region':landsat_area})\n",
    "# # print(url)\n",
    "# Image(url=url)"
   ]
  },
  {
   "cell_type": "code",
   "execution_count": 156,
   "metadata": {},
   "outputs": [
    {
     "name": "stdout",
     "output_type": "stream",
     "text": [
      "MSS scale: 60\n"
     ]
    }
   ],
   "source": [
    "# Get the scale of the MSS data from its projection:\n",
    "mssScale = mssImage.select('B1').projection().nominalScale();\n",
    "\n",
    "print('MSS scale:', mssScale.getInfo());\n"
   ]
  },
  {
   "cell_type": "markdown",
   "metadata": {},
   "source": [
    "# TM"
   ]
  },
  {
   "cell_type": "code",
   "execution_count": 157,
   "metadata": {},
   "outputs": [
    {
     "name": "stdout",
     "output_type": "stream",
     "text": [
      "['B1', 'B2', 'B3', 'B4', 'B5', 'B6', 'B7', 'BQA']\n"
     ]
    }
   ],
   "source": [
    "tm = ee.ImageCollection(\"LANDSAT/LT05/C01/T1_TOA\")\n",
    "\n",
    "# // Filter TM imagery by location, date and cloudiness.\n",
    "tmImage = ee.Image(tm\n",
    "    .filterBounds(sfoPoint) # I could have used sfopoint too. every image has a boundary geometry\n",
    "    .filterDate('2011-05-01', '2011-10-01')\n",
    "    .sort('CLOUD_COVER') # not all satellites have this property, check the properties table\n",
    "    .first());\n",
    "\n",
    "# Print the image band names to the console.\n",
    "band_names = tmImage.bandNames()\n",
    "print(band_names.getInfo())"
   ]
  },
  {
   "cell_type": "code",
   "execution_count": 158,
   "metadata": {},
   "outputs": [],
   "source": [
    "# // Display the TM image as a color-IR composite.\n",
    "tmBands=  ['B4', 'B3', 'B2']\n",
    "#// Add the image to the map.\n",
    "# url = tmImage.getThumbURL({'dimensions': 700,'bands':tmBands,'min': 0, 'max': 0.4}) # because the area is small we don't need region\n",
    "# # print(url)\n",
    "# Image(url=url)\n",
    "\n",
    "Map.addLayer(tmImage, {'bands':tmBands,'min': 0, 'max': 0.4}, name='Landsat TM Image')\n",
    "\n",
    "bounds = sfoPoint.buffer(70000)\n",
    "Map.centerObject(bounds)\n"
   ]
  },
  {
   "cell_type": "markdown",
   "metadata": {},
   "source": [
    "Check the scale (in meters) as previously:"
   ]
  },
  {
   "cell_type": "code",
   "execution_count": 159,
   "metadata": {},
   "outputs": [
    {
     "name": "stdout",
     "output_type": "stream",
     "text": [
      "TM scale: 30\n"
     ]
    }
   ],
   "source": [
    "# // Get the scale of the TM data from its projection:\n",
    "tmScale = tmImage.select('B1').projection().nominalScale();\n",
    "print('TM scale:', tmScale.getInfo());\n"
   ]
  },
  {
   "cell_type": "code",
   "execution_count": 160,
   "metadata": {},
   "outputs": [],
   "source": [
    "## - Sentinel 2 "
   ]
  },
  {
   "cell_type": "markdown",
   "metadata": {},
   "source": [
    "# NAIP"
   ]
  },
  {
   "cell_type": "code",
   "execution_count": 161,
   "metadata": {},
   "outputs": [
    {
     "name": "stdout",
     "output_type": "stream",
     "text": [
      "['R', 'G', 'B', 'N']\n"
     ]
    }
   ],
   "source": [
    "naip = ee.ImageCollection(\"USDA/NAIP/DOQQ\")\n",
    "\n",
    "# // Get NAIP images for the study period and region of interest.\n",
    "naipImages = naip.filterDate('2012-01-01', '2019-12-31').filterBounds(sfoPoint);\n",
    "\n",
    "# // Mosaic adjacent images into a single image.\n",
    "naipImage = naipImages.mosaic();\n",
    "\n",
    "# Print the image band names to the console.\n",
    "band_names = naipImage.bandNames()\n",
    "print(band_names.getInfo())\n"
   ]
  },
  {
   "cell_type": "code",
   "execution_count": 162,
   "metadata": {},
   "outputs": [],
   "source": [
    "#Define a region to display (from the entire planet to a small region). USE THE COORDINATES FROM GOOGLE EARTH PRO\n",
    "# area_to_display = ee.Geometry.Rectangle([121.5, 41.0, 122.5, 42.2])\n",
    "\n",
    "# // Display the NAIP mosaic as a color-IR composite.\n",
    "nBands=  ['N', 'R', 'G']\n",
    "#// Add the image to the map.\n",
    "# url = naipImage.getThumbURL({'dimensions': 700,'bands':nBands,'min': 0, 'max': 255, 'region':area_to_display}) # because the area is small we don't need region\n",
    "# # print(url)\n",
    "# Image(url=url)\n",
    "\n",
    "Map.addLayer(naipImage, {'bands':nBands,'min': 0, 'max': 255}, name='NAIP Image')\n",
    "\n",
    "bounds = sfoPoint.buffer(70000)\n",
    "Map.centerObject(bounds)"
   ]
  },
  {
   "cell_type": "code",
   "execution_count": 163,
   "metadata": {},
   "outputs": [
    {
     "name": "stdout",
     "output_type": "stream",
     "text": [
      "NAIP scale: 0.6\n"
     ]
    }
   ],
   "source": [
    "# // Get the NAIP resolution from the first image in the mosaic.\n",
    "naipScale = ee.Image(naipImages.first()).projection().nominalScale();\n",
    "print('NAIP scale:', naipScale.getInfo());\n"
   ]
  },
  {
   "cell_type": "markdown",
   "metadata": {},
   "source": [
    "# ASTER"
   ]
  },
  {
   "cell_type": "code",
   "execution_count": 164,
   "metadata": {},
   "outputs": [
    {
     "name": "stdout",
     "output_type": "stream",
     "text": [
      "['B01', 'B02', 'B3N', 'B04', 'B05', 'B06', 'B07', 'B08', 'B09', 'B10', 'B11', 'B12', 'B13', 'B14']\n"
     ]
    }
   ],
   "source": [
    "aster = ee.ImageCollection('ASTER/AST_L1T_003')\n",
    "\n",
    "asterImages = aster.filterBounds(sfoPoint).filterDate('2019-01-01', '2019-12-31')\n",
    "\n",
    "asterImage = asterImages.mosaic();\n",
    "band_names = asterImage.bandNames()\n",
    "print(band_names.getInfo())\n",
    "\n",
    "asterBands = ['B01', 'B02', 'B3N']\n",
    "\n",
    "Map.addLayer(asterImage, {'bands':asterBands,'min': 0.0, 'max': 255.0}, name='ASTER Image')\n",
    "\n"
   ]
  },
  {
   "cell_type": "markdown",
   "metadata": {},
   "source": [
    "# Sentinal-2"
   ]
  },
  {
   "cell_type": "code",
   "execution_count": 165,
   "metadata": {},
   "outputs": [
    {
     "name": "stdout",
     "output_type": "stream",
     "text": [
      "['B1', 'B2', 'B3', 'B4', 'B5', 'B6', 'B7', 'B8', 'B8A', 'B9', 'B10', 'B11', 'B12', 'QA10', 'QA20', 'QA60']\n"
     ]
    }
   ],
   "source": [
    "s2 = ee.ImageCollection('COPERNICUS/S2')\n",
    "\n",
    "s2Image = ee.Image(s2.filterBounds(sfoPoint).sort('CLOUDY_PIXEL_PERCENTAGE').first())\n",
    "s2Image = s2Image.multiply(0.0001)\n",
    "\n",
    "\n",
    "band_names = s2Image.bandNames()\n",
    "print(band_names.getInfo())\n",
    "\n",
    "s2Bands = ['B5', 'B6', 'B7']\n",
    "\n",
    "Map.addLayer(s2Image, {'bands':s2Bands, 'min': 0.0, 'max': 0.3}, name = 'Sentinal-2 Image')"
   ]
  },
  {
   "cell_type": "markdown",
   "metadata": {},
   "source": [
    "# Sentinal-3"
   ]
  },
  {
   "cell_type": "code",
   "execution_count": 166,
   "metadata": {},
   "outputs": [
    {
     "name": "stdout",
     "output_type": "stream",
     "text": [
      "['Oa01_radiance', 'Oa02_radiance', 'Oa03_radiance', 'Oa04_radiance', 'Oa05_radiance', 'Oa06_radiance', 'Oa07_radiance', 'Oa08_radiance', 'Oa09_radiance', 'Oa10_radiance', 'Oa11_radiance', 'Oa12_radiance', 'Oa13_radiance', 'Oa14_radiance', 'Oa15_radiance', 'Oa16_radiance', 'Oa17_radiance', 'Oa18_radiance', 'Oa19_radiance', 'Oa20_radiance', 'Oa21_radiance', 'quality_flags']\n"
     ]
    }
   ],
   "source": [
    "s3 = ee.ImageCollection(\"COPERNICUS/S3/OLCI\") \n",
    "\n",
    "s3Image = ee.Image(s3.filterDate('2019-07-01', '2019-07-02').filterBounds(sfoPoint).first())\n",
    "band_names = s3Image.bandNames()\n",
    "print(band_names.getInfo())\n",
    "\n",
    "s3Bands = ['Oa01_radiance', 'Oa02_radiance', 'Oa03_radiance']\n",
    "\n",
    "Map.addLayer(s3Image, {'bands':s3Bands, 'min': 0.0, 'max': 255.0}, name = 'Sentinal-3 Image')"
   ]
  },
  {
   "cell_type": "markdown",
   "metadata": {},
   "source": [
    "# PROBA-V"
   ]
  },
  {
   "cell_type": "code",
   "execution_count": 167,
   "metadata": {},
   "outputs": [
    {
     "name": "stdout",
     "output_type": "stream",
     "text": [
      "['RED', 'NIR', 'BLUE', 'SWIR', 'NDVI', 'SZA', 'SAA', 'SWIRVAA', 'SWIRVZA', 'VNIRVAA', 'VNIRVZA', 'SM', 'TIME']\n"
     ]
    }
   ],
   "source": [
    "pv = ee.ImageCollection('VITO/PROBAV/C1/S1_TOC_100M')\n",
    "\n",
    "pvImage = ee.Image(pv.filterBounds(sfoPoint).filterDate('2019-05-01', '2019-10-01').sort('CLOUD_COVER_PERCENTAGE').first())\n",
    "band_names = pvImage.bandNames()\n",
    "print(band_names.getInfo())\n",
    "\n",
    "pvBands = ['RED', 'NIR', 'BLUE']\n",
    "Map.addLayer(pvImage, {'bands': pvBands, 'min': 0.0, 'max': 2000.0}, name = 'PROBA-V Image')"
   ]
  },
  {
   "cell_type": "markdown",
   "metadata": {},
   "source": [
    "# VIIRS"
   ]
  },
  {
   "cell_type": "code",
   "execution_count": 168,
   "metadata": {},
   "outputs": [
    {
     "name": "stdout",
     "output_type": "stream",
     "text": [
      "['I1', 'I2', 'I3', 'M1', 'M2', 'M3', 'M4', 'M5', 'M7', 'M8', 'M10', 'M11', 'SensorAzimuth', 'SensorZenith', 'SolarAzimuth', 'SolarZenith', 'iobs_res', 'num_observations_1km', 'num_observations_500m', 'obscov_1km', 'obscov_500m', 'orbit_pnt', 'QF1', 'QF2', 'QF3', 'QF4', 'QF5', 'QF6', 'QF7']\n"
     ]
    }
   ],
   "source": [
    "vi = ee.ImageCollection(\"NOAA/VIIRS/001/VNP09GA\")\n",
    "\n",
    "viImage = ee.Image(vi.filterDate('2019-07-06').first())\n",
    "viImage = viImage.multiply(0.0001)\n",
    "\n",
    "band_names = viImage.bandNames()\n",
    "print(band_names.getInfo())\n",
    "\n",
    "viBands = ['I1', 'I2', 'I3']\n",
    "Map.addLayer(viImage, {'bands': viBands, 'min': 0.0, 'max': 1.0}, name = 'VIIRS Image')"
   ]
  },
  {
   "cell_type": "markdown",
   "metadata": {},
   "source": [
    "# HYPERSPECTRAL SENSOR EO-1"
   ]
  },
  {
   "cell_type": "code",
   "execution_count": 169,
   "metadata": {},
   "outputs": [
    {
     "name": "stdout",
     "output_type": "stream",
     "text": [
      "['B008', 'B009', 'B010', 'B011', 'B012', 'B013', 'B014', 'B015', 'B016', 'B017', 'B018', 'B019', 'B020', 'B021', 'B022', 'B023', 'B024', 'B025', 'B026', 'B027', 'B028', 'B029', 'B030', 'B031', 'B032', 'B033', 'B034', 'B035', 'B036', 'B037', 'B038', 'B039', 'B040', 'B041', 'B042', 'B043', 'B044', 'B045', 'B046', 'B047', 'B048', 'B049', 'B050', 'B051', 'B052', 'B053', 'B054', 'B055', 'B056', 'B057', 'B077', 'B078', 'B079', 'B080', 'B081', 'B082', 'B083', 'B084', 'B085', 'B086', 'B087', 'B088', 'B089', 'B090', 'B091', 'B092', 'B093', 'B094', 'B095', 'B096', 'B097', 'B098', 'B099', 'B100', 'B101', 'B102', 'B103', 'B104', 'B105', 'B106', 'B107', 'B108', 'B109', 'B110', 'B111', 'B112', 'B113', 'B114', 'B115', 'B116', 'B117', 'B118', 'B119', 'B120', 'B121', 'B122', 'B123', 'B124', 'B125', 'B126', 'B127', 'B128', 'B129', 'B130', 'B131', 'B132', 'B133', 'B134', 'B135', 'B136', 'B137', 'B138', 'B139', 'B140', 'B141', 'B142', 'B143', 'B144', 'B145', 'B146', 'B147', 'B148', 'B149', 'B150', 'B151', 'B152', 'B153', 'B154', 'B155', 'B156', 'B157', 'B158', 'B159', 'B160', 'B161', 'B162', 'B163', 'B164', 'B165', 'B166', 'B167', 'B168', 'B169', 'B170', 'B171', 'B172', 'B173', 'B174', 'B175', 'B176', 'B177', 'B178', 'B179', 'B180', 'B181', 'B182', 'B183', 'B184', 'B185', 'B186', 'B187', 'B188', 'B189', 'B190', 'B191', 'B192', 'B193', 'B194', 'B195', 'B196', 'B197', 'B198', 'B199', 'B200', 'B201', 'B202', 'B203', 'B204', 'B205', 'B206', 'B207', 'B208', 'B209', 'B210', 'B211', 'B212', 'B213', 'B214', 'B215', 'B216', 'B217', 'B218', 'B219', 'B220', 'B221', 'B222', 'B223', 'B224']\n"
     ]
    }
   ],
   "source": [
    "hyp = ee.ImageCollection(\"EO1/HYPERION\") \n",
    "\n",
    "hypImages = hyp.filterBounds(sfoPoint).filterDate('2001', '2017')\n",
    "hypImage = hypImages.mosaic()\n",
    "hypImage = hypImage.multiply(0.0001)\n",
    "\n",
    "band_names = hypImage.bandNames()\n",
    "print(band_names.getInfo())\n",
    "\n",
    "hypBands = ['B008', 'B009', 'B010']\n",
    "Map.addLayer(hypImage, {'bands': hypBands, 'min': 0.0, 'max': 1.0}, name = 'Hyperion Image')"
   ]
  },
  {
   "cell_type": "markdown",
   "metadata": {},
   "source": [
    "# GPWv411 Basic Demographic Characteristics"
   ]
  },
  {
   "cell_type": "code",
   "execution_count": 170,
   "metadata": {},
   "outputs": [],
   "source": [
    "dem = ee.ImageCollection(\"CIESIN/GPWv411/GPW_Basic_Demographic_Characteristics\").first()\n",
    "\n",
    "raster = dem.select('basic_demographic_characteristics');\n",
    "\n",
    "raster_vis = {\n",
    "    \"max\": 1000.0,\n",
    "    \"palette\": [\n",
    "    \"ffffe7\",\n",
    "    \"86a192\",\n",
    "    \"509791\",\n",
    "    \"307296\",\n",
    "    \"2c4484\",\n",
    "    \"000066\"\n",
    "    ],\n",
    "    \"min\": 0.0\n",
    "};\n",
    "\n",
    "Map.addLayer(raster, raster_vis, name = 'Basic Demographic Characteristics')"
   ]
  },
  {
   "cell_type": "markdown",
   "metadata": {},
   "source": [
    "# GPWv411 Population Density"
   ]
  },
  {
   "cell_type": "code",
   "execution_count": 171,
   "metadata": {},
   "outputs": [],
   "source": [
    "pop = ee.ImageCollection(\"CIESIN/GPWv411/GPW_Population_Density\").first()\n",
    "\n",
    "raster = pop.select('population_density');\n",
    "\n",
    "raster_vis = {\n",
    "    \"max\": 1000.0,\n",
    "    \"palette\": [\n",
    "    \"ffffe7\",\n",
    "    \"FFc869\",\n",
    "    \"ffac1d\",\n",
    "    \"e17735\",\n",
    "    \"f2552c\",\n",
    "    \"9f0c21\"\n",
    "    ],\n",
    "    \"min\": 200.0\n",
    "};\n",
    "\n",
    "Map.addLayer(raster, raster_vis, name = 'Population Density')"
   ]
  },
  {
   "cell_type": "markdown",
   "metadata": {},
   "source": [
    "# TerraClimate"
   ]
  },
  {
   "cell_type": "code",
   "execution_count": 172,
   "metadata": {},
   "outputs": [],
   "source": [
    "terra = ee.ImageCollection('IDAHO_EPSCOR/TERRACLIMATE')\n",
    "\n",
    "terraImage = ee.Image(terra\n",
    "    .filterDate('2019-01-01', '2019-12-31')\n",
    "    .first());\n",
    "\n",
    "maximumTemperature = terraImage.select('tmmx');\n",
    "maximumTemperatureVis = {\n",
    "    \"min\": -300.0,\n",
    "    \"max\": 300.0,\n",
    "    \"palette\": [\n",
    "        '1a3678', '2955bc', '5699ff', '8dbae9', 'acd1ff', 'caebff', 'e5f9ff',\n",
    "        'fdffb4', 'ffe6a2', 'ffc969', 'ffa12d', 'ff7c1f', 'ca531a', 'ff0000',\n",
    "        'ab0000'\n",
    "    ],\n",
    "};\n",
    "\n",
    "Map.addLayer(maximumTemperature, maximumTemperatureVis, name = 'Maximum Temperature');"
   ]
  },
  {
   "cell_type": "markdown",
   "metadata": {},
   "source": [
    "# PDSI: Palmer Drought Severity Index"
   ]
  },
  {
   "cell_type": "code",
   "execution_count": 173,
   "metadata": {},
   "outputs": [],
   "source": [
    "dataset = ee.ImageCollection('IDAHO_EPSCOR/PDSI')\n",
    "\n",
    "datasetImage = ee.Image(dataset\n",
    "    .filterDate('2019-01-01', '2019-12-31')\n",
    "    .first());\n",
    "\n",
    "pdsi = datasetImage.select('pdsi');\n",
    "\n",
    "pdsiVis = {\n",
    "    \"min\": -5.0,\n",
    "    \"max\": 10.0,\n",
    "    \"palette\": [\n",
    "        'red', \n",
    "        'yellow', \n",
    "        'green', \n",
    "        'cyan', \n",
    "        'blue'\n",
    "    ],\n",
    "};\n",
    "\n",
    "Map.addLayer(pdsi, pdsiVis, name = 'PDSI');"
   ]
  },
  {
   "cell_type": "markdown",
   "metadata": {},
   "source": [
    "# HUC02: USGS Watershed Boundary Dataset"
   ]
  },
  {
   "cell_type": "code",
   "execution_count": 174,
   "metadata": {},
   "outputs": [],
   "source": [
    "huc = ee.FeatureCollection('USGS/WBD/2017/HUC02').filterBounds(sfoPoint);\n",
    "\n",
    "styleParams = {\n",
    "    \"fillColor\": '000070',\n",
    "    \"color\": '0000be',\n",
    "    \"width\": 3.0,\n",
    "};\n",
    "\n",
    "#regions = dataset.style(styleParams);\n",
    "\n",
    "Map.addLayer(huc, styleParams, name = 'USGS Watershed Boundaries');"
   ]
  }
 ],
 "metadata": {
  "kernelspec": {
   "display_name": "Python 3",
   "language": "python",
   "name": "python3"
  },
  "language_info": {
   "codemirror_mode": {
    "name": "ipython",
    "version": 3
   },
   "file_extension": ".py",
   "mimetype": "text/x-python",
   "name": "python",
   "nbconvert_exporter": "python",
   "pygments_lexer": "ipython3",
   "version": "3.6.7"
  },
  "latex_envs": {
   "LaTeX_envs_menu_present": true,
   "autoclose": false,
   "autocomplete": true,
   "bibliofile": "biblio.bib",
   "cite_by": "apalike",
   "current_citInitial": 1,
   "eqLabelWithNumbers": true,
   "eqNumInitial": 1,
   "hotkeys": {
    "equation": "Ctrl-E",
    "itemize": "Ctrl-I"
   },
   "labels_anchors": false,
   "latex_user_defs": false,
   "report_style_numbering": false,
   "user_envs_cfg": false
  }
 },
 "nbformat": 4,
 "nbformat_minor": 2
}
