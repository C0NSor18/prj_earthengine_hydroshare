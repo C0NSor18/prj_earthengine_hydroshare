{
 "cells": [
  {
   "cell_type": "markdown",
   "metadata": {},
   "source": [
    "# Calculating NDVI with Landsat and EarthEngine\n",
    "\n",
    "Initializing the EarthEngine module"
   ]
  },
  {
   "cell_type": "code",
   "execution_count": 1,
   "metadata": {},
   "outputs": [],
   "source": [
    "from IPython.display import Image\n",
    "\n",
    "import ee\n",
    "ee.Initialize()"
   ]
  },
  {
   "cell_type": "markdown",
   "metadata": {},
   "source": [
    "If the cell above fails, rerun the notebook: hydroshare_earthengine_setup"
   ]
  },
  {
   "cell_type": "markdown",
   "metadata": {},
   "source": [
    "Calling a Surface Reflectance Landsat image for day 153, 2016, Path 38, Row 31 in World Reference System 2"
   ]
  },
  {
   "cell_type": "code",
   "execution_count": 2,
   "metadata": {},
   "outputs": [],
   "source": [
    "image = ee.Image('LANDSAT/LC8_SR/LC80380312016153');"
   ]
  },
  {
   "cell_type": "markdown",
   "metadata": {},
   "source": [
    "Landsat Reflectance product is scaled by 10000"
   ]
  },
  {
   "cell_type": "code",
   "execution_count": 3,
   "metadata": {},
   "outputs": [
    {
     "name": "stdout",
     "output_type": "stream",
     "text": [
      "{'type': 'Image', 'bands': [{'id': 'B1', 'data_type': {'type': 'PixelType', 'precision': 'float', 'min': -3.2768001556396484, 'max': 3.276700019836426}, 'dimensions': [7801, 7921], 'crs': 'EPSG:32612', 'crs_transform': [30.0, 0.0, 342285.0, 0.0, -30.0, 4741515.0]}, {'id': 'B2', 'data_type': {'type': 'PixelType', 'precision': 'float', 'min': -3.2768001556396484, 'max': 3.276700019836426}, 'dimensions': [7801, 7921], 'crs': 'EPSG:32612', 'crs_transform': [30.0, 0.0, 342285.0, 0.0, -30.0, 4741515.0]}, {'id': 'B3', 'data_type': {'type': 'PixelType', 'precision': 'float', 'min': -3.2768001556396484, 'max': 3.276700019836426}, 'dimensions': [7801, 7921], 'crs': 'EPSG:32612', 'crs_transform': [30.0, 0.0, 342285.0, 0.0, -30.0, 4741515.0]}, {'id': 'B4', 'data_type': {'type': 'PixelType', 'precision': 'float', 'min': -3.2768001556396484, 'max': 3.276700019836426}, 'dimensions': [7801, 7921], 'crs': 'EPSG:32612', 'crs_transform': [30.0, 0.0, 342285.0, 0.0, -30.0, 4741515.0]}, {'id': 'B5', 'data_type': {'type': 'PixelType', 'precision': 'float', 'min': -3.2768001556396484, 'max': 3.276700019836426}, 'dimensions': [7801, 7921], 'crs': 'EPSG:32612', 'crs_transform': [30.0, 0.0, 342285.0, 0.0, -30.0, 4741515.0]}, {'id': 'B6', 'data_type': {'type': 'PixelType', 'precision': 'float', 'min': -3.2768001556396484, 'max': 3.276700019836426}, 'dimensions': [7801, 7921], 'crs': 'EPSG:32612', 'crs_transform': [30.0, 0.0, 342285.0, 0.0, -30.0, 4741515.0]}, {'id': 'B7', 'data_type': {'type': 'PixelType', 'precision': 'float', 'min': -3.2768001556396484, 'max': 3.276700019836426}, 'dimensions': [7801, 7921], 'crs': 'EPSG:32612', 'crs_transform': [30.0, 0.0, 342285.0, 0.0, -30.0, 4741515.0]}, {'id': 'cfmask', 'data_type': {'type': 'PixelType', 'precision': 'float', 'min': 0.0, 'max': 0.02550000138580799}, 'dimensions': [7801, 7921], 'crs': 'EPSG:32612', 'crs_transform': [30.0, 0.0, 342285.0, 0.0, -30.0, 4741515.0]}, {'id': 'cfmask_conf', 'data_type': {'type': 'PixelType', 'precision': 'float', 'min': 0.0, 'max': 0.02550000138580799}, 'dimensions': [7801, 7921], 'crs': 'EPSG:32612', 'crs_transform': [30.0, 0.0, 342285.0, 0.0, -30.0, 4741515.0]}]}\n"
     ]
    }
   ],
   "source": [
    "image =image.divide(10000);\n",
    "print(image.getInfo())"
   ]
  },
  {
   "cell_type": "markdown",
   "metadata": {},
   "source": [
    "Display the image in RGB color."
   ]
  },
  {
   "cell_type": "code",
   "execution_count": 4,
   "metadata": {},
   "outputs": [
    {
     "data": {
      "text/html": [
       "<img src=\"https://earthengine.googleapis.com/api/thumb?thumbid=055202fb1621f05d8f33415e263426ee&token=0c614d9822e10772c8e4b4735691b7d9\"/>"
      ],
      "text/plain": [
       "<IPython.core.display.Image object>"
      ]
     },
     "execution_count": 4,
     "metadata": {},
     "output_type": "execute_result"
    }
   ],
   "source": [
    "imgParams = {'bands': 'B4,B3,B2','min': 0.0,'max': 0.5,'gamma': 1.5}\n",
    "url = image.getThumbURL(imgParams)\n",
    "Image(url=url) "
   ]
  },
  {
   "cell_type": "markdown",
   "metadata": {},
   "source": [
    "Display the image in false color (NIR G B)"
   ]
  },
  {
   "cell_type": "code",
   "execution_count": 5,
   "metadata": {},
   "outputs": [
    {
     "data": {
      "text/html": [
       "<img src=\"https://earthengine.googleapis.com/api/thumb?thumbid=5f768030aaf26b67ea57a96ff6bccc1a&token=03cd09bd947459d2f511f3c3eb700fdb\"/>"
      ],
      "text/plain": [
       "<IPython.core.display.Image object>"
      ]
     },
     "execution_count": 5,
     "metadata": {},
     "output_type": "execute_result"
    }
   ],
   "source": [
    "imgParams = {'bands': 'B5,B4,B3','min': 0.0,'max': 0.5,'gamma': 1};\n",
    "url = image.getThumbURL(imgParams)\n",
    "Image(url=url) "
   ]
  },
  {
   "cell_type": "markdown",
   "metadata": {},
   "source": [
    "Calculating NDVI "
   ]
  },
  {
   "cell_type": "code",
   "execution_count": 6,
   "metadata": {},
   "outputs": [
    {
     "data": {
      "text/html": [
       "<img src=\"https://earthengine.googleapis.com/api/thumb?thumbid=ed5479e950ba7d8b54818d3d96b32923&token=e215d00f85246545f9eafb6fbeeee61d\"/>"
      ],
      "text/plain": [
       "<IPython.core.display.Image object>"
      ]
     },
     "execution_count": 6,
     "metadata": {},
     "output_type": "execute_result"
    }
   ],
   "source": [
    "ndvi = image.normalizedDifference(['B5','B4']);\n",
    "\n",
    "palette = ['00008b', 'CE7E45', 'DF923D', 'F1B555', 'FCD163', '99B718',\n",
    "               '74A901', '66A000', '529400', '3E8601', '207401', '056201',\n",
    "               '004C00', '023B01', '012E01', '011D01', '011301'];\n",
    "\n",
    "ndvi=ndvi.visualize(min=0,max=1,palette= palette)\n",
    "Image(url=ndvi.getThumbURL()) "
   ]
  },
  {
   "cell_type": "markdown",
   "metadata": {},
   "source": [
    "Zooming into Logan, UT"
   ]
  },
  {
   "cell_type": "code",
   "execution_count": 7,
   "metadata": {},
   "outputs": [],
   "source": [
    "geometry = ee.Geometry.Point([-111.84356689453125, 41.737855982210085])\n",
    "Logan=geometry.buffer(5000) #meters"
   ]
  },
  {
   "cell_type": "code",
   "execution_count": 8,
   "metadata": {},
   "outputs": [],
   "source": [
    "ndvi_logan = ndvi.clip(Logan)"
   ]
  },
  {
   "cell_type": "code",
   "execution_count": 9,
   "metadata": {},
   "outputs": [
    {
     "data": {
      "text/html": [
       "<img src=\"https://earthengine.googleapis.com/api/thumb?thumbid=b85c27bdb7beec377a82c421c38c2bf7&token=4b1b862ac8e00c38b624fed9c7b532dc\"/>"
      ],
      "text/plain": [
       "<IPython.core.display.Image object>"
      ]
     },
     "execution_count": 9,
     "metadata": {},
     "output_type": "execute_result"
    }
   ],
   "source": [
    "Image(url=ndvi_logan.getThumbURL()) "
   ]
  },
  {
   "cell_type": "code",
   "execution_count": 13,
   "metadata": {},
   "outputs": [],
   "source": [
    "import ipyleaflet\n",
    "from ipyleaflet import *\n",
    "\n",
    "m = ipyleaflet.Map(center=(41.7370,-111.8338),zoom=8)\n"
   ]
  },
  {
   "cell_type": "code",
   "execution_count": 14,
   "metadata": {},
   "outputs": [],
   "source": [
    "# adding some_file.py\n",
    "import sys\n",
    "sys.path.insert(0, '/home/jovyan/work/notebooks/prj_earth_engine_hydroshare/eeus2017-python')\n",
    "\n",
    "import ipyleafletee"
   ]
  },
  {
   "cell_type": "code",
   "execution_count": 15,
   "metadata": {},
   "outputs": [],
   "source": [
    "# adding NDVI to the dynamic map\n",
    "map_id = ndvi.getMapId()\n",
    "\n",
    "ndvi_tile_url = \"https://earthengine.googleapis.com/map/{mapid}/{{z}}/{{x}}/{{y}}?token={token}\".format(**map_id)\n",
    "ndvi_lyr = ipyleafletee.TileLayer(url=ndvi_tile_url)\n",
    "m.add_layer(ndvi_lyr)\n"
   ]
  },
  {
   "cell_type": "code",
   "execution_count": 16,
   "metadata": {},
   "outputs": [],
   "source": [
    "#adding image to the dynamic map\n",
    "map_id = image.visualize(bands='B5,B4,B3',min=0.0,max=0.7,gamma=1.5).getMapId()\n",
    "\n",
    "img_tile_url = \"https://earthengine.googleapis.com/map/{mapid}/{{z}}/{{x}}/{{y}}?token={token}\".format(**map_id)\n",
    "img_lyr = ipyleafletee.TileLayer(url=img_tile_url)\n",
    "m.add_layer(img_lyr)\n"
   ]
  },
  {
   "cell_type": "code",
   "execution_count": 17,
   "metadata": {
    "scrolled": true
   },
   "outputs": [
    {
     "data": {
      "application/vnd.jupyter.widget-view+json": {
       "model_id": "bafc96def29c4a90b45b94f8f95fc50c",
       "version_major": 2,
       "version_minor": 0
      },
      "text/plain": [
       "Map(basemap={'url': 'https://{s}.tile.openstreetmap.org/{z}/{x}/{y}.png', 'max_zoom': 19, 'attribution': 'Map …"
      ]
     },
     "metadata": {},
     "output_type": "display_data"
    }
   ],
   "source": [
    "#m = ipyleafletee.Map(center=(41.7370,-111.8338),zoom=8)\n",
    "#control = SplitMapControl(left_layer=img_lyr, right_layer=ndvi_lyr)\n",
    "\n",
    "m.add_control(ipyleaflet.LayersControl())\n",
    "m"
   ]
  },
  {
   "cell_type": "code",
   "execution_count": null,
   "metadata": {},
   "outputs": [],
   "source": []
  }
 ],
 "metadata": {
  "kernelspec": {
   "display_name": "Python 3",
   "language": "python",
   "name": "python3"
  },
  "language_info": {
   "codemirror_mode": {
    "name": "ipython",
    "version": 3
   },
   "file_extension": ".py",
   "mimetype": "text/x-python",
   "name": "python",
   "nbconvert_exporter": "python",
   "pygments_lexer": "ipython3",
   "version": "3.6.7"
  },
  "varInspector": {
   "cols": {
    "lenName": 16,
    "lenType": 16,
    "lenVar": 40
   },
   "kernels_config": {
    "python": {
     "delete_cmd_postfix": "",
     "delete_cmd_prefix": "del ",
     "library": "var_list.py",
     "varRefreshCmd": "print(var_dic_list())"
    },
    "r": {
     "delete_cmd_postfix": ") ",
     "delete_cmd_prefix": "rm(",
     "library": "var_list.r",
     "varRefreshCmd": "cat(var_dic_list()) "
    }
   },
   "position": {
    "height": "656px",
    "left": "994px",
    "right": "20px",
    "top": "181px",
    "width": "414px"
   },
   "types_to_exclude": [
    "module",
    "function",
    "builtin_function_or_method",
    "instance",
    "_Feature"
   ],
   "window_display": false
  }
 },
 "nbformat": 4,
 "nbformat_minor": 2
}
