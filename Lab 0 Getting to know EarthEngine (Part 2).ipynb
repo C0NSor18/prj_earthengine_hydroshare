{
 "cells": [
  {
   "cell_type": "markdown",
   "metadata": {},
   "source": [
    "## Introduction\n",
    "\n",
    "Google EarthEngine *GEE* is a remote sensing repository with steroids. So it is much more than just a storage service. \n",
    "\n",
    "GEE allows you to:\n",
    "\n",
    "1) Query, retrieve, and clip specific remote sensing and vector data for your needs (area of study). As any repository should do.\n",
    "\n",
    "2) Process/filter the remote sensing data before bringing it to your local or HydroShare storage. For example, clouded pixels can be \"filtered\" and NDVI values calculated before importing the e.g. timeseries files.\n",
    "\n",
    "3) Connect the EarthEngine datasets to live applications (e.g. an app). An example of this is the EEFlux project: https://eeflux-level1.appspot.com/\n",
    "\n",
    "We need to learn some of the GEE terminology to get it to work. This notebook will be your guide. Let's begin:"
   ]
  },
  {
   "cell_type": "markdown",
   "metadata": {},
   "source": [
    "## Visualizing Images and Images Bands:\n",
    "\n",
    "Visualizing Images using GEE requires the use of the ipyleaflet module. \n"
   ]
  },
  {
   "cell_type": "code",
   "execution_count": 35,
   "metadata": {},
   "outputs": [
    {
     "data": {
      "application/vnd.jupyter.widget-view+json": {
       "model_id": "916dbd5611ec42afa4c54270f313957b",
       "version_major": 2,
       "version_minor": 0
      },
      "text/plain": [
       "Map(basemap={'url': 'https://{s}.tile.openstreetmap.org/{z}/{x}/{y}.png', 'max_zoom': 19, 'attribution': 'Map …"
      ]
     },
     "metadata": {},
     "output_type": "display_data"
    }
   ],
   "source": [
    "# Initializing display, earthengine, and ipyleaflet\n",
    "from IPython.display import Image\n",
    "%matplotlib inline\n",
    "\n",
    "import ee\n",
    "ee.Initialize()\n",
    "\n",
    "import ipyleaflet\n",
    "from ipyleaflet import *\n",
    "\n",
    "m = ipyleaflet.Map(center=(41.7370,-111.8338),zoom=0)\n",
    "m.add_control(ipyleaflet.LayersControl())\n",
    "\n",
    "m"
   ]
  },
  {
   "cell_type": "markdown",
   "metadata": {},
   "source": [
    "### Visualizing an image"
   ]
  },
  {
   "cell_type": "code",
   "execution_count": 36,
   "metadata": {},
   "outputs": [],
   "source": [
    "# Instantiate an image with the Image constructor.\n",
    "image = ee.Image('CGIAR/SRTM90_V4');\n",
    "# get image GEE Id\n",
    "map_id = image.getMapId()\n",
    "\n",
    "image_tile_url = \"https://earthengine.googleapis.com/map/{mapid}/{{z}}/{{x}}/{{y}}?token={token}\".format(**map_id)\n",
    "image_lyr = ipyleaflet.TileLayer(url=image_tile_url,name=\"CGIAR/SRTM90_V4\")\n",
    "\n",
    "# Display the image on the map above.\n",
    "m.add_layer(image_lyr);"
   ]
  },
  {
   "cell_type": "markdown",
   "metadata": {},
   "source": [
    "Observe that a very gray image appears on the map. Don't worry, you'll make it look better soon.\n",
    "\n",
    "## Digression: Images in Earth Engine\n",
    "Images in Earth Engine (see this page for more details) are made up of one or more bands. Each band in an image has its own name, pixel values, pixel resolution, and projection. As you'll soon discover, the SRTM image has one band: 'elevation'.\n",
    "\n",
    "When you add an image to a map using *m.add_layer()*, Earth Engine needs to determine how to map the values in the image band(s) to colors on the display. If a single-band image is added to a map, by default Earth Engine displays the band in grayscale, where the minimum value is assigned to black, and the maximum value is assigned to white. If you don't specify what the minimum and maximum should be, Earth Engine will use default values. For example, the image you just added to the map is displayed as a grayscale image stretched to the full range of the data, or signed 16-bit integer [-32768, 32767]. (float bands are stretched to [0, 1] and byte bands are stretched to [0, 255] by default).\n",
    "\n",
    "You can discover the data type of the image by printing it and inspecting the image object in the Console tab. For example, run the following after the previous code:"
   ]
  },
  {
   "cell_type": "code",
   "execution_count": 37,
   "metadata": {},
   "outputs": [
    {
     "name": "stdout",
     "output_type": "stream",
     "text": [
      "SRTM image ['elevation']\n",
      "SRTM image {'elevation': {'type': 'PixelType', 'precision': 'int', 'min': -32768, 'max': 32767}}\n"
     ]
    }
   ],
   "source": [
    "print('SRTM image', image.bandNames().getInfo());\n",
    "print('SRTM image', image.bandTypes().getInfo());"
   ]
  },
  {
   "cell_type": "markdown",
   "metadata": {},
   "source": [
    "See that there is only one bands called 'elevation' band at index '0' and the 'data_type' property of the 'elevation' band is a signed int16 data type.\n",
    "\n",
    "## Customizing layer visualization\n",
    "To change the way the data are stretched, you can provide another parameter to the Map.addLayer() call. Specifically, the second parameter, visParams, lets you specify the minimum and maximum values to display. To discover what values to use, activate the Inspector tab and click around on the map to get an idea of the range of pixel values. Alternatively, use the Layer manager to interactively stretch the data, then observe the minimum and maximum corresponding to percentiles or standard deviation stretches. Suppose that through such experimentation, you determine that the data should be stretched to [0, 3000]. To display the image using this range, use:"
   ]
  },
  {
   "cell_type": "code",
   "execution_count": 38,
   "metadata": {},
   "outputs": [],
   "source": [
    "image2=image.visualize(min=0,max=3000)\n",
    "\n",
    "# get image GEE Id\n",
    "map_id = image2.getMapId()\n",
    "\n",
    "image_tile_url = \"https://earthengine.googleapis.com/map/{mapid}/{{z}}/{{x}}/{{y}}?token={token}\".format(**map_id)\n",
    "image_lyr = ipyleaflet.TileLayer(url=image_tile_url,name=\"CGIAR/SRTM90_V4 stretched\")\n",
    "\n",
    "# Display the image on the map above.\n",
    "m.add_layer(image_lyr);"
   ]
  },
  {
   "cell_type": "markdown",
   "metadata": {},
   "source": [
    "To display a single band using a color palette, add a palette property to the visParams object. We can use the seaborn python module to create hexadecimal palettes. To know more about paletes, see this link: https://chrisalbon.com/python/data_visualization/seaborn_color_palettes/\n"
   ]
  },
  {
   "cell_type": "code",
   "execution_count": 39,
   "metadata": {},
   "outputs": [],
   "source": [
    "import seaborn as sns"
   ]
  },
  {
   "cell_type": "code",
   "execution_count": 43,
   "metadata": {},
   "outputs": [],
   "source": [
    "# color ramp based on hexadecimal values:\n",
    "pal = sns.color_palette('cubehelix', 5)\n",
    "palette =pal.as_hex()\n",
    "\n",
    "image3=image.visualize(min=0,max=3000,palette= palette)\n",
    "\n",
    "# get image GEE Id\n",
    "map_id = image3.getMapId()\n",
    "\n",
    "image_tile_url = \"https://earthengine.googleapis.com/map/{mapid}/{{z}}/{{x}}/{{y}}?token={token}\".format(**map_id)\n",
    "image_lyr = ipyleaflet.TileLayer(url=image_tile_url,name=\"CGIAR/SRTM90_V4 colormap\")\n",
    "\n",
    "# Display the image on the map above.\n",
    "m.add_layer(image_lyr);"
   ]
  },
  {
   "cell_type": "code",
   "execution_count": null,
   "metadata": {},
   "outputs": [],
   "source": []
  }
 ],
 "metadata": {
  "kernelspec": {
   "display_name": "Python 3",
   "language": "python",
   "name": "python3"
  },
  "language_info": {
   "codemirror_mode": {
    "name": "ipython",
    "version": 3
   },
   "file_extension": ".py",
   "mimetype": "text/x-python",
   "name": "python",
   "nbconvert_exporter": "python",
   "pygments_lexer": "ipython3",
   "version": "3.6.7"
  }
 },
 "nbformat": 4,
 "nbformat_minor": 2
}
