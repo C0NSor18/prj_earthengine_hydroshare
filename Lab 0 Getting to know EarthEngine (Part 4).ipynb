{
 "cells": [
  {
   "cell_type": "markdown",
   "metadata": {},
   "source": [
    "## Downloading Files from Google Drive to HydroShare\n",
    "\n",
    "Once exported a file from Google Earth Engine, we can bring it to HydroShare for further analysis or to set it up as a resource.\n",
    "\n",
    "Do not forget to install the following the libraries in a terminal:"
   ]
  },
  {
   "cell_type": "raw",
   "metadata": {},
   "source": [
    "pip install --upgrade google-api-python-client oauth2client"
   ]
  },
  {
   "cell_type": "code",
   "execution_count": 5,
   "metadata": {},
   "outputs": [],
   "source": [
    "from __future__ import print_function\n",
    "from googleapiclient.discovery import build\n",
    "from httplib2 import Http\n",
    "from oauth2client import file, client, tools\n",
    "import io\n",
    "from googleapiclient.http import MediaIoBaseDownload"
   ]
  },
  {
   "cell_type": "markdown",
   "metadata": {},
   "source": [
    "We need the token.json and credentials.json files in the folder of this notebook"
   ]
  },
  {
   "cell_type": "code",
   "execution_count": 6,
   "metadata": {},
   "outputs": [],
   "source": [
    "# verifying the Google Drive API is up and running\n",
    "SCOPES = 'https://www.googleapis.com/auth/drive'\n",
    "\n",
    "store = file.Storage('token.json')\n",
    "creds = store.get()\n",
    "if not creds or creds.invalid:\n",
    "    flow = client.flow_from_clientsecrets('credentials.json', SCOPES)\n",
    "    creds = tools.run_flow(flow, store)\n",
    "service = build('drive', 'v3', http=creds.authorize(Http()))"
   ]
  },
  {
   "cell_type": "markdown",
   "metadata": {},
   "source": [
    "We need the name of the file exported from Earth Engine. In this case LC08_123032_20140515_TOA.tif"
   ]
  },
  {
   "cell_type": "code",
   "execution_count": 7,
   "metadata": {},
   "outputs": [
    {
     "name": "stdout",
     "output_type": "stream",
     "text": [
      "\"name contains 'LC08_123032_20140515_TOA.tif'\"\n"
     ]
    }
   ],
   "source": [
    "filename='LC08_123032_20140515_TOA.tif' #here we identify the file of interest\n",
    "query='\\\"name contains \\''+filename+'\\'\\\"'\n",
    "print(query)"
   ]
  },
  {
   "cell_type": "code",
   "execution_count": 8,
   "metadata": {},
   "outputs": [
    {
     "name": "stdout",
     "output_type": "stream",
     "text": [
      "                                  id                          name\n",
      "0  16YYnFWfyat9wYeX4lG51TjtkTdLcocBX  LC08_123032_20140515_TOA.tif\n",
      "1  1hw_ShbBSks8pwR7G5WS8UBoPXVauMjMw  LC08_123032_20140515_TOA.tif\n"
     ]
    }
   ],
   "source": [
    "# Call the Drive v3 API\n",
    "results = service.files().list(q=\"name contains 'LC08_123032_20140515_TOA.tif'\",pageSize=100, fields=\"nextPageToken, files(name, id)\").execute()\n",
    "# results = service.files().list(q=print(query),pageSize=100, fields=\"nextPageToken, files(name, id)\").execute()\n",
    "\n",
    "items = results.get('files', [])\n",
    "\n",
    "import pandas as pd\n",
    "df =pd.DataFrame.from_dict(items)\n",
    "print(df)\n",
    "id = df.iloc[0]['id']\n",
    "# print(id)"
   ]
  },
  {
   "cell_type": "markdown",
   "metadata": {},
   "source": [
    "The previous cell should give an id like this:1xogAczbNGN8Em_WH6NH8v5GiRSuFMfnV_-SX5oJyxww\n",
    "This is an internal id that indicates that the file is in fact within Google Drive\n",
    "\n",
    "For GoogleDrive API, we need the id of the file to download to HydroShare"
   ]
  },
  {
   "cell_type": "code",
   "execution_count": 9,
   "metadata": {},
   "outputs": [
    {
     "name": "stdout",
     "output_type": "stream",
     "text": [
      "Download 100%.\n"
     ]
    }
   ],
   "source": [
    "file_id = id\n",
    "request = service.files().get_media(fileId=file_id)\n",
    "fh = io.BytesIO()\n",
    "downloader = MediaIoBaseDownload(fh, request)\n",
    "done = False\n",
    "while done is False:\n",
    "    status, done = downloader.next_chunk()\n",
    "    print (\"Download %d%%.\" % int(status.progress() * 100))"
   ]
  },
  {
   "cell_type": "markdown",
   "metadata": {},
   "source": [
    "The file is downloaded to memory. It needs to be written to a file."
   ]
  },
  {
   "cell_type": "code",
   "execution_count": 10,
   "metadata": {},
   "outputs": [],
   "source": [
    "#writting the file from memory to local storage\n",
    "fh.seek(0)\n",
    "\n",
    "with open(df.iloc[0]['name'], \"wb\") as wer:\n",
    "\twer.write(fh.read())"
   ]
  },
  {
   "cell_type": "markdown",
   "metadata": {},
   "source": [
    "That's it! The file is available for any other calculation in HS"
   ]
  },
  {
   "cell_type": "code",
   "execution_count": 11,
   "metadata": {},
   "outputs": [
    {
     "name": "stdout",
     "output_type": "stream",
     "text": [
      "\u001b[0m\u001b[01;32m0 Git commands for HydroShare.ipynb\u001b[0m*\r\n",
      "\u001b[01;32m1 Google Earth Engine installation in HydroShare.ipynb\u001b[0m*\r\n",
      "\u001b[01;32m2 Using Earth Engine in HydroShare.ipynb\u001b[0m*\r\n",
      "\u001b[01;34masset_upload\u001b[0m/\r\n",
      "credentials.json\r\n",
      "Google Drive installation in HydroShare.ipynb\r\n",
      "\u001b[01;32mLab 0 Getting to know EarthEngine (Part 1).ipynb\u001b[0m*\r\n",
      "\u001b[01;32mLab 0 Getting to know EarthEngine (Part 2).ipynb\u001b[0m*\r\n",
      "\u001b[01;32mLab 0 Getting to know EarthEngine (Part 3).ipynb\u001b[0m*\r\n",
      "Lab 0 Getting to know EarthEngine (Part 4).ipynb\r\n",
      "\u001b[01;32mLab 1 Intro to Remote Sensing and EE.ipynb\u001b[0m*\r\n",
      "Lab 2 Characteristics of remotely sensed data.ipynb\r\n",
      "LC08_123032_20140515_TOA.tif\r\n",
      "\u001b[01;34mleaflet_examples_tested_w_hydroshare\u001b[0m/\r\n",
      "LICENSE\r\n",
      "quickstart.py\r\n",
      "\u001b[01;32mREADME.md\u001b[0m*\r\n",
      "token.json\r\n"
     ]
    }
   ],
   "source": [
    "ls"
   ]
  },
  {
   "cell_type": "markdown",
   "metadata": {},
   "source": [
    "How, we can use the file in Jupyter. See this example:"
   ]
  },
  {
   "cell_type": "code",
   "execution_count": 12,
   "metadata": {},
   "outputs": [],
   "source": [
    "import rasterio\n",
    "dataset = rasterio.open(filename)"
   ]
  },
  {
   "cell_type": "code",
   "execution_count": 13,
   "metadata": {},
   "outputs": [
    {
     "data": {
      "text/plain": [
       "'LC08_123032_20140515_TOA.tif'"
      ]
     },
     "execution_count": 13,
     "metadata": {},
     "output_type": "execute_result"
    }
   ],
   "source": [
    "dataset.name"
   ]
  },
  {
   "cell_type": "code",
   "execution_count": 14,
   "metadata": {},
   "outputs": [
    {
     "data": {
      "text/plain": [
       "3"
      ]
     },
     "execution_count": 14,
     "metadata": {},
     "output_type": "execute_result"
    }
   ],
   "source": [
    "dataset.count"
   ]
  },
  {
   "cell_type": "code",
   "execution_count": 15,
   "metadata": {},
   "outputs": [
    {
     "data": {
      "text/plain": [
       "<Figure size 640x480 with 1 Axes>"
      ]
     },
     "metadata": {},
     "output_type": "display_data"
    },
    {
     "data": {
      "text/plain": [
       "<matplotlib.axes._subplots.AxesSubplot at 0x7f27a51993c8>"
      ]
     },
     "execution_count": 15,
     "metadata": {},
     "output_type": "execute_result"
    }
   ],
   "source": [
    "from rasterio.plot import show\n",
    "show(dataset)"
   ]
  },
  {
   "cell_type": "code",
   "execution_count": 16,
   "metadata": {},
   "outputs": [
    {
     "name": "stdout",
     "output_type": "stream",
     "text": [
      "PROJCS[\"WGS 84 / UTM zone 50N\",\n",
      "    GEOGCS[\"WGS 84\",\n",
      "        DATUM[\"WGS_1984\",\n",
      "            SPHEROID[\"WGS 84\",6378137,298.257223563,\n",
      "                AUTHORITY[\"EPSG\",\"7030\"]],\n",
      "            AUTHORITY[\"EPSG\",\"6326\"]],\n",
      "        PRIMEM[\"Greenwich\",0,\n",
      "            AUTHORITY[\"EPSG\",\"8901\"]],\n",
      "        UNIT[\"degree\",0.0174532925199433,\n",
      "            AUTHORITY[\"EPSG\",\"9122\"]],\n",
      "        AUTHORITY[\"EPSG\",\"4326\"]],\n",
      "    PROJECTION[\"Transverse_Mercator\"],\n",
      "    PARAMETER[\"latitude_of_origin\",0],\n",
      "    PARAMETER[\"central_meridian\",117],\n",
      "    PARAMETER[\"scale_factor\",0.9996],\n",
      "    PARAMETER[\"false_easting\",500000],\n",
      "    PARAMETER[\"false_northing\",0],\n",
      "    UNIT[\"metre\",1,\n",
      "        AUTHORITY[\"EPSG\",\"9001\"]],\n",
      "    AXIS[\"Easting\",EAST],\n",
      "    AXIS[\"Northing\",NORTH],\n",
      "    AUTHORITY[\"EPSG\",\"32650\"]]\n"
     ]
    }
   ],
   "source": [
    "from osgeo import gdal, osr\n",
    "\n",
    "gdal.UseExceptions()\n",
    "\n",
    "\n",
    "fname = dataset.name\n",
    "\n",
    "ds = gdal.Open(fname)\n",
    "data = ds.ReadAsArray()\n",
    "gt = ds.GetGeoTransform()\n",
    "proj = ds.GetProjection()\n",
    "\n",
    "inproj = osr.SpatialReference()\n",
    "inproj.ImportFromWkt(proj)\n",
    "\n",
    "print(inproj)"
   ]
  },
  {
   "cell_type": "code",
   "execution_count": 17,
   "metadata": {},
   "outputs": [
    {
     "ename": "ParseError",
     "evalue": "mismatched tag: line 33, column 4 (<string>)",
     "output_type": "error",
     "traceback": [
      "Traceback \u001b[0;36m(most recent call last)\u001b[0m:\n",
      "  File \u001b[1;32m\"/opt/conda/lib/python3.6/site-packages/IPython/core/interactiveshell.py\"\u001b[0m, line \u001b[1;32m2963\u001b[0m, in \u001b[1;35mrun_code\u001b[0m\n    exec(code_obj, self.user_global_ns, self.user_ns)\n",
      "  File \u001b[1;32m\"<ipython-input-17-c2fdf79d5ccb>\"\u001b[0m, line \u001b[1;32m5\u001b[0m, in \u001b[1;35m<module>\u001b[0m\n    projection = ccrs.epsg(projcs)\n",
      "  File \u001b[1;32m\"/opt/conda/lib/python3.6/site-packages/cartopy/crs.py\"\u001b[0m, line \u001b[1;32m2540\u001b[0m, in \u001b[1;35mepsg\u001b[0m\n    return cartopy._epsg._EPSGProjection(code)\n",
      "  File \u001b[1;32m\"/opt/conda/lib/python3.6/site-packages/cartopy/_epsg.py\"\u001b[0m, line \u001b[1;32m69\u001b[0m, in \u001b[1;35m__init__\u001b[0m\n    x0, x1, y0, y1 = projection.domain_of_validity()\n",
      "  File \u001b[1;32m\"/opt/conda/lib/python3.6/site-packages/pyepsg.py\"\u001b[0m, line \u001b[1;32m205\u001b[0m, in \u001b[1;35mdomain_of_validity\u001b[0m\n    gml = ET.fromstring(xml)\n",
      "\u001b[0;36m  File \u001b[0;32m\"/opt/conda/lib/python3.6/xml/etree/ElementTree.py\"\u001b[0;36m, line \u001b[0;32m1314\u001b[0;36m, in \u001b[0;35mXML\u001b[0;36m\u001b[0m\n\u001b[0;31m    parser.feed(text)\u001b[0m\n",
      "\u001b[0;36m  File \u001b[0;32m\"<string>\"\u001b[0;36m, line \u001b[0;32munknown\u001b[0m\n\u001b[0;31mParseError\u001b[0m\u001b[0;31m:\u001b[0m mismatched tag: line 33, column 4\n"
     ]
    }
   ],
   "source": [
    "import cartopy.crs as ccrs\n",
    "\n",
    "\n",
    "projcs = inproj.GetAuthorityCode('PROJCS')\n",
    "projection = ccrs.epsg(projcs)\n",
    "print(projection)"
   ]
  },
  {
   "cell_type": "code",
   "execution_count": null,
   "metadata": {},
   "outputs": [],
   "source": [
    "import matplotlib.pyplot as plt\n",
    "\n",
    "subplot_kw = dict(projection=projection)\n",
    "fig, ax = plt.subplots(figsize=(12, 12), subplot_kw=subplot_kw)\n",
    "\n",
    "extent = (gt[0], gt[0] + ds.RasterXSize * gt[1],\n",
    "          gt[3] + ds.RasterYSize * gt[5], gt[3])\n",
    "\n",
    "img = ax.imshow(data[1:3,:,:], extent=extent,\n",
    "                origin='upper')"
   ]
  },
  {
   "cell_type": "markdown",
   "metadata": {},
   "source": [
    "<a id='section1'></a>\n",
    "### 1. How to connect with HydroShare \n",
    "To interact with HydroShare, import the `hydroshare` utility library so that you can query and download resources into the JupyterHub environment.  You will be prompted for your HydroShare login credentials, which are necessary to establish a secure connection with your account.  \n",
    "Execute the following cell by pressing `Shift-Enter`, or by pressing the play button \n",
    "<img style='display:inline;padding-bottom:15px' src='help/static/play-button.png'>\n",
    "on the toolbar above."
   ]
  },
  {
   "cell_type": "code",
   "execution_count": null,
   "metadata": {},
   "outputs": [],
   "source": [
    "import os\n",
    "from utilities import hydroshare\n",
    "hs = hydroshare.hydroshare()"
   ]
  },
  {
   "cell_type": "markdown",
   "metadata": {},
   "source": [
    "<a id='section4'></a>\n",
    "### 4. Creating a new HydroShare resource\n",
    "\n",
    "The best way to save your data is to put it back into HydroShare and is done using the `createHydroShareResource` function. The first step is to identify the files you want to save to a HydroShare.  The cell below lists all the files in the current working directory."
   ]
  },
  {
   "cell_type": "code",
   "execution_count": null,
   "metadata": {},
   "outputs": [],
   "source": [
    "# Grab all the files in the folder where you are working  \n",
    "files = !ls\n",
    "print('My files: %s' % files)"
   ]
  },
  {
   "cell_type": "code",
   "execution_count": null,
   "metadata": {},
   "outputs": [],
   "source": [
    "!echo \"This is my new file\" > myfile.txt"
   ]
  },
  {
   "cell_type": "code",
   "execution_count": null,
   "metadata": {},
   "outputs": [],
   "source": [
    "# lets save this content as a new resource in HydroShare\n",
    "abstract = 'This is a demo of the HydroShare Python Notebook Server and Gdrive'\n",
    "title = 'Hello From JupyterHub and Gdrive'    \n",
    "keywords = ['Demo', 'JupyterHub', 'Gdrive']  \n",
    "rtype = 'genericresource'          \n",
    "\n",
    "# create the new resource\n",
    "resource_id = hs.createHydroShareResource(abstract, \n",
    "                                          title, \n",
    "                                          keywords=keywords, \n",
    "                                          resource_type=rtype, \n",
    "                                          content_files=['sebbop.tif', 'myfile.txt'], \n",
    "                                          public=False)"
   ]
  },
  {
   "cell_type": "code",
   "execution_count": null,
   "metadata": {},
   "outputs": [],
   "source": []
  }
 ],
 "metadata": {
  "kernelspec": {
   "display_name": "Python 3",
   "language": "python",
   "name": "python3"
  },
  "language_info": {
   "codemirror_mode": {
    "name": "ipython",
    "version": 3
   },
   "file_extension": ".py",
   "mimetype": "text/x-python",
   "name": "python",
   "nbconvert_exporter": "python",
   "pygments_lexer": "ipython3",
   "version": "3.6.7"
  }
 },
 "nbformat": 4,
 "nbformat_minor": 2
}
