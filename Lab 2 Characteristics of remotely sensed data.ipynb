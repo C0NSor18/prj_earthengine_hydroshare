{
 "cells": [
  {
   "cell_type": "markdown",
   "metadata": {},
   "source": [
    "# Lab 2: Characteristics of remotely sensed data"
   ]
  },
  {
   "cell_type": "markdown",
   "metadata": {},
   "source": [
    "**Purpose:**\n",
    "The purpose of this lab is to demonstrate concepts of spatial, spectral, temporal and radiometric resolution.  You will be introduced to image data from several sensors aboard various platforms.  At the completion of the lab, you will be able to understand the difference between remotely sensed datasets based on sensor characteristics and how to choose an appropriate remotely sensed dataset based on these concepts.  \n",
    "\n",
    "**Prerequisites:** Lab 1"
   ]
  },
  {
   "cell_type": "markdown",
   "metadata": {},
   "source": [
    "1. Spatial resolution\n",
    "\n",
    "In the present context, spatial resolution means pixel size.  In practice, spatial resolution depends on the projection of the sensor's instantaneous field of view (IFOV) on the ground and how a set of radiometric measurements are resampled into a regular grid.  To see the difference in spatial resolution resulting from different sensors, visualize data at different scales from different sensors."
   ]
  },
  {
   "cell_type": "markdown",
   "metadata": {},
   "source": [
    "- MODIS.  \n",
    "There are two Moderate Resolution Imaging Spectro-Radiometers ([MODIS](http://modis.gsfc.nasa.gov/)) aboard the [Terra](http://terra.nasa.gov/) and [Aqua](http://aqua.nasa.gov/) satellites.  Different MODIS [bands](http://modis.gsfc.nasa.gov/about/specifications.php) produce data at different spatial resolutions.  For the visible bands, the lowest common resolution is 500 meters (red and NIR are 250 meters).  "
   ]
  },
  {
   "cell_type": "markdown",
   "metadata": {},
   "source": [
    "Search for 'MYD09GA' in the [Google EarthEngine datasets](https://developers.google.com/earth-engine/datasets/catalog/) and retrieve (copy) the path to 'MYD09GA.006 Aqua Surface Reflectance Daily Global 1km and 500m'.  Name the import myd09. ([Complete list of MODIS land products](https://lpdaac.usgs.gov/dataset_discovery/modis/modis_products_table).  Note that Terra MODIS datasets start with 'MOD' and MODIS Aqua datasets start with 'MYD')."
   ]
  },
  {
   "cell_type": "code",
   "execution_count": 48,
   "metadata": {},
   "outputs": [],
   "source": [
    "# Initializing display and earthengine\n",
    "from IPython.display import Image\n",
    "%matplotlib inline\n",
    "\n",
    "import ee\n",
    "ee.Initialize()"
   ]
  },
  {
   "cell_type": "code",
   "execution_count": 49,
   "metadata": {},
   "outputs": [],
   "source": [
    "myd09 = ee.ImageCollection(\"MODIS/006/MYD09GA\")\n",
    "\n",
    "# Define a location of interest as a point at SFO airport.\n",
    "sfoPoint = ee.Geometry.Point(-122.3774, 37.6194);\n",
    "\n",
    "#Define a region to display (from the entire planet to a small region)\n",
    "area_to_display = ee.Geometry.Rectangle([-120, 40, -125, 35])"
   ]
  },
  {
   "cell_type": "markdown",
   "metadata": {},
   "source": [
    "To display a false-color MODIS image, select an image acquired by the Aqua MODIS sensor and display it for SFO:"
   ]
  },
  {
   "cell_type": "code",
   "execution_count": 59,
   "metadata": {},
   "outputs": [
    {
     "name": "stdout",
     "output_type": "stream",
     "text": [
      "['num_observations_1km', 'state_1km', 'SensorZenith', 'SensorAzimuth', 'Range', 'SolarZenith', 'SolarAzimuth', 'gflags', 'orbit_pnt', 'granule_pnt', 'num_observations_500m', 'sur_refl_b01', 'sur_refl_b02', 'sur_refl_b03', 'sur_refl_b04', 'sur_refl_b05', 'sur_refl_b06', 'sur_refl_b07', 'QC_500m', 'obscov_500m', 'iobs_res', 'q_scan']\n"
     ]
    }
   ],
   "source": [
    "# Get a surface reflectance image from the MODIS MYD09GA collection.\n",
    "modisImage = ee.Image(myd09.filterDate('2017-07-01').filterBounds(sfoPoint).first());\n",
    "\n",
    "# Print the image band names to the console.\n",
    "band_names = modisImage.bandNames()\n",
    "print(band_names.getInfo())"
   ]
  },
  {
   "cell_type": "markdown",
   "metadata": {},
   "source": [
    "These names are described also here: [modis bands](https://modis.gsfc.nasa.gov/about/specifications.php)"
   ]
  },
  {
   "cell_type": "code",
   "execution_count": 51,
   "metadata": {},
   "outputs": [
    {
     "name": "stdout",
     "output_type": "stream",
     "text": [
      "['num_observations_1km', 'state_1km', 'SensorZenith', 'SensorAzimuth', 'Range', 'SolarZenith', 'SolarAzimuth', 'gflags', 'orbit_pnt', 'granule_pnt', 'num_observations_500m', 'sur_refl_b01', 'sur_refl_b02', 'sur_refl_b03', 'sur_refl_b04', 'sur_refl_b05', 'sur_refl_b06', 'sur_refl_b07', 'QC_500m', 'obscov_500m', 'iobs_res', 'q_scan']\n"
     ]
    },
    {
     "data": {
      "text/html": [
       "<img src=\"https://earthengine.googleapis.com/v1alpha/projects/earthengine-legacy/thumbnails/034b19ab12e7af56a641cdf79f933c2f-9598160d76235e077b6d4dc831a6f71c:getPixels\"/>"
      ],
      "text/plain": [
       "<IPython.core.display.Image object>"
      ]
     },
     "execution_count": 51,
     "metadata": {},
     "output_type": "execute_result"
    }
   ],
   "source": [
    "# Use these MODIS bands for red, green, blue, respectively.\n",
    "modisBands = ['sur_refl_b01', 'sur_refl_b04', 'sur_refl_b03'];\n",
    "\n",
    "#// Add the image to the map.\n",
    "url = modisImage.getThumbURL({'dimensions': 700,'bands':modisBands,'min': 0, 'max': 3000,'region':region_bay_area})\n",
    "# print(url)\n",
    "Image(url=url)"
   ]
  },
  {
   "cell_type": "raw",
   "metadata": {},
   "source": [
    "Note the size of pixels with respect to objects on the ground.  (It may help to turn on the satellite basemap to see high-resolution data for comparison.)  Print the size of the pixels (in meters) with:\n"
   ]
  },
  {
   "cell_type": "code",
   "execution_count": 52,
   "metadata": {},
   "outputs": [
    {
     "name": "stdout",
     "output_type": "stream",
     "text": [
      "MODIS scale: 463.3127165275\n"
     ]
    }
   ],
   "source": [
    "# Get the scale of the data from the first band's projection:\n",
    "modisScale = modisImage.select('sur_refl_b01').projection().nominalScale();\n",
    "\n",
    "print('MODIS scale:', modisScale.getInfo());\n"
   ]
  },
  {
   "cell_type": "raw",
   "metadata": {},
   "source": [
    "It's also worth noting that these MYD09 data are surface reflectance scaled by 10000 (not TOA reflectance), meaning that clever NASA scientists have done a fancy atmospheric correction for you!\n"
   ]
  },
  {
   "cell_type": "raw",
   "metadata": {},
   "source": [
    "MSS.  Multi-spectral scanners (MSS) were flown aboard Landsats 1-5.  MSS data have a spatial resolution of 60 meters.\n",
    "\n",
    "Search for 'landsat 5 mss' and import the result called 'USGS Landsat 5 MSS Collection 1 Tier 2 Raw Scenes'.  Name the import mss.\n",
    "\n",
    "To visualize MSS data over SFO, for a relatively less cloudy image, use:\n"
   ]
  },
  {
   "cell_type": "code",
   "execution_count": 54,
   "metadata": {},
   "outputs": [
    {
     "name": "stdout",
     "output_type": "stream",
     "text": [
      "['B1', 'B2', 'B3', 'B4', 'BQA']\n"
     ]
    }
   ],
   "source": [
    "# Filter MSS imagery by location, date and cloudiness.\n",
    "mss= ee.ImageCollection(\"LANDSAT/LM05/C01/T2\")\n",
    "\n",
    "mssImage = ee.Image(mss\n",
    "    .filterBounds(sfoPoint)\n",
    "    .sort('CLOUD_COVER')\n",
    "#Get the least cloudy image.\n",
    "    .first());\n",
    "\n",
    "# Print the image band names to the console.\n",
    "band_names = mssImage.bandNames()\n",
    "print(band_names.getInfo())\n",
    "# Display the MSS image as a color-IR composite.\n"
   ]
  },
  {
   "cell_type": "code",
   "execution_count": 55,
   "metadata": {},
   "outputs": [
    {
     "data": {
      "text/html": [
       "<img src=\"https://earthengine.googleapis.com/v1alpha/projects/earthengine-legacy/thumbnails/f3e7a57a4ea9e3fe148649a64bdf9094-fd8c7133e6cedf21e3baea30024a4eb6:getPixels\"/>"
      ],
      "text/plain": [
       "<IPython.core.display.Image object>"
      ]
     },
     "execution_count": 55,
     "metadata": {},
     "output_type": "execute_result"
    }
   ],
   "source": [
    "# Map.addLayer(mssImage, {bands: ['B3', 'B2', 'B1'], min: 0, max: 200}, 'MSS');\n",
    "\n",
    "# Use these MODIS bands for red, green, blue, respectively.\n",
    "mssBands = ['B3', 'B2', 'B1'];\n",
    "\n",
    "#// Add the image to the map.\n",
    "url = mssImage.getThumbURL({'dimensions': 700,'bands':mssBands,'min': 0, 'max': 200,'region':region_bay_area})\n",
    "# print(url)\n",
    "Image(url=url)"
   ]
  },
  {
   "cell_type": "code",
   "execution_count": 58,
   "metadata": {},
   "outputs": [
    {
     "data": {
      "text/html": [
       "<img src=\"https://earthengine.googleapis.com/v1alpha/projects/earthengine-legacy/thumbnails/ed76f35e813d82cbf31a65ebadf839fc-cc5c4dfec10886ccc677d909895dbaea:getPixels\"/>"
      ],
      "text/plain": [
       "<IPython.core.display.Image object>"
      ]
     },
     "execution_count": 58,
     "metadata": {},
     "output_type": "execute_result"
    }
   ],
   "source": [
    "region_bay_area2 = ee.Geometry.Rectangle([-122.6, 37.8, -122.3, 37.7])\n",
    "#// Add the image to the map.\n",
    "url = mssImage.getThumbURL({'dimensions': 700,'bands':mssBands,'min': 0, 'max': 200,'region':region_bay_area2})\n",
    "# print(url)\n",
    "Image(url=url)"
   ]
  },
  {
   "cell_type": "raw",
   "metadata": {},
   "source": [
    "Check the scale (in meters) as previously:"
   ]
  },
  {
   "cell_type": "code",
   "execution_count": 57,
   "metadata": {},
   "outputs": [
    {
     "name": "stdout",
     "output_type": "stream",
     "text": [
      "MSS scale: 60\n"
     ]
    }
   ],
   "source": [
    "# Get the scale of the MSS data from its projection:\n",
    "mssScale = mssImage.select('B1').projection().nominalScale();\n",
    "\n",
    "print('MSS scale:', mssScale.getInfo());\n"
   ]
  },
  {
   "cell_type": "code",
   "execution_count": null,
   "metadata": {},
   "outputs": [],
   "source": []
  }
 ],
 "metadata": {
  "kernelspec": {
   "display_name": "Python 3",
   "language": "python",
   "name": "python3"
  },
  "language_info": {
   "codemirror_mode": {
    "name": "ipython",
    "version": 3
   },
   "file_extension": ".py",
   "mimetype": "text/x-python",
   "name": "python",
   "nbconvert_exporter": "python",
   "pygments_lexer": "ipython3",
   "version": "3.6.7"
  }
 },
 "nbformat": 4,
 "nbformat_minor": 2
}
