{
 "cells": [
  {
   "cell_type": "markdown",
   "metadata": {},
   "source": [
    "## Lab 4: Supervised regression"
   ]
  },
  {
   "cell_type": "markdown",
   "metadata": {},
   "source": [
    "**Purpose:**\n",
    "The purpose of this lab is introduce you to concepts of supervised classification and regression: prediction of nominal or numeric values of a geographic variable from other geographic variables.  You will explore processes of training data collection, classifier selection, classifier training, image classification and accuracy assessment.  At the completion of the lab, you will be able to perform supervised classification and regression in Earth Engine.\n",
    "\n",
    "**Prerequisites:** Lab 3"
   ]
  },
  {
   "cell_type": "markdown",
   "metadata": {},
   "source": [
    "### 1. Introduction to classification and regression\n",
    "For present purposes, define prediction as guessing the value of some geographic variable of interest *g*, using a function *G* that takes as input a pixel vector **p**:"
   ]
  },
  {
   "cell_type": "markdown",
   "metadata": {},
   "source": [
    "\\begin{equation}\n",
    "G_{T}(p_i) = g_i \n",
    "\\end{equation}"
   ]
  },
  {
   "cell_type": "markdown",
   "metadata": {},
   "source": [
    "The *i* in this equation refers to a particular instance from a set of pixels.  Think of *G* as a guessing function and *gi* as the guess for pixel *i*.   The **T** in the subscript of *G* refers to a *training set* (a set of known values for p and the correct g), used to infer the structure of G.  You have to choose a suitable *G* to train with **T**.  When *g* is nominal (e.g. {'water', 'vegetation', 'bare'}), call this setup classification.  When g is numeric, call this setup regression.  This is an incredibly simplistic description of a problem addressed in a broad range of fields including mathematics, statistics, data mining, machine learning, etc.  Interested readers may see [Witten et al. (2011)](http://www.cs.waikato.ac.nz/ml/weka/book.html), [Hastie et al. (2009)](http://statweb.stanford.edu/~tibs/ElemStatLearn/) or [Goodfellow et al (2016)](http://www.deeplearningbook.org/)."
   ]
  },
  {
   "cell_type": "markdown",
   "metadata": {},
   "source": [
    "###  2. Regression\n",
    "In the present context, regression means predicting a numeric variable instead of a class label.  No lab on regression would be complete without the requisite introduction to least squares regression.\n",
    "\n",
    "#### a. Ordinary Least Squares (OLS)\n",
    "\n",
    "A very [ordinary regression](https://en.wikipedia.org/wiki/Ordinary_least_squares) is when G is a linear function of the form G(**p**) = **βp** where **β** is a vector of coefficients.  Once G is trained by some training set **T**, guess the value for some unknown **p** by multiplying it with **β**.  Suppose the goal is to estimate percent tree cover in each Landsat pixel.\n",
    "\n",
    "- Import data to use as known values for g.  Search 'vegetation continuous fields' and import 'MOD44B'.  Get the most recent image out of this collection:"
   ]
  },
  {
   "cell_type": "code",
   "execution_count": 1,
   "metadata": {
    "scrolled": false
   },
   "outputs": [
    {
     "data": {
      "application/vnd.jupyter.widget-view+json": {
       "model_id": "914c1d0616e34da9ba3e5b9ef77c6040",
       "version_major": 2,
       "version_minor": 0
      },
      "text/plain": [
       "Map(center=[0, 0], controls=(ZoomControl(options=['position', 'zoom_in_text', 'zoom_in_title', 'zoom_out_text'…"
      ]
     },
     "metadata": {},
     "output_type": "display_data"
    },
    {
     "data": {
      "application/vnd.jupyter.widget-view+json": {
       "model_id": "044dfdd793ef4724a223259858e35f77",
       "version_major": 2,
       "version_minor": 0
      },
      "text/plain": [
       "Tab(children=(CustomInspector(children=(SelectMultiple(options=OrderedDict(), value=()), Accordion(selected_in…"
      ]
     },
     "metadata": {},
     "output_type": "display_data"
    }
   ],
   "source": [
    "# Initializing display and earthengine\n",
    "from IPython.display import Image\n",
    "%matplotlib inline\n",
    "\n",
    "import ee\n",
    "ee.Initialize()\n",
    "\n",
    "# importing ipygee for dynamic mapping\n",
    "from ipygee import *\n",
    "\n",
    "Map = Map() # from ipygee\n",
    "Map.show()"
   ]
  },
  {
   "cell_type": "markdown",
   "metadata": {},
   "source": [
    "MOD44B EarthEngine dataset link: [https://developers.google.com/earth-engine/datasets/catalog/MODIS_006_MOD44B](https://developers.google.com/earth-engine/datasets/catalog/MODIS_006_MOD44B)"
   ]
  },
  {
   "cell_type": "code",
   "execution_count": 2,
   "metadata": {},
   "outputs": [
    {
     "name": "stdout",
     "output_type": "stream",
     "text": [
      "Julian date:  65\n",
      "Year:  2000\n"
     ]
    }
   ],
   "source": [
    "# The MOD44B Version 6 Vegetation Continuous Fields (VCF) yearly product is a global representation of surface vegetation \n",
    "# cover as gradations of three ground cover components: percent tree cover, percent non-tree cover, \n",
    "# and percent non-vegetated (bare).\n",
    "# https://lpdaac.usgs.gov/products/mod44bv006/\n",
    "    \n",
    "mod44b =ee.ImageCollection(\"MODIS/006/MOD44B\")\n",
    "\n",
    "# this data is the referential information, or \"true data\", the \"output data\", the \"y\" that we use to calibrate a model.\n",
    "\n",
    "tree = ee.Image(mod44b.sort('system:time_start', True).first()) #this command is asking for the first image (in 2000)\n",
    "\n",
    "# Get the timestamp and convert it to a date.\n",
    "julian_date = ee.Date(tree.get('system:time_start')).format('DD').getInfo();\n",
    "year = ee.Date(tree.get('system:time_start')).format('Y').getInfo();\n",
    "\n",
    "print('Julian date: ', julian_date); # ee.Date\n",
    "print('Year: ', year)"
   ]
  },
  {
   "cell_type": "markdown",
   "metadata": {},
   "source": [
    "Check which calendar date it is here: [https://www.scp.byu.edu/docs/doychart.html](https://www.scp.byu.edu/docs/doychart.html)"
   ]
  },
  {
   "cell_type": "raw",
   "metadata": {},
   "source": [
    "I found that The Julian date of 65  is May 5th, 2000"
   ]
  },
  {
   "cell_type": "markdown",
   "metadata": {},
   "source": [
    "Since water is coded as 200 in MOD44B, replace the 200's with 0's and display the result:"
   ]
  },
  {
   "cell_type": "code",
   "execution_count": 3,
   "metadata": {},
   "outputs": [],
   "source": [
    "percentTree = tree.select('Percent_Tree_Cover').where(tree.select('Percent_Tree_Cover').eq(200), 0)# replacing 200 with 0\n",
    "\n",
    "Map.addLayer(percentTree, {'max': 100, 'palette':['red','yellow', 'green', 'blue', 'purple']}, \n",
    "             name='percent tree cover')"
   ]
  },
  {
   "cell_type": "markdown",
   "metadata": {},
   "source": [
    "We could benefit from a stronger or more detailed inland water occurrence such as *JRC/GSW1_0/GlobalSurfaceWater* (which is Landsat resolution). Let's create a water mask for it."
   ]
  },
  {
   "cell_type": "code",
   "execution_count": 4,
   "metadata": {},
   "outputs": [],
   "source": [
    "# we are adding this filter to minimize water pixels occurrence at Landast scale, which may not be vissible at MODIS scale\n",
    "waterOcc = ee.Image(\"JRC/GSW1_0/GlobalSurfaceWater\").select('occurrence')\n",
    "jrc_data0 = ee.Image(\"JRC/GSW1_0/Metadata\").select('total_obs').lte(0)\n",
    "waterOccFilled = waterOcc.unmask(0).max(jrc_data0)\n",
    "waterMask = waterOccFilled.lt(50)\n",
    "\n",
    "Map.addLayer(waterMask,[],'WaterMask')"
   ]
  },
  {
   "cell_type": "markdown",
   "metadata": {},
   "source": [
    "Let's update the *percentTree* layer with the *waterMask* and plot it."
   ]
  },
  {
   "cell_type": "code",
   "execution_count": 5,
   "metadata": {},
   "outputs": [],
   "source": [
    "percentTreeWM = percentTree.updateMask(waterMask)\n",
    "\n",
    "Map.addLayer(percentTreeWM, {'max': 100, 'palette':['red','yellow', 'green', 'blue', 'purple']},\n",
    "             name='percent tree cover with WM')"
   ]
  },
  {
   "cell_type": "markdown",
   "metadata": {},
   "source": [
    "Note that this image represents percent tree cover at 250 meter resolution in 2000.\n",
    "\n",
    "- Import data to use as predictor variables (**p**).  Search 'landsat 5 raw' and import 'USGS Landsat 5 TM Collection 1 Tier 1 Raw Scenes'.  Name the import l5raw.  Filter by time and the [WRS-2](https://drive.google.com/file/d/1Uv5H3cbJXbrLN0J0RSPLa18kz8ut0H_z/view?usp=sharing) (Open this file in Google Earth Pro) Path and Row to get only scenes over the San Francisco bay area in 2000:\n"
   ]
  },
  {
   "cell_type": "code",
   "execution_count": 6,
   "metadata": {},
   "outputs": [],
   "source": [
    "l5raw = ee.ImageCollection(\"LANDSAT/LT05/C01/T1\")\n",
    "# looking for Landsat images around the month of the MODIS dataset (forestry does not change much in few months)\n",
    "\n",
    "# For San Francisco: from Google Earth Pro and WRS2 file\n",
    "Path =44\n",
    "Row = 34\n",
    "\n",
    "l5filtered = l5raw.filterDate('2000-04-01', '2000-08-30').\\\n",
    "filterMetadata('WRS_PATH', 'equals', Path).\\\n",
    "filterMetadata('WRS_ROW', 'equals', Row)\n",
    "\n",
    "# while we are using a large large of months to merge them and find non cloudy pixels, the correct technique would be to \n",
    "# remove the clouds in a single image. The technique is presented in Lab 6."
   ]
  },
  {
   "cell_type": "markdown",
   "metadata": {},
   "source": [
    "Use an Earth Engine algorithm to get a cloud-free composite of Landsat imagery in 2000. Also apply the *waterMask* mask to the *landsat* composite."
   ]
  },
  {
   "cell_type": "code",
   "execution_count": 7,
   "metadata": {},
   "outputs": [],
   "source": [
    "landsat = ee.Algorithms.Landsat.simpleComposite(l5filtered,50,10,40, True)\n",
    " \n",
    "landsat = landsat.updateMask(waterMask)\n",
    "# print(landsat.getInfo())\n",
    "Map.addLayer(landsat, {'bands': ['B4', 'B3', 'B2'], 'max': 0.3}, 'False color composite')\n",
    "\n",
    "Map.centerObject(l5filtered.first().geometry()) #centering the map to landsat scene"
   ]
  },
  {
   "cell_type": "markdown",
   "metadata": {},
   "source": [
    "Specify the bands of the Landsat composite to be used as predictors (i.e. the elements of p):\n"
   ]
  },
  {
   "cell_type": "code",
   "execution_count": 8,
   "metadata": {},
   "outputs": [],
   "source": [
    "predictionBands = ['B1', 'B2', 'B3', 'B4', 'B5' ,'B7']"
   ]
  },
  {
   "cell_type": "markdown",
   "metadata": {},
   "source": [
    "Now that all the input data is ready, build T.  It's customary to include a constant term in linear regression to make it the best linear unbiased estimator.  Stack a constant, the predictor variables and the image representing known g:\n"
   ]
  },
  {
   "cell_type": "code",
   "execution_count": 9,
   "metadata": {},
   "outputs": [],
   "source": [
    "trainingImage = landsat.select(predictionBands).addBands(percentTreeWM)"
   ]
  },
  {
   "cell_type": "markdown",
   "metadata": {},
   "source": [
    "Sample this stack at 1000 locations to get T as a table:\n"
   ]
  },
  {
   "cell_type": "code",
   "execution_count": 10,
   "metadata": {},
   "outputs": [
    {
     "name": "stdout",
     "output_type": "stream",
     "text": [
      "{'type': 'Feature', 'geometry': None, 'id': '0', 'properties': {'B1': 0.11316971480846405, 'B2': 0.11533552408218384, 'B3': 0.09370875358581543, 'B4': 0.38610923290252686, 'B5': 0.20725011825561523, 'B7': 0.11661408841609955, 'Percent_Tree_Cover': 8}}\n"
     ]
    }
   ],
   "source": [
    "region = l5filtered.first().geometry()\n",
    "\n",
    "# // Create 1000 random points in the region.\n",
    "# randomPoints = ee.FeatureCollection.randomPoints(region);\n",
    "\n",
    "trainingTesting = trainingImage.sample(\n",
    "  region = region, \n",
    "  scale = 30, \n",
    "  numPixels= 1000,\n",
    "  seed=111009\n",
    ");\n",
    "\n",
    "\n",
    "print(trainingTesting.first().getInfo())\n",
    "\n"
   ]
  },
  {
   "cell_type": "code",
   "execution_count": 11,
   "metadata": {},
   "outputs": [],
   "source": [
    "# // Randomly split the data into 60% for training, and 40% for testing\n",
    "trainingTesting = trainingTesting.randomColumn('random',111009);\n",
    "\n",
    "training = trainingTesting.filter(ee.Filter.lt('random', 0.6));\n",
    "\n",
    "testing = trainingTesting.filter(ee.Filter.gte('random', 0.6));"
   ]
  },
  {
   "cell_type": "markdown",
   "metadata": {},
   "source": [
    "Inspect the first element of T to make sure it's got all the data you expect.  \n",
    "\n",
    "The next step is to train G.  Make a list of the variable names, predictors followed by g:\n"
   ]
  },
  {
   "cell_type": "code",
   "execution_count": 12,
   "metadata": {},
   "outputs": [
    {
     "name": "stdout",
     "output_type": "stream",
     "text": [
      "['constant', 'B1', 'B2', 'B3', 'B4', 'B5', 'B7', 'Percent_Tree_Cover']\n"
     ]
    }
   ],
   "source": [
    "trainingList = ee.List(predictionBands).insert(0, 'constant').add('Percent_Tree_Cover')\n",
    "print(trainingList.getInfo())"
   ]
  },
  {
   "cell_type": "code",
   "execution_count": 13,
   "metadata": {},
   "outputs": [
    {
     "name": "stdout",
     "output_type": "stream",
     "text": [
      "{'type': 'Feature', 'geometry': None, 'id': '0', 'properties': {'B1': 0.11316971480846405, 'B2': 0.11533552408218384, 'B3': 0.09370875358581543, 'B4': 0.38610923290252686, 'B5': 0.20725011825561523, 'B7': 0.11661408841609955, 'Percent_Tree_Cover': 8, 'constant': 1, 'random': 0.12007009386145007}}\n"
     ]
    }
   ],
   "source": [
    "# // For the linear regression model, we need to add a constant term to each\n",
    "# // training and testing data point\n",
    "def add_constant(feature):\n",
    "    return feature.set('constant',1.0)\n",
    "\n",
    "training_const = training.map(add_constant)\n",
    "\n",
    "testing_const = training.map(add_constant)\n",
    "                             \n",
    "print(training_const.first().getInfo())"
   ]
  },
  {
   "cell_type": "markdown",
   "metadata": {},
   "source": [
    "In Earth Engine, linear regression is implemented as a Reducer.  This means that training G is a reduction of the T table, performed using the list of variables as an input.  The argument (8) tells the reducer how many of the input variables are predictors:"
   ]
  },
  {
   "cell_type": "code",
   "execution_count": 14,
   "metadata": {},
   "outputs": [],
   "source": [
    "# // Define a linear regression classifier\n",
    "linRegression = ee.Classifier.gmoLinearRegression(0,1e-10).setOutputMode('REGRESSION').train(\n",
    "      features= training_const, \n",
    "      classProperty= 'Percent_Tree_Cover', \n",
    "      inputProperties= predictionBands\n",
    "    )"
   ]
  },
  {
   "cell_type": "markdown",
   "metadata": {},
   "source": [
    "Observe that the output is an object with a list of coefficients (in the order specified by the inputs list) and the root mean square residual.  To use the coefficients to make a prediction in every pixel, first turn the output coefficients into an image, then perform the multiplication and addition that implements βp:\n"
   ]
  },
  {
   "cell_type": "code",
   "execution_count": 15,
   "metadata": {},
   "outputs": [],
   "source": [
    "# // Perform the linear regression on the landsat image\n",
    "# // (remember to add the constant band)\n",
    "linRegressionImage = landsat.select(predictionBands).addBands(ee.Image(1)).classify(linRegression, 'y_hat') #"
   ]
  },
  {
   "cell_type": "code",
   "execution_count": 16,
   "metadata": {},
   "outputs": [],
   "source": [
    "# predictedTreeCover = ee.Image(1).addBands(landsat.select(predictionBands)).\\\n",
    "# multiply(ee.Image.constant(coefficients)).reduce(ee.Reducer.sum()).rename('predictedTreeCover')\n",
    "\n",
    "# # clipping image to Landsat footprint\n",
    "# predictedTreeCover = predictedTreeCover.clip(l5filtered.first().geometry())\n",
    "# # applying water mask\n",
    "# predictedTreeCover = predictedTreeCover.updateMask(waterMask)\n",
    "\n",
    "Map.addLayer(linRegressionImage, {'min': 0, 'max': 100,\n",
    "                                  'palette':['red','yellow', 'green', 'blue', 'purple']}, 'OLS prediction')"
   ]
  },
  {
   "cell_type": "markdown",
   "metadata": {},
   "source": [
    "### - Non-linear regression functions"
   ]
  },
  {
   "cell_type": "markdown",
   "metadata": {},
   "source": [
    "If the garden variety linear regression isn't satisfactory, Earth Engine contains other functions that can make predictions of a continuous variable.  Unlike linear regression, other regression functions are implemented by the classifier library.  \n",
    "\n",
    "- For example, a Classification and Regression Tree (CART, see Brieman et al. 1984) is a machine learning algorithm that can learn non-linear patterns in your data.  Reusing the T table (without the constant term), train a CART as follows:"
   ]
  },
  {
   "cell_type": "code",
   "execution_count": 17,
   "metadata": {},
   "outputs": [],
   "source": [
    "cartRegression = ee.Classifier.cart(randomSeed=111009).setOutputMode('REGRESSION').train(\n",
    "      features= training, \n",
    "      classProperty= 'Percent_Tree_Cover', \n",
    "      inputProperties= predictionBands\n",
    "    );"
   ]
  },
  {
   "cell_type": "markdown",
   "metadata": {},
   "source": [
    "- Make predictions over the input imagery (classify in this context is a misnomer):\n"
   ]
  },
  {
   "cell_type": "code",
   "execution_count": 18,
   "metadata": {},
   "outputs": [],
   "source": [
    "cartRegressionImage = landsat.select(predictionBands).classify(cartRegression, 'y_hat');\n",
    "\n",
    "Map.addLayer(cartRegressionImage, {'min': 0, 'max': 100,\n",
    "                                   'palette':['red','yellow', 'green', 'blue', 'purple']},'CART regression');"
   ]
  },
  {
   "cell_type": "markdown",
   "metadata": {},
   "source": [
    "example https://code.earthengine.google.com/ade42831c23ae03ab9b26289d89b31f2"
   ]
  },
  {
   "cell_type": "markdown",
   "metadata": {},
   "source": [
    "Use a Random Forest regression classifier"
   ]
  },
  {
   "cell_type": "code",
   "execution_count": 19,
   "metadata": {},
   "outputs": [],
   "source": [
    "trees =35 #this value needs to be optimized\n",
    "\n",
    "rfRegression = ee.Classifier.smileRandomForest(numberOfTrees=trees, seed=111009).setOutputMode('REGRESSION').train(\n",
    "      features= training, \n",
    "      classProperty= 'Percent_Tree_Cover', \n",
    "      inputProperties= predictionBands\n",
    "    )"
   ]
  },
  {
   "cell_type": "code",
   "execution_count": 20,
   "metadata": {},
   "outputs": [],
   "source": [
    "# // Perform the RF regression on the landsat image\n",
    "rfRegressionImage = landsat.select(predictionBands).classify(rfRegression, 'y_hat');\n",
    "    \n",
    "# // Visualize the RF regression\n",
    "Map.addLayer(rfRegressionImage, {'min': 0, 'max': 100,'palette':['red','yellow', 'green', 'blue', 'purple']}, 'RF regression');"
   ]
  },
  {
   "cell_type": "markdown",
   "metadata": {},
   "source": [
    "Using Support Vector Machines"
   ]
  },
  {
   "cell_type": "code",
   "execution_count": 21,
   "metadata": {},
   "outputs": [],
   "source": [
    "# ee.Classifier.libsvm(decisionProcedure, svmType, kernelType, shrinking, degree, gamma, coef0, cost, nu, terminationEpsilon, lossEpsilon, oneClass)\n",
    "\n",
    "gamma_v =26 #this value needs to be optimized\n",
    "\n",
    "# // Create an SVM classifier with custom parameters.\n",
    "svrRegression = ee.Classifier.libsvm(svmType ='EPSILON_SVR',kernelType='RBF',gamma=gamma_v,cost=100).setOutputMode('REGRESSION').train(\n",
    "      features= training, \n",
    "      classProperty= 'Percent_Tree_Cover', \n",
    "      inputProperties= predictionBands\n",
    "    )"
   ]
  },
  {
   "cell_type": "code",
   "execution_count": 22,
   "metadata": {},
   "outputs": [],
   "source": [
    "# // Perform the RF regression on the landsat image\n",
    "svrRegressionImage = landsat.select(predictionBands).classify(svrRegression, 'y_hat');\n",
    "    \n",
    "# // Visualize the RF regression\n",
    "Map.addLayer(svrRegressionImage, {'min': 0, 'max': 100,'palette':['red','yellow', 'green', 'blue', 'purple']}, 'SVR regression');"
   ]
  },
  {
   "cell_type": "markdown",
   "metadata": {},
   "source": [
    "We need indicators of the performance of these models. We need a goodness of fit statistics. The most used is Root Mean Square Error (RMSE)"
   ]
  },
  {
   "cell_type": "code",
   "execution_count": 23,
   "metadata": {},
   "outputs": [],
   "source": [
    "# ////////////////////////////////////////////////////////////////////////////////\n",
    "# // Function to compute the sum of squared differences for the results from \n",
    "# // any Regression. This function uses the actual values stored in the \n",
    "# // 'Percent_Tree_Cover' property of the 'regression' feature collection, and the predicted \n",
    "# // values stored in the 'prediction' property.\n",
    "def set_sqError(feature):\n",
    "    feature = ee.Feature(feature)\n",
    "    actualValue = ee.Number(feature.get('Percent_Tree_Cover'))\n",
    "    predict = ee.Number(feature.get('y_hat'))\n",
    "    sqError = (actualValue.subtract(predict)).multiply(actualValue.subtract(predict))\n",
    "    feature = feature.set('sqError',sqError)\n",
    "    return feature\n"
   ]
  },
  {
   "cell_type": "markdown",
   "metadata": {},
   "source": [
    "Accuracy Assessment"
   ]
  },
  {
   "cell_type": "code",
   "execution_count": 24,
   "metadata": {},
   "outputs": [
    {
     "name": "stdout",
     "output_type": "stream",
     "text": [
      "Linear Regression RMSE: 16.582794345478863\n"
     ]
    }
   ],
   "source": [
    "# // Perform the linear regression on the test set (with constant term)\n",
    "linRegressionTesting = testing_const.classify(linRegression, 'y_hat')\n",
    "\n",
    "# // Calculate the RMSE for linear regression and print the result\n",
    "regression=linRegressionTesting.map(set_sqError)\n",
    "regression = ee.FeatureCollection(regression)\n",
    "MSE = regression.reduceColumns(ee.Reducer.mean(),['sqError'])\n",
    "RMSE =  ee.Number(MSE.get('mean')).sqrt()\n",
    "\n",
    "print('Linear Regression RMSE:',RMSE.getInfo())"
   ]
  },
  {
   "cell_type": "code",
   "execution_count": 25,
   "metadata": {},
   "outputs": [
    {
     "name": "stdout",
     "output_type": "stream",
     "text": [
      "CART Regression RMSE: 16.476776518042826\n"
     ]
    }
   ],
   "source": [
    "# // Perform the CART regression on the test set\n",
    "cartRegressionTesting = testing.classify(cartRegression, 'y_hat');\n",
    "\n",
    "# // Calculate the RMSE for CART regression and print the result\n",
    "regression=cartRegressionTesting.map(set_sqError)\n",
    "regression = ee.FeatureCollection(regression)\n",
    "MSE = regression.reduceColumns(ee.Reducer.mean(),['sqError'])\n",
    "RMSE =  ee.Number(MSE.get('mean')).sqrt()\n",
    "\n",
    "print('CART Regression RMSE:', RMSE.getInfo());"
   ]
  },
  {
   "cell_type": "code",
   "execution_count": 26,
   "metadata": {},
   "outputs": [
    {
     "name": "stdout",
     "output_type": "stream",
     "text": [
      "RF Regression RMSE: 11.085338514937723\n"
     ]
    }
   ],
   "source": [
    "# // Perform the RF regression on the test set\n",
    "rfRegressionTesting = testing.classify(rfRegression, 'y_hat');\n",
    "\n",
    "# // Calculate the RMSE for RF regression and print the result\n",
    "regression=rfRegressionTesting.map(set_sqError)\n",
    "regression = ee.FeatureCollection(regression)\n",
    "MSE = regression.reduceColumns(ee.Reducer.mean(),['sqError'])\n",
    "RMSE =  ee.Number(MSE.get('mean')).sqrt()\n",
    "\n",
    "print('RF Regression RMSE:', RMSE.getInfo());"
   ]
  },
  {
   "cell_type": "code",
   "execution_count": 27,
   "metadata": {},
   "outputs": [
    {
     "name": "stdout",
     "output_type": "stream",
     "text": [
      "SVR Regression RMSE: 11.439251126641375\n"
     ]
    }
   ],
   "source": [
    "# // Perform the SVR regression on the test set\n",
    "svrRegressionTesting = testing.classify(svrRegression, 'y_hat');\n",
    "\n",
    "# // Calculate the RMSE for RF regression and print the result\n",
    "regression=svrRegressionTesting.map(set_sqError)\n",
    "regression = ee.FeatureCollection(regression)\n",
    "MSE = regression.reduceColumns(ee.Reducer.mean(),['sqError'])\n",
    "RMSE =  ee.Number(MSE.get('mean')).sqrt()\n",
    "\n",
    "print('SVR Regression RMSE:', RMSE.getInfo());"
   ]
  },
  {
   "cell_type": "markdown",
   "metadata": {},
   "source": [
    "### BONUS: Hyperparameters tuning\n",
    "\n",
    "A random forest is a collection of random trees the predictions of which are used to compute an average (regression) or vote on a label (classification).  Note that the only parameter to the classifier is the number of trees (10).  How many trees should you use?  Making that choice is best done by hyperparameter tuning.  For example, \n"
   ]
  },
  {
   "cell_type": "code",
   "execution_count": 28,
   "metadata": {},
   "outputs": [
    {
     "name": "stdout",
     "output_type": "stream",
     "text": [
      "Min RMSE = 10.922318438553212\n",
      "Min Trees = 75\n"
     ]
    },
    {
     "data": {
      "image/png": "[encoded data removed]",
      "text/plain": [
       "<Figure size 432x288 with 1 Axes>"
      ]
     },
     "metadata": {},
     "output_type": "display_data"
    }
   ],
   "source": [
    "numTrees = ee.List.sequence(5, 500, 5)\n",
    "\n",
    "\n",
    "def trees(t):\n",
    "    rfRegression = ee.Classifier.smileRandomForest(numberOfTrees=t, seed=111009).setOutputMode('REGRESSION').train(\n",
    "    features= training, \n",
    "    classProperty= 'Percent_Tree_Cover', \n",
    "    inputProperties= predictionBands)\n",
    "    \n",
    "    rfRegressionTesting = testing.classify(rfRegression, 'y_hat')\n",
    "\n",
    "    # // Calculate the RMSE for RF regression and print the result\n",
    "    regression=rfRegressionTesting.map(set_sqError)\n",
    "    regression = ee.FeatureCollection(regression)\n",
    "    MSE = regression.reduceColumns(ee.Reducer.mean(),['sqError'])\n",
    "    RMSE =  ee.Number(MSE.get('mean')).sqrt()        \n",
    "    return RMSE\n",
    "\n",
    "\n",
    "rmse_trees=numTrees.map(trees)\n",
    "value_info = rmse_trees.getInfo()\n",
    "\n",
    "# Extracting tree value for minimum RMSE\n",
    "min_rmse=min(value_info)\n",
    "print(\"Min RMSE =\", min_rmse)\n",
    "\n",
    "index=value_info.index(min(value_info))\n",
    "trees_range = numTrees.getInfo()\n",
    "min_trees =trees_range[index]\n",
    "print(\"Min Trees =\", min_trees)\n",
    "\n",
    "# print(rmse_gama.getInfo())\n",
    "\n",
    "# Plotting the interations\n",
    "\n",
    "import pandas as pd\n",
    "df =pd.DataFrame(value_info,columns=['RMSE'])\n",
    "df['numTrees'] = numTrees.getInfo() \n",
    "\n",
    "ax =df.plot.line(x='numTrees', \n",
    "             y='RMSE',\n",
    "             title= 'Impact of Number of Trees in Random Forest'\n",
    "             )\n",
    "ax.grid()"
   ]
  },
  {
   "cell_type": "markdown",
   "metadata": {},
   "source": [
    "same for svr"
   ]
  },
  {
   "cell_type": "code",
   "execution_count": 29,
   "metadata": {},
   "outputs": [
    {
     "name": "stdout",
     "output_type": "stream",
     "text": [
      "Min RMSE = 11.292191528310628\n",
      "Min Gamma = 86\n"
     ]
    },
    {
     "data": {
      "image/png": "[encoded data removed]",
      "text/plain": [
       "<Figure size 432x288 with 1 Axes>"
      ]
     },
     "metadata": {},
     "output_type": "display_data"
    }
   ],
   "source": [
    "gamma_vals = ee.List.sequence(1, 100, 5)\n",
    "\n",
    "\n",
    "def gammas(t):\n",
    "    svrRegression = ee.Classifier.libsvm(svmType ='EPSILON_SVR',kernelType='RBF',gamma=t,cost=100).setOutputMode('REGRESSION').train(\n",
    "      features= training, \n",
    "      classProperty= 'Percent_Tree_Cover', \n",
    "      inputProperties= predictionBands\n",
    "    )\n",
    "    \n",
    "    svrRegressionTesting = testing.classify(svrRegression, 'y_hat');\n",
    "\n",
    "    # // Calculate the RMSE for RF regression and print the result\n",
    "    regression=svrRegressionTesting.map(set_sqError)\n",
    "    regression = ee.FeatureCollection(regression)\n",
    "    MSE = regression.reduceColumns(ee.Reducer.mean(),['sqError'])\n",
    "    RMSE =  ee.Number(MSE.get('mean')).sqrt()        \n",
    "    return RMSE\n",
    "\n",
    "\n",
    "rmse_gama=gamma_vals.map(gammas)\n",
    "value_info = rmse_gama.getInfo()\n",
    "\n",
    "# Extracting gamma value for minimum RMSE\n",
    "min_rmse=min(value_info)\n",
    "print(\"Min RMSE =\", min_rmse)\n",
    "\n",
    "index=value_info.index(min(value_info))\n",
    "gamma_range = gamma_vals.getInfo()\n",
    "min_gamma =gamma_range[index]\n",
    "print(\"Min Gamma =\", min_gamma)\n",
    "\n",
    "# print(rmse_gama.getInfo())\n",
    "\n",
    "# Plotting the interations\n",
    "import pandas as pd\n",
    "df =pd.DataFrame(value_info,columns=['RMSE'])\n",
    "df['Gamma'] = gamma_vals.getInfo() \n",
    "\n",
    "ax =df.plot.line(x='Gamma', \n",
    "             y='RMSE',\n",
    "             title= 'Impact of Gamma in SVR'\n",
    "             )\n",
    "ax.grid()"
   ]
  },
  {
   "cell_type": "markdown",
   "metadata": {},
   "source": [
    "### Assignment\n",
    "\n",
    "Recreate this notebook for Florida, a humid climate with a variety of forest (natural to agriculture). Make sure your SVR and Random Forest uses the tuned hyperparameters when discussing your found RMSE . Are the 4 models behaving similarly? Which model was able to model adequately Tree Percentage at Landsat resolution? Discuss it."
   ]
  },
  {
   "cell_type": "code",
   "execution_count": null,
   "metadata": {},
   "outputs": [],
   "source": []
  }
 ],
 "metadata": {
  "kernelspec": {
   "display_name": "Python 3",
   "language": "python",
   "name": "python3"
  },
  "language_info": {
   "codemirror_mode": {
    "name": "ipython",
    "version": 3
   },
   "file_extension": ".py",
   "mimetype": "text/x-python",
   "name": "python",
   "nbconvert_exporter": "python",
   "pygments_lexer": "ipython3",
   "version": "3.6.7"
  },
  "latex_envs": {
   "LaTeX_envs_menu_present": true,
   "autoclose": false,
   "autocomplete": true,
   "bibliofile": "biblio.bib",
   "cite_by": "apalike",
   "current_citInitial": 1,
   "eqLabelWithNumbers": true,
   "eqNumInitial": 1,
   "hotkeys": {
    "equation": "Ctrl-E",
    "itemize": "Ctrl-I"
   },
   "labels_anchors": false,
   "latex_user_defs": false,
   "report_style_numbering": false,
   "user_envs_cfg": false
  }
 },
 "nbformat": 4,
 "nbformat_minor": 2
}
