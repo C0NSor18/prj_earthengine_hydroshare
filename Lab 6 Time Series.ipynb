{
 "cells": [
  {
   "cell_type": "raw",
   "metadata": {},
   "source": [
    "Your name here: THE EXAMPLE MUST BE CHANGED TO PATH AND ROW"
   ]
  },
  {
   "cell_type": "markdown",
   "metadata": {},
   "source": [
    "## Lab 6: Time Series Analysis\n",
    "\n",
    "**Purpose** : The purpose of this lab is to establish a foundation for time series analysis of remotely sensed data, usually in the form of a temporally ordered stack of images.  You will be introduced to concepts of smoothing, interpolation, linear modeling and phenology.  At the completion of the lab, you will be able to perform analysis of multi-temporal data for determining trend and seasonality on a per-pixel basis.\n",
    "\n",
    "**Prerequisites** : Lab 5\n",
    "\n",
    "### 1. Multi-temporal data in Earth Engine\n",
    "\n",
    "Time series in Earth Engine are represented as image collections.  This can make time series analysis complicated because\n",
    "\n",
    "- There is a different time series in each pixel\n",
    "- The size (length) of the time series vary across pixels\n",
    "- Missing data may occur in any pixel at any time (e.g. due to cloud masking)\n",
    "\n",
    "As a result of these complicating factors, analyzing time series in Earth Engine is unlike traditional methods.  Specifically, use joins to define temporal relationships between collection items.  As you will soon discover, it's possible to perform many traditional time series methods by mapping functions over joined collections.\n",
    "\n",
    "First, some very basic notation.  A scalar pixel at time *t* is given by $p_{t}$ and a pixel vector by $P_{t}$.  An estimate is a variable with a hat on: e.g. the estimated pixel value at time is $p̂_{t}$.  A time series is just a collection of *N* pixels, sorted chronologically: ${ P_{t}; t = t_{0}...t_{N}}$, where *t* might be in any units, $t_{0}$ is the smallest and $t_{N}$ is the largest such *t* in the series.\n",
    "\n",
    "### 2. Data preparation and preprocessing\n",
    "\n",
    "The first step in analysis of time series data is to import data of interest and plot it at an interesting location.\n",
    "\n",
    "a. **Load a time series of Landsat data**\n",
    "\n",
    "- Search for Landsat 8 surface reflectance and import the &quot;USGS Landsat 8 Surface Reflectance Tier 1&quot; collection.  Name it l8sr.\n",
    "\n",
    "- Make a single point geometry with the geometry drawing tools and position the point in a location of interest.  (How about an annual grassland or a deciduous forest?)  Name the import roi.\n",
    "\n",
    "b. **Filtering, masking and preparing bands of interest**\n",
    "\n",
    "- preprocess the Landsat imagery by filtering it to the location of interest, masking clouds, and adding the variables in the model:"
   ]
  },
  {
   "cell_type": "code",
   "execution_count": 112,
   "metadata": {
    "scrolled": true
   },
   "outputs": [
    {
     "data": {
      "application/vnd.jupyter.widget-view+json": {
       "model_id": "8495ee42966b4079958539346981d8bc",
       "version_major": 2,
       "version_minor": 0
      },
      "text/plain": [
       "Map(center=[0, 0], controls=(ZoomControl(options=['position', 'zoom_in_text', 'zoom_in_title', 'zoom_out_text'…"
      ]
     },
     "metadata": {},
     "output_type": "display_data"
    },
    {
     "data": {
      "application/vnd.jupyter.widget-view+json": {
       "model_id": "2baef39d46694ef5bafc311b94f973c8",
       "version_major": 2,
       "version_minor": 0
      },
      "text/plain": [
       "Tab(children=(CustomInspector(children=(SelectMultiple(options=OrderedDict(), value=()), Accordion(selected_in…"
      ]
     },
     "metadata": {},
     "output_type": "display_data"
    }
   ],
   "source": [
    "# Initializing display and earthengine\n",
    "from IPython.display import Image\n",
    "%matplotlib inline\n",
    "\n",
    "import ee\n",
    "ee.Initialize()\n",
    "\n",
    "# importing ipygee for dynamic mapping\n",
    "from ipygee import *\n",
    "# import geetools for cloud /sadow discrimination\n",
    "from geetools import ui, cloud_mask\n",
    "\n",
    "Map = Map()  # from ipygee\n",
    "Map.show()"
   ]
  },
  {
   "cell_type": "code",
   "execution_count": 113,
   "metadata": {},
   "outputs": [],
   "source": [
    "import datetime\n",
    "from matplotlib import dates\n",
    "import matplotlib.dates as mdates\n",
    "from pylab import *"
   ]
  },
  {
   "cell_type": "code",
   "execution_count": 114,
   "metadata": {},
   "outputs": [],
   "source": [
    "l8sr = ee.ImageCollection(\"LANDSAT/LC08/C01/T1_SR\")"
   ]
  },
  {
   "cell_type": "code",
   "execution_count": 115,
   "metadata": {},
   "outputs": [],
   "source": [
    "roi = ee.Geometry.Point([-122.977389, 38.753458])\n",
    "Map.addLayer(roi, {'outline_color': 'red'}, name='Region of Interest - ROI')"
   ]
  },
  {
   "cell_type": "code",
   "execution_count": 116,
   "metadata": {},
   "outputs": [],
   "source": [
    "# // This field contains UNIX time in milliseconds.\n",
    "timeField = 'system:time_start';"
   ]
  },
  {
   "cell_type": "markdown",
   "metadata": {},
   "source": [
    "using Landsat BQA layer"
   ]
  },
  {
   "cell_type": "code",
   "execution_count": 117,
   "metadata": {},
   "outputs": [],
   "source": [
    "# CLOUD MASKING IN EE PYTHON NOT QUITE EASY. USING THE GEETOOLS custom functions https://github.com/gee-community/gee_tools \n",
    "\n",
    "# this function only for Landsat 8 Surface Corrected single image\n",
    "mask_l8SR_all = cloud_mask.landsatSR() #this function masks clouds, snow, shadows\n",
    "\n",
    "# mask_l8SR_cloud = cloud_mask.landsatSR(['cloud'])\n",
    "# mask_l8SR_shadow = cloud_mask.landsatSR(['shadow'])\n",
    "# mask_l8SR_snow = cloud_mask.landsatSR(['snow'])"
   ]
  },
  {
   "cell_type": "code",
   "execution_count": 118,
   "metadata": {},
   "outputs": [],
   "source": [
    "# creating a function for masking the entire ImmageCollection\n",
    "def maskL8sr(image):\n",
    "    cld_free=mask_l8SR_all(image)\n",
    "    return cld_free"
   ]
  },
  {
   "cell_type": "code",
   "execution_count": 119,
   "metadata": {},
   "outputs": [],
   "source": [
    "# // Use this function to add variables for NDVI, time and a constant\n",
    "# // to Landsat 8 imagery.\n",
    "def addVariables(image):\n",
    "    #   // Compute time in fractional years since the epoch.\n",
    "    date = ee.Date(image.get(timeField))\n",
    "    years = date.difference(ee.Date('1970-01-01'), 'year')\n",
    "    #   // Return the image with the added bands.\n",
    "    return image.\\\n",
    "    addBands(image.normalizedDifference(['B5', 'B4']).rename('NDVI')).\\\n",
    "    addBands(ee.Image(years).rename('t')).\\\n",
    "    float().\\\n",
    "    addBands(ee.Image.constant(1))\n",
    "\n",
    "\n",
    "# // Remove clouds, add variables and filter to the area of interest.\n",
    "filteredLandsat = l8sr.\\\n",
    "  filterBounds(roi).\\\n",
    "  map(maskL8sr).\\\n",
    "  map(addVariables)"
   ]
  },
  {
   "cell_type": "markdown",
   "metadata": {},
   "source": [
    "c. **Plot the time series at the location of interest**\n",
    "\n",
    "- To visualize the data, make a chart at the location of interest.  "
   ]
  },
  {
   "cell_type": "code",
   "execution_count": 120,
   "metadata": {},
   "outputs": [],
   "source": [
    "info = filteredLandsat.getRegion(roi,30).getInfo()# 30 is Landsat resolution\n",
    "\n"
   ]
  },
  {
   "cell_type": "markdown",
   "metadata": {},
   "source": [
    "We separate the information returned into column headers and data."
   ]
  },
  {
   "cell_type": "code",
   "execution_count": 121,
   "metadata": {},
   "outputs": [
    {
     "name": "stdout",
     "output_type": "stream",
     "text": [
      "['id', 'longitude', 'latitude', 'time', 'B1', 'B2', 'B3', 'B4', 'B5', 'B6', 'B7', 'B10', 'B11', 'sr_aerosol', 'pixel_qa', 'radsat_qa', 'NDVI', 't', 'constant']\n"
     ]
    }
   ],
   "source": [
    "# extract the header column names\n",
    "print(info[0])\n",
    "header = info[0]\n",
    "# create a Numpy array of the data\n",
    "data = array(info[1:])"
   ]
  },
  {
   "cell_type": "markdown",
   "metadata": {},
   "source": [
    "Next we extract time information and convert it to at Python datatime data type."
   ]
  },
  {
   "cell_type": "code",
   "execution_count": 122,
   "metadata": {},
   "outputs": [],
   "source": [
    "# extract the time information\n",
    "iTime = header.index('time')\n",
    "# convert to Python datetime objects\n",
    "time = [datetime.datetime.fromtimestamp(i/1000) for i in (data[0:,iTime].astype(int))]"
   ]
  },
  {
   "cell_type": "markdown",
   "metadata": {},
   "source": [
    "Extract the data columns what we want to display on the plot."
   ]
  },
  {
   "cell_type": "code",
   "execution_count": 123,
   "metadata": {},
   "outputs": [],
   "source": [
    "xBand = 'time'\n",
    "yBandList = [\n",
    "        'NDVI',\n",
    "        u'B10' #B10 is a thermal band in Landsat\n",
    "        ]"
   ]
  },
  {
   "cell_type": "code",
   "execution_count": 124,
   "metadata": {},
   "outputs": [],
   "source": [
    "iBands = [header.index(b) for b in yBandList]\n",
    "yData = data[0:,iBands].astype(np.float)"
   ]
  },
  {
   "cell_type": "code",
   "execution_count": 125,
   "metadata": {},
   "outputs": [
    {
     "data": {
      "image/png": "[encoded data removed]",
      "text/plain": [
       "<Figure size 960x640 with 2 Axes>"
      ]
     },
     "metadata": {},
     "output_type": "display_data"
    }
   ],
   "source": [
    "# matplotlib date format object\n",
    "\n",
    "fig = figure(figsize=(12, 8), dpi=80)\n",
    "\n",
    "# plot the band values\n",
    "ax1 = fig.add_subplot(211)\n",
    "ax1.plot(time,\n",
    "         yData[:, -1] * 0.1 - 273.15,\n",
    "         'o',\n",
    "         color=\"red\",\n",
    "         label=\"Temperature Celsius\")\n",
    "# ax1.plot(time, yData[:,3], 'o', color=\"magenta\",  label=\"Band 4\")\n",
    "ax1.legend(loc='best')\n",
    "ax1.grid(True)\n",
    "\n",
    "#plt.title('Band values as a function of time')\n",
    "ax1.set_ylabel('Temperature Celsius')\n",
    "\n",
    "# plot NDVI\n",
    "ax2 = fig.add_subplot(212, sharex=ax1)\n",
    "ax2.plot(time, yData[:, 0], 'o', color=\"black\", label=\"NDVI\")\n",
    "ax2.legend(loc='best')\n",
    "ax2.grid(True)\n",
    "start, end = ax2.get_xlim()\n",
    "ax2.xaxis.set_ticks(np.arange(start, end, 64.5))\n",
    "\n",
    "# Format the ticks.\n",
    "years = mdates.YearLocator()  # every year\n",
    "months = mdates.MonthLocator()  # every month\n",
    "yearsFmt = mdates.DateFormatter('%Y')\n",
    "\n",
    "ax2.set_ylabel('NDVI')\n",
    "\n",
    "ax2.xaxis.set_major_locator(years)\n",
    "ax2.xaxis.set_major_formatter(yearsFmt)\n",
    "ax2.xaxis.set_minor_locator(months)"
   ]
  },
  {
   "cell_type": "markdown",
   "metadata": {},
   "source": [
    "### 3. Linear modeling of time\n",
    "Lots of interesting analyses can be done to time series by harnessing the linearRegression() reducer.  For example,\n",
    "\n",
    "a. **Estimate linear trend over time\n",
    "\n",
    "Consider the following linear model, where et is a random error:\n",
    "\n",
    "pt = β0 + β1t + et\t\t\t(1)\n",
    "\n",
    "This is the model behind the trendline added to the chart you just created.  This model is useful for detrending data and reducing stationarity in the time series (Shumway and Stoffer 2017).  For now, the goal is to discover the values of the β's in each pixel.\n",
    "\n",
    "To fit this trend model to the Landsat-based NDVI series using ordinary least squares (see Lab 5), use the linearRegression() reducer:\n"
   ]
  },
  {
   "cell_type": "code",
   "execution_count": 126,
   "metadata": {},
   "outputs": [],
   "source": [
    "# // List of the independent variable names\n",
    "independents = ee.List(['constant', 't'])\n",
    "\n",
    "# // Name of the dependent variable.\n",
    "dependent = ee.String('NDVI')\n",
    "\n",
    "# // Compute a linear trend.  This will have two bands: 'residuals' and\n",
    "# // a 2x1 band called coefficients (columns are for dependent variables).\n",
    "trend = filteredLandsat.select(independents.add(dependent)).\\\n",
    "    reduce(ee.Reducer.linearRegression(independents.length(), 1))\n",
    "\n",
    "Map.addLayer(trend, {}, 'trend array image')\n",
    "Map.centerObject(roi.buffer(1000))  #centering the map to landsat scene\n",
    "\n",
    "# // Flatten the coefficients into a 2-band image\n",
    "coefficients = trend.select('coefficients').\\\n",
    "  arrayProject([0]).\\\n",
    "  arrayFlatten([independents])"
   ]
  },
  {
   "cell_type": "markdown",
   "metadata": {},
   "source": [
    "The coefficients image is a two band image in which each pixel contains values for β0 and β1.   \n",
    "\n",
    "- Use the model to \"detrend\" the original NDVI time series:\n"
   ]
  },
  {
   "cell_type": "code",
   "execution_count": 127,
   "metadata": {},
   "outputs": [],
   "source": [
    "# // Compute a de-trended series.\n",
    "\n",
    "\n",
    "def detrend(image):\n",
    "    return image.select(dependent).subtract(\n",
    "          image.select(independents).multiply(coefficients).reduce('sum')).\\\n",
    "          rename(dependent).\\\n",
    "          copyProperties(image, [timeField])\n",
    "\n",
    "\n",
    "detrended = filteredLandsat.map(detrend)"
   ]
  },
  {
   "cell_type": "code",
   "execution_count": 128,
   "metadata": {},
   "outputs": [],
   "source": [
    "info = detrended.getRegion(roi,30).getInfo()"
   ]
  },
  {
   "cell_type": "markdown",
   "metadata": {},
   "source": [
    "We separate the information returned into column headers and data."
   ]
  },
  {
   "cell_type": "code",
   "execution_count": 129,
   "metadata": {},
   "outputs": [
    {
     "name": "stdout",
     "output_type": "stream",
     "text": [
      "['id', 'longitude', 'latitude', 'time', 'NDVI']\n"
     ]
    }
   ],
   "source": [
    "# extract the header column names\n",
    "print(info[0])\n",
    "header = info[0]\n",
    "# create a Numpy array of the data\n",
    "data = array(info[1:])"
   ]
  },
  {
   "cell_type": "markdown",
   "metadata": {},
   "source": [
    "Next we extract time information and convert it to at Python datatime data type."
   ]
  },
  {
   "cell_type": "code",
   "execution_count": 130,
   "metadata": {},
   "outputs": [],
   "source": [
    "# extract the time information\n",
    "iTime = header.index('time')\n",
    "# convert to Python datetime objects\n",
    "time = [datetime.datetime.fromtimestamp(i/1000) for i in (data[0:,iTime].astype(int))]"
   ]
  },
  {
   "cell_type": "code",
   "execution_count": 131,
   "metadata": {},
   "outputs": [],
   "source": [
    "xBand = 'time'\n",
    "yBandList = [\n",
    "        'NDVI'\n",
    "        ]"
   ]
  },
  {
   "cell_type": "code",
   "execution_count": 132,
   "metadata": {},
   "outputs": [],
   "source": [
    "iBands = [header.index(b) for b in yBandList]\n",
    "yData = data[0:, iBands].astype(np.float)"
   ]
  },
  {
   "cell_type": "code",
   "execution_count": 133,
   "metadata": {},
   "outputs": [
    {
     "data": {
      "image/png": "[encoded data removed]",
      "text/plain": [
       "<Figure size 960x640 with 1 Axes>"
      ]
     },
     "metadata": {},
     "output_type": "display_data"
    }
   ],
   "source": [
    "# // Plot the detrended results.\n",
    "# var detrendedChart = ui.Chart.image.series(detrended, roi, null, 30)\n",
    "#     .setOptions({\n",
    "#       title: 'Detrended Landsat time series at ROI',\n",
    "#       lineWidth: 1,\n",
    "#       pointSize: 3,\n",
    "#     });\n",
    "# print(detrendedChart);\n",
    "\n",
    "fig = figure(figsize=(12, 8), dpi=80)\n",
    "\n",
    "# plot detrended\n",
    "ax2 = fig.add_subplot(211)\n",
    "ax2.plot(time, yData[:, 0], 'o', color=\"black\", label=\"NDVI\")\n",
    "ax2.legend(loc='best')\n",
    "ax2.grid(True)\n",
    "start, end = ax2.get_xlim()\n",
    "ax2.xaxis.set_ticks(np.arange(start, end, 64.5))\n",
    "\n",
    "# Format the ticks.\n",
    "years = mdates.YearLocator()  # every year\n",
    "months = mdates.MonthLocator()  # every month\n",
    "yearsFmt = mdates.DateFormatter('%Y')\n",
    "\n",
    "ax2.set_ylabel('NDVI')\n",
    "\n",
    "ax2.xaxis.set_major_locator(years)\n",
    "ax2.xaxis.set_major_formatter(yearsFmt)\n",
    "ax2.xaxis.set_minor_locator(months)"
   ]
  },
  {
   "cell_type": "markdown",
   "metadata": {},
   "source": [
    "### d. Estimate seasonality with a harmonic model\n",
    "\n",
    "Consider the following linear model, where et is a random error, A is amplitude, ω is frequency, and φ is phase:\n",
    "\n",
    "pt = β0 + β1t + Acos(2πωt - φ) + et \n",
    "\n",
    "    = β0 + β1t + β2cos(2πωt) + β3sin(2πωt) + et\t\t(2)\n",
    "\n",
    "Note that β2 = Acos(φ) and β3 = Asin(φ), implying A = (β22 + β32)½ and φ = atan(β3/β2).  (See Shumway and Stoffer (2017) equations 4.1 - 4.2).  To fit this model to the time series, set ω=1 (one cycle per unit time) and use ordinary least squares regression.\n",
    "\n",
    "- The setup for fitting the model is to first add the harmonic variables (the third and fourth terms of equation 2) to the image collection.\n"
   ]
  },
  {
   "cell_type": "code",
   "execution_count": 134,
   "metadata": {},
   "outputs": [],
   "source": [
    "# // Use these independent variables in the harmonic regression.\n",
    "harmonicIndependents = ee.List(['constant', 't', 'cos', 'sin'])\n",
    "\n",
    "\n",
    "# // Add harmonic terms as new image bands.\n",
    "def harmonic_terms(image):\n",
    "    timeRadians = image.select('t').multiply(2 * 3.1416)\n",
    "    return image.\\\n",
    "    addBands(timeRadians.cos().rename('cos')).\\\n",
    "    addBands(timeRadians.sin().rename('sin'))\n",
    "\n",
    "\n",
    "harmonicLandsat = filteredLandsat.map(harmonic_terms)"
   ]
  },
  {
   "cell_type": "markdown",
   "metadata": {},
   "source": [
    "- Fit the model as with the linear trend, using the linearRegression() reducer:\n"
   ]
  },
  {
   "cell_type": "code",
   "execution_count": 135,
   "metadata": {},
   "outputs": [],
   "source": [
    "harmonicTrend = harmonicLandsat.\\\n",
    "  select(harmonicIndependents.add(dependent)).\\\n",
    "  reduce(ee.Reducer.linearRegression(\n",
    "    numX= harmonicIndependents.length(),\n",
    "    numY= 1\n",
    "))"
   ]
  },
  {
   "cell_type": "markdown",
   "metadata": {},
   "source": [
    "- Plug the coefficients in to equation 2 in order to get a time series of fitted values:\n"
   ]
  },
  {
   "cell_type": "code",
   "execution_count": 136,
   "metadata": {},
   "outputs": [],
   "source": [
    "# // Turn the array image into a multi-band image of coefficients.\n",
    "harmonicTrendCoefficients = harmonicTrend.select('coefficients').\\\n",
    "  arrayProject([0]).\\\n",
    "  arrayFlatten([harmonicIndependents])\n",
    "\n",
    "\n",
    "# // Compute fitted values.\n",
    "def fitting_harm(image):\n",
    "    return image.addBands(\n",
    "    image.select(harmonicIndependents).\\\n",
    "      multiply(harmonicTrendCoefficients).\\\n",
    "      reduce('sum').\\\n",
    "      rename('fitted'))\n",
    "\n",
    "\n",
    "fittedHarmonic = harmonicLandsat.map(fitting_harm)"
   ]
  },
  {
   "cell_type": "code",
   "execution_count": 137,
   "metadata": {},
   "outputs": [],
   "source": [
    "info = fittedHarmonic.getRegion(roi,30).getInfo()"
   ]
  },
  {
   "cell_type": "markdown",
   "metadata": {},
   "source": [
    "We separate the information returned into column headers and data."
   ]
  },
  {
   "cell_type": "code",
   "execution_count": 138,
   "metadata": {},
   "outputs": [
    {
     "name": "stdout",
     "output_type": "stream",
     "text": [
      "['id', 'longitude', 'latitude', 'time', 'B1', 'B2', 'B3', 'B4', 'B5', 'B6', 'B7', 'B10', 'B11', 'sr_aerosol', 'pixel_qa', 'radsat_qa', 'NDVI', 't', 'constant', 'cos', 'sin', 'fitted']\n"
     ]
    }
   ],
   "source": [
    "# extract the header column names\n",
    "print(info[0])\n",
    "header = info[0]\n",
    "# create a Numpy array of the data\n",
    "data = array(info[1:])"
   ]
  },
  {
   "cell_type": "markdown",
   "metadata": {},
   "source": [
    "Next we extract time information and convert it to at Python datatime data type."
   ]
  },
  {
   "cell_type": "code",
   "execution_count": 139,
   "metadata": {},
   "outputs": [],
   "source": [
    "# extract the time information\n",
    "iTime = header.index('time')\n",
    "# convert to Python datetime objects\n",
    "time = [datetime.datetime.fromtimestamp(i/1000) for i in (data[0:,iTime].astype(int))]"
   ]
  },
  {
   "cell_type": "code",
   "execution_count": 140,
   "metadata": {},
   "outputs": [],
   "source": [
    "xBand = 'time'\n",
    "yBandList = [\n",
    "        'NDVI',\n",
    "        'fitted'\n",
    "        ]"
   ]
  },
  {
   "cell_type": "code",
   "execution_count": 141,
   "metadata": {},
   "outputs": [],
   "source": [
    "iBands = [header.index(b) for b in yBandList]\n",
    "yData = data[0:,iBands].astype(np.float)"
   ]
  },
  {
   "cell_type": "code",
   "execution_count": 142,
   "metadata": {},
   "outputs": [
    {
     "data": {
      "image/png": "[encoded data removed]",
      "text/plain": [
       "<Figure size 960x640 with 1 Axes>"
      ]
     },
     "metadata": {},
     "output_type": "display_data"
    }
   ],
   "source": [
    "# // Plot the detrended results.\n",
    "# var detrendedChart = ui.Chart.image.series(detrended, roi, null, 30)\n",
    "#     .setOptions({\n",
    "#       title: 'Detrended Landsat time series at ROI',\n",
    "#       lineWidth: 1,\n",
    "#       pointSize: 3,\n",
    "#     });\n",
    "# print(detrendedChart);\n",
    "\n",
    "fig = figure(figsize=(12,8), dpi=80)\n",
    "\n",
    "# plot detrended\n",
    "ax2 = fig.add_subplot(211)\n",
    "ax2.plot(time, yData[:,-2], 'o', color=\"red\", label=\"NDVI\")\n",
    "ax2.plot(time, yData[:,-1], 'o', color=\"blue\",  label=\"Harmonic Fitting\")\n",
    "ax2.legend(loc='best')\n",
    "ax2.grid(True)\n",
    "start, end = ax2.get_xlim()\n",
    "ax2.xaxis.set_ticks(np.arange(start, end, 64.5))\n",
    "\n",
    "# Format the ticks.\n",
    "years    = mdates.YearLocator()   # every year\n",
    "months   = mdates.MonthLocator()  # every month\n",
    "yearsFmt = mdates.DateFormatter('%Y')\n",
    "\n",
    "ax2.set_ylabel('NDVI')\n",
    "\n",
    "ax2.xaxis.set_major_locator(years)\n",
    "ax2.xaxis.set_major_formatter(yearsFmt)\n",
    "ax2.xaxis.set_minor_locator(months)"
   ]
  },
  {
   "cell_type": "markdown",
   "metadata": {},
   "source": [
    "- Although any coefficients can be mapped directly, it is useful and interesting to map the phase and amplitude of the estimated harmonic model.  First, compute phase and amplitude from the coefficients, then map:"
   ]
  },
  {
   "cell_type": "code",
   "execution_count": 143,
   "metadata": {},
   "outputs": [],
   "source": [
    "# // Compute phase and amplitude.\n",
    "phase = harmonicTrendCoefficients.select('sin').\\\n",
    "    atan2(harmonicTrendCoefficients.select('cos')).\\\n",
    "    unitScale(-3.1416, 3.1416);\n",
    "    \n",
    "amplitude = harmonicTrendCoefficients.select('sin').\\\n",
    "    hypot(harmonicTrendCoefficients.select('cos')).\\\n",
    "    multiply(5);#     // Add a scale factor for visualization.\n",
    "\n",
    "# // Compute the mean NDVI.\n",
    "meanNdvi= filteredLandsat.select('NDVI').mean();\n",
    "\n",
    "# // Use the HSV to RGB transform to display phase and amplitude.\n",
    "rgb = ee.Image.cat([\n",
    "  phase,      #// hue\n",
    "  amplitude,  #// saturation (difference from white)\n",
    "  meanNdvi    #// value (difference from black)\n",
    "]).hsvToRgb();\n",
    "\n",
    "Map.addLayer(rgb, {}, 'phase (hue), amplitude (sat), ndvi (val');\n"
   ]
  },
  {
   "cell_type": "markdown",
   "metadata": {},
   "source": [
    "- More on harmonic models\n",
    "\n",
    "It's worth noting that a time series can be decomposed as the sum of sinusoids at different frequencies (See Shumway and Stoffer (2017), equation 4.7).  The harmonic model presented here can be easily extended in this manner by adding bands that represent higher frequencies (e.g. timeRadians.multiply(2).cos().rename('cos2') and the corresponding sin() band for a harmonic component with two cycles per year) and amending the harmonicIndependents variable accordingly.  If you're feeling plucky, check out this implementation of that idea for an arbitrary number of harmonic terms.  While this will undoubtedly improve the goodness-of-fit of the model, many of the coefficients may be close zero.  To estimate the importance of terms representing seasonality or higher-frequency harmonic behavior (e.g. double-cropping), an F-statistic can be used when the model assumptions are satisfied.  See for example, Shumway and Stoffer (2017), equation 2.11.\n"
   ]
  },
  {
   "cell_type": "markdown",
   "metadata": {},
   "source": [
    "### 4. Autocovariance and autocorrelation\n",
    "The autocovariance of a time series refers to the dependence (specifically the covariance) of values in the time series at time t with values at time h = t − l, where l is the lag.  The autocorrelation is the covariance normalized by the standard deviations of the covariates.  Specifically, assume our time series is stationary and define the autocovariance and autocorrelation according to Shumway and Stoffer (2017) equations 1.27 and 1.26, respectively.  Comparing values at time t to previous values is useful not only for computing autocovariance, but also for a variety of other time series analyses as well, as you'll see shortly.  \n",
    "\n",
    "To combine image data with previous values, in Earth Engine, the first step is to join the previous values to the current values.  To do that, use a join to create what we'll call a lagged collection:\n",
    "\n",
    "a. **Create a lagged ImageCollection**\n",
    "\n",
    "Consider the following function to create a lagged collection:\n"
   ]
  },
  {
   "cell_type": "code",
   "execution_count": 144,
   "metadata": {},
   "outputs": [],
   "source": [
    "def lag(leftCollection, rightCollection, lagDays):\n",
    "    filter = ee.Filter.And(ee.Filter.maxDifference(\n",
    "      difference= 1000 * 60 * 60 * 24 * lagDays,\n",
    "      leftField= timeField, \n",
    "      rightField= timeField\n",
    "    ), \n",
    "    ee.Filter.greaterThan(\n",
    "      leftField= timeField, \n",
    "      rightField= timeField\n",
    "  ))\n",
    "    return ee.Join.saveAll(\n",
    "    matchesKey= 'images',\n",
    "    measureKey= 'delta_t',\n",
    "    ordering= timeField, \n",
    "    ascending= False).apply(\n",
    "    primary= leftCollection, \n",
    "    secondary= rightCollection, \n",
    "    condition=filter\n",
    "  )"
   ]
  },
  {
   "cell_type": "markdown",
   "metadata": {},
   "source": [
    "This function joins a collection to itself, using a filter that gets all the images before but within a specified time difference (in days) of each image.  That list of previous images within the lag time is stored in a property of the image called images, sorted reverse chronologically.  For example, to create a lagged collection from the detrended Landsat imagery:\n"
   ]
  },
  {
   "cell_type": "code",
   "execution_count": 145,
   "metadata": {},
   "outputs": [],
   "source": [
    "lagged17 = lag(detrended, detrended, 17);\n"
   ]
  },
  {
   "cell_type": "markdown",
   "metadata": {},
   "source": [
    "Why 17 days?  Recall that the temporal cadence of Landsat is 16 days.  Specifying 17 days in the join gets one previous image, but no more.  To compute autocovariance or other interesting statistics, map functions over the lagged collection as in the following sections.\n"
   ]
  },
  {
   "cell_type": "markdown",
   "metadata": {},
   "source": [
    "b. **Compute autocovariance and autocorrelation**\n",
    "\n",
    "- The autocovariance reducer expects a set of one-dimensional arrays as input.  So pixel values corresponding to time t need to be stacked with pixel values at time t − l as multiple bands in the same image.  Consider the the following function for that purpose:\n"
   ]
  },
  {
   "cell_type": "code",
   "execution_count": 146,
   "metadata": {},
   "outputs": [],
   "source": [
    "def merger(current, previous):\n",
    "    return ee.Image(previous).addBands(current)\n",
    "\n",
    "\n",
    "def merge(image):\n",
    "#   // Function to be passed to iterate.\n",
    "    return ee.ImageCollection.fromImages(image.get('images')).iterate(merger, image);\n",
    "\n"
   ]
  },
  {
   "cell_type": "markdown",
   "metadata": {},
   "source": [
    "\t\t...and use that function to merge the bands from the lagged collection:\n"
   ]
  },
  {
   "cell_type": "code",
   "execution_count": 147,
   "metadata": {},
   "outputs": [],
   "source": [
    "merged17 = ee.ImageCollection(lagged17.map(merge));\n"
   ]
  },
  {
   "cell_type": "markdown",
   "metadata": {},
   "source": [
    "- Now the bands from time t and h are all in the same image.  Note that the band name of ph was the same as pt.  During the merging process, it gets a '_1' appended to it.  Use a function to convert the merged bands to arrays with bands pt and ph, then reduce with the covariance reducer:"
   ]
  },
  {
   "cell_type": "code",
   "execution_count": 148,
   "metadata": {},
   "outputs": [],
   "source": [
    "def imarray(image):\n",
    "    return image.toArray();\n",
    "\n",
    "\n",
    "def covariance(mergedCollection, band, lagBand):\n",
    "    return mergedCollection.select([band, lagBand]).map(imarray).reduce(ee.Reducer.covariance(), 8);\n",
    "\n",
    "\n",
    "lagBand = dependent.cat('_1');\n",
    "covariance17 = ee.Image(covariance(merged17, dependent, lagBand))"
   ]
  },
  {
   "cell_type": "markdown",
   "metadata": {},
   "source": [
    "- The output of the covariance reducer is an array image, in which each pixel stores a 2x2 variance-covariance array.  The off diagonal elements are covariance, which you can map directly:"
   ]
  },
  {
   "cell_type": "code",
   "execution_count": 149,
   "metadata": {},
   "outputs": [],
   "source": [
    "# Map.addLayer(covariance17.arrayGet([0, 1]), {'max': 0.1,'min':-0.1,'palette':['white', 'blue']}, 'covariance (lag=17 days)');\n"
   ]
  },
  {
   "cell_type": "markdown",
   "metadata": {},
   "source": [
    "- The diagonal elements of the variance-covariance array are variances.  Use this function to compute correlation from the variance-covariance array:"
   ]
  },
  {
   "cell_type": "code",
   "execution_count": 150,
   "metadata": {},
   "outputs": [],
   "source": [
    "def correlation(vcArrayImage):\n",
    "    covariance = ee.Image(vcArrayImage).arrayGet([0, 1]);\n",
    "    sd0 = ee.Image(vcArrayImage).arrayGet([0, 0]).sqrt();\n",
    "    sd1 = ee.Image(vcArrayImage).arrayGet([1, 1]).sqrt();\n",
    "    return covariance.divide(sd0).divide(sd1).rename('correlation')\n",
    "\n"
   ]
  },
  {
   "cell_type": "markdown",
   "metadata": {},
   "source": [
    "\t\t...and map the correlation:\n"
   ]
  },
  {
   "cell_type": "code",
   "execution_count": 151,
   "metadata": {},
   "outputs": [],
   "source": [
    "correlation17 = correlation(covariance17);\n",
    "Map.addLayer(correlation17, {min: -1, max: 1,'palette':['blue','white', 'red']}, 'correlation (lag = 17 days)');\n"
   ]
  },
  {
   "cell_type": "markdown",
   "metadata": {},
   "source": [
    "It's worth noting that you can do this for longer lags as well (try 34 days) in Cell 34.  Of course, that images list will fill up with all the images that are within l of t.  Those other images are also useful, for example in fitting autoregressive models as described later."
   ]
  },
  {
   "cell_type": "markdown",
   "metadata": {},
   "source": [
    "### 5 Cross-covariance and Cross-correlation\n",
    "\n",
    "Cross-covariance is analogous to auto-covariance, except instead of measuring the correspondence between a variable and itself at a lag, it measure the correspondence between a variable and a covariate at a lag.  Specifically, define the cross-covariance and cross-correlation according to Shumway and Stoffer (2017) equations 1.30 and 1.31, respectively.  \n",
    "\n",
    "You already have all the code needed to compute cross-covariance and cross-correlation!  But you do need a time series of another variable.  Suppose we postulate that NDVI is related in some way to the precipitation before the NDVI was observed.  To estimate the strength of this relationship (in every pixel), load precipitation, join, merge, and reduce as previously:\n"
   ]
  },
  {
   "cell_type": "code",
   "execution_count": 152,
   "metadata": {},
   "outputs": [],
   "source": [
    "# // Precipitation (covariate)\n",
    "chirps = ee.ImageCollection('UCSB-CHG/CHIRPS/PENTAD');\n",
    "\n",
    "# // Join the t-l (l=1 pentad) precipitation images to the Landsat.\n",
    "lag1PrecipNDVI = lag(filteredLandsat, chirps, 5);\n",
    "\n",
    "# // Add the precipitation images as bands.\n",
    "merged1PrecipNDVI = ee.ImageCollection(lag1PrecipNDVI.map(merge));\n",
    "\n",
    "# // Compute and display cross-covariance.\n",
    "cov1PrecipNDVI = covariance(merged1PrecipNDVI, 'NDVI', 'precipitation');\n",
    "# Map.addLayer(cov1PrecipNDVI.arrayGet([0, 1]), {}, 'NDVI - PRECIP cov (lag = 5)');\n",
    "\n",
    "# // Compute and display cross-correlation.\n",
    "corr1PrecipNDVI = correlation(cov1PrecipNDVI);\n",
    "Map.addLayer(corr1PrecipNDVI, {min: -1, max: 1,'palette':['blue','white', 'red']}, 'NDVI - PRECIP corr (lag = 5)');\n"
   ]
  },
  {
   "cell_type": "markdown",
   "metadata": {},
   "source": [
    "What do you observe from this result?  Specifically, how can we do better?  One possible drawback of this computation is that it's only based on five days of precipitation, whichever five days came right before the NDVI image.  Perhaps precipitation in the month before the observed NDVI is relevant?  Test that idea with the following:"
   ]
  },
  {
   "cell_type": "code",
   "execution_count": 153,
   "metadata": {},
   "outputs": [],
   "source": [
    "# // Join the precipitation images from the previous month\n",
    "lag30PrecipNDVI = lag(filteredLandsat, chirps, 30);\n",
    "# print(lag30PrecipNDVI.getInfo());\n",
    "\n",
    "def imagesum(image):\n",
    "    laggedImages = ee.ImageCollection.fromImages(image.get('images'));\n",
    "    return ee.Image(image).addBands(laggedImages.sum().rename('sum'));\n",
    "\n",
    "\n",
    "sum30PrecipNDVI = ee.ImageCollection(lag30PrecipNDVI.map(imagesum));\n",
    "\n",
    "# // Compute covariance.\n",
    "cov30PrecipNDVI = covariance(sum30PrecipNDVI, 'NDVI', 'sum');\n",
    "# Map.addLayer(cov1PrecipNDVI.arrayGet([0, 1]), {}, 'NDVI - sum cov (lag = 30)');\n",
    "\n",
    "# // Correlation.\n",
    "corr30PrecipNDVI = correlation(cov30PrecipNDVI);\n",
    "Map.addLayer(corr30PrecipNDVI, {min: -0.5, max: 0.5,'palette':['blue','white', 'red']}, 'NDVI - sum corr (lag = 30)');\n"
   ]
  },
  {
   "cell_type": "markdown",
   "metadata": {},
   "source": [
    "Observe that the only change is to the merge() method.  Instead of merging the bands of the NDVI image and the covariate (precipitation), the entire list of precipitation is summed and added as a band (eliminating the need for iterate()).\n",
    "\n",
    "As long as there is sufficient temporal overlap between the time series, these techniques can be extended to longer lags and longer time series.  But watch out.  There are some nuances to determining the statistical significance of correlation estimates.  See Shumway and Stoffer (2017) example 1.26 for details.\n"
   ]
  },
  {
   "cell_type": "markdown",
   "metadata": {},
   "source": [
    "### 6. Auto-regressive models\n",
    "\n",
    "The discussion of autocovariance preceded this section in order to introduce the concept of lag.  Now that you have a way to get previous values of a variable, it's worth considering auto-regressive models.  Suppose that pixel values at time t depend in some way on previous pixel values.  If you have observed significant, non-zero autocorrelations in a time series, this may not be a crazy assumption.  Specifically, you may postulate a linear model such as:\n",
    "\n",
    "pt = β0 + β1pt-1 + β2pt-2 + et\t\t\t\t\t(3)\n",
    "\n",
    "To fit this model, you need a lagged collection as created previously except with a longer lag (e.g. l = 34 days).  The next steps are to merge the bands, then reduce with the linear regression reducer.\n",
    "\n",
    "- Create a lagged collection, where the images list stores the two previous images:"
   ]
  },
  {
   "cell_type": "code",
   "execution_count": 154,
   "metadata": {},
   "outputs": [],
   "source": [
    "lagged34 = ee.ImageCollection(lag(filteredLandsat, filteredLandsat, 34));\n"
   ]
  },
  {
   "cell_type": "markdown",
   "metadata": {},
   "source": [
    "- Merge the bands of the lagged collection such that each image has bands at time t and bands at times t-1,..., t − l.  Note that it's necessary to filter out any images that don't have two previous temporal neighbors:"
   ]
  },
  {
   "cell_type": "code",
   "execution_count": 155,
   "metadata": {},
   "outputs": [],
   "source": [
    "def imlist(image):\n",
    "    return image.set('n', ee.List(image.get('images')).length())\n",
    "\n",
    "\n",
    "merged34 = lagged34.map(merge).map(imlist).filter(ee.Filter.gt('n', 1));\n"
   ]
  },
  {
   "cell_type": "markdown",
   "metadata": {},
   "source": [
    "- Fit the regression model using the linearRegression() reducer:\n"
   ]
  },
  {
   "cell_type": "code",
   "execution_count": 156,
   "metadata": {},
   "outputs": [],
   "source": [
    "arIndependents = ee.List(['constant', 'NDVI_1', 'NDVI_2']);\n",
    "\n",
    "ar2 = merged34.\\\n",
    "  select(arIndependents.add(dependent)).\\\n",
    "  reduce(ee.Reducer.linearRegression(arIndependents.length(), 1));\n",
    "\n",
    "# // Turn the array image into a multi-band image of coefficients.\n",
    "arCoefficients = ar2.select('coefficients').\\\n",
    "  arrayProject([0]).\\\n",
    "  arrayFlatten([arIndependents]);\n"
   ]
  },
  {
   "cell_type": "markdown",
   "metadata": {},
   "source": [
    "- Compute the fitted values using an expression.  Because this model is a function of previous pixel values, which may be masked, if any of the inputs to equation 3 are masked, the output of the equation will also be masked.  That's why you should use an expression here, unlike the previous linear models of time."
   ]
  },
  {
   "cell_type": "code",
   "execution_count": 157,
   "metadata": {},
   "outputs": [],
   "source": [
    "# // Compute fitted values.\n",
    "def imcoefs(image):\n",
    "    return image.addBands(\n",
    "        image.expression('beta0 + beta1 * p1 + beta2 * p2', {\n",
    "          'p1':image.select('NDVI_1'),\n",
    "          'p2': image.select('NDVI_2'),\n",
    "          'beta0': arCoefficients.select('constant'),\n",
    "          'beta1': arCoefficients.select('NDVI_1'),\n",
    "          'beta2': arCoefficients.select('NDVI_2')\n",
    "            }).rename('fitted'));\n",
    "    \n",
    "fittedAR = merged34.map(imcoefs)\n"
   ]
  },
  {
   "cell_type": "markdown",
   "metadata": {},
   "source": [
    "- Plot the results.  Note the missing values that result from masked data.\n"
   ]
  },
  {
   "cell_type": "code",
   "execution_count": 158,
   "metadata": {},
   "outputs": [],
   "source": [
    "info = fittedAR.getRegion(roi,30).getInfo()"
   ]
  },
  {
   "cell_type": "markdown",
   "metadata": {},
   "source": [
    "We separate the information returned into column headers and data."
   ]
  },
  {
   "cell_type": "code",
   "execution_count": 159,
   "metadata": {},
   "outputs": [
    {
     "name": "stdout",
     "output_type": "stream",
     "text": [
      "['id', 'longitude', 'latitude', 'time', 'B1', 'B2', 'B3', 'B4', 'B5', 'B6', 'B7', 'B10', 'B11', 'sr_aerosol', 'pixel_qa', 'radsat_qa', 'NDVI', 't', 'constant', 'B1_1', 'B2_1', 'B3_1', 'B4_1', 'B5_1', 'B6_1', 'B7_1', 'B10_1', 'B11_1', 'sr_aerosol_1', 'pixel_qa_1', 'radsat_qa_1', 'NDVI_1', 't_1', 'constant_1', 'B1_2', 'B2_2', 'B3_2', 'B4_2', 'B5_2', 'B6_2', 'B7_2', 'B10_2', 'B11_2', 'sr_aerosol_2', 'pixel_qa_2', 'radsat_qa_2', 'NDVI_2', 't_2', 'constant_2', 'fitted']\n"
     ]
    }
   ],
   "source": [
    "# extract the header column names\n",
    "print(info[0])\n",
    "header =info[0]\n",
    "# create a Numpy array of the data\n",
    "data = array(info[1:])"
   ]
  },
  {
   "cell_type": "markdown",
   "metadata": {},
   "source": [
    "Next we extract time information and convert it to at Python datatime data type."
   ]
  },
  {
   "cell_type": "code",
   "execution_count": 160,
   "metadata": {},
   "outputs": [],
   "source": [
    "# extract the time information\n",
    "iTime = header.index('time')\n",
    "# convert to Python datetime objects\n",
    "time = [datetime.datetime.fromtimestamp(i/1000) for i in (data[0:,iTime].astype(int))]"
   ]
  },
  {
   "cell_type": "code",
   "execution_count": 161,
   "metadata": {},
   "outputs": [],
   "source": [
    "xBand = 'time'\n",
    "yBandList = [\n",
    "        'NDVI',\n",
    "        'fitted'\n",
    "        ]"
   ]
  },
  {
   "cell_type": "code",
   "execution_count": 162,
   "metadata": {},
   "outputs": [],
   "source": [
    "iBands = [header.index(b) for b in yBandList]\n",
    "yData = data[0:,iBands].astype(np.float)"
   ]
  },
  {
   "cell_type": "code",
   "execution_count": 163,
   "metadata": {},
   "outputs": [
    {
     "data": {
      "image/png": "[encoded data removed]",
      "text/plain": [
       "<Figure size 960x640 with 1 Axes>"
      ]
     },
     "metadata": {},
     "output_type": "display_data"
    }
   ],
   "source": [
    "# // Plot the detrended results.\n",
    "# var detrendedChart = ui.Chart.image.series(detrended, roi, null, 30)\n",
    "#     .setOptions({\n",
    "#       title: 'Detrended Landsat time series at ROI',\n",
    "#       lineWidth: 1,\n",
    "#       pointSize: 3,\n",
    "#     });\n",
    "# print(detrendedChart);\n",
    "\n",
    "fig = figure(figsize=(12,8), dpi=80)\n",
    "\n",
    "# plot detrended\n",
    "ax2 = fig.add_subplot(211)\n",
    "ax2.plot(time, yData[:,-2], 'o', color=\"red\", label=\"NDVI\")\n",
    "ax2.plot(time, yData[:,-1], 'o', color=\"blue\",  label=\"Autoregresive Fitting\")\n",
    "ax2.legend(loc='best')\n",
    "ax2.grid(True)\n",
    "start, end = ax2.get_xlim()\n",
    "ax2.xaxis.set_ticks(np.arange(start, end, 64.5))\n",
    "\n",
    "# Format the ticks.\n",
    "years    = mdates.YearLocator()   # every year\n",
    "months   = mdates.MonthLocator()  # every month\n",
    "yearsFmt = mdates.DateFormatter('%Y')\n",
    "\n",
    "ax2.set_ylabel('NDVI')\n",
    "\n",
    "ax2.xaxis.set_major_locator(years)\n",
    "ax2.xaxis.set_major_formatter(yearsFmt)\n",
    "ax2.xaxis.set_minor_locator(months)"
   ]
  },
  {
   "cell_type": "markdown",
   "metadata": {},
   "source": [
    "At this stage, note that the missing data has become a real problem.  Any data point for which at least one of the previous points is masked or missing is also masked.  It may be possible to avoid this problem by substituting the output from equation 3 (the modeled value) for the missing or masked data.  Unfortunately, the code to make that happen is not straightforward.  If you're feeling brave, check out [this solution](https://code.earthengine.google.com/c5fbadc5136d94e80ba428376b05d148).\n"
   ]
  },
  {
   "cell_type": "markdown",
   "metadata": {},
   "source": [
    "## Assignment:\n",
    "    \n",
    "Create a notebook, change the location (the roi coordinates in Cell 4) ane evaluate the capability of harmonic and autoregression approaches to estimate NDVI and the relationship between Precipitation and NDVI in one of these sites:\n",
    "\n",
    "a) Desert location (Death Valley in CA), \n",
    "b) The Nile Delta \n",
    "\n",
    "Or you can do two notebooks and see how these different enviroments behave in a time series analysis.\n",
    "\n",
    "Happy Coding\n"
   ]
  },
  {
   "cell_type": "code",
   "execution_count": 164,
   "metadata": {},
   "outputs": [
    {
     "name": "stdout",
     "output_type": "stream",
     "text": [
      "\r\n",
      "     active environment : None\r\n",
      "       user config file : /home/jovyan/work/.condarc\r\n",
      " populated config files : /opt/conda/.condarc\r\n",
      "          conda version : 4.5.4\r\n",
      "    conda-build version : not installed\r\n",
      "         python version : 3.6.7.final.0\r\n",
      "       base environment : /opt/conda  (writable)\r\n",
      "           channel URLs : https://conda.anaconda.org/conda-forge/linux-64\r\n",
      "                          https://conda.anaconda.org/conda-forge/noarch\r\n",
      "                          https://repo.anaconda.com/pkgs/main/linux-64\r\n",
      "                          https://repo.anaconda.com/pkgs/main/noarch\r\n",
      "                          https://repo.anaconda.com/pkgs/free/linux-64\r\n",
      "                          https://repo.anaconda.com/pkgs/free/noarch\r\n",
      "                          https://repo.anaconda.com/pkgs/r/linux-64\r\n",
      "                          https://repo.anaconda.com/pkgs/r/noarch\r\n",
      "                          https://repo.anaconda.com/pkgs/pro/linux-64\r\n",
      "                          https://repo.anaconda.com/pkgs/pro/noarch\r\n",
      "          package cache : /opt/conda/pkgs\r\n",
      "                          /home/jovyan/work/.conda/pkgs\r\n",
      "       envs directories : /opt/conda/envs\r\n",
      "                          /home/jovyan/work/.conda/envs\r\n",
      "               platform : linux-64\r\n",
      "             user-agent : conda/4.5.4 requests/2.18.4 CPython/3.6.7 Linux/3.10.0-693.5.2.el7.x86_64 ubuntu/16.04 glibc/2.23\r\n",
      "                UID:GID : 1000:100\r\n",
      "             netrc file : None\r\n",
      "           offline mode : False\r\n",
      "\r\n"
     ]
    }
   ],
   "source": [
    "!conda info"
   ]
  },
  {
   "cell_type": "code",
   "execution_count": 165,
   "metadata": {},
   "outputs": [
    {
     "name": "stdout",
     "output_type": "stream",
     "text": [
      "\r\n",
      "CommandNotFoundError: Your shell has not been properly configured to use 'conda activate'.\r\n",
      "If your shell is Bash or a Bourne variant, enable conda for the current user with\r\n",
      "\r\n",
      "    $ echo \". /opt/conda/etc/profile.d/conda.sh\" >> ~/.bashrc\r\n",
      "\r\n",
      "or, for all users, enable conda with\r\n",
      "\r\n",
      "    $ sudo ln -s /opt/conda/etc/profile.d/conda.sh /etc/profile.d/conda.sh\r\n",
      "\r\n",
      "The options above will permanently enable the 'conda' command, but they do NOT\r\n",
      "put conda's base (root) environment on PATH.  To do so, run\r\n",
      "\r\n",
      "    $ conda activate\r\n",
      "\r\n",
      "in your terminal, or to put the base environment on PATH permanently, run\r\n",
      "\r\n",
      "    $ echo \"conda activate\" >> ~/.bashrc\r\n",
      "\r\n",
      "Previous to conda 4.4, the recommended way to activate conda was to modify PATH in\r\n",
      "your ~/.bashrc file.  You should manually remove the line that looks like\r\n",
      "\r\n",
      "    export PATH=\"/opt/conda/bin:$PATH\"\r\n",
      "\r\n",
      "^^^ The above line should NO LONGER be in your ~/.bashrc file! ^^^\r\n",
      "\r\n",
      "\r\n"
     ]
    }
   ],
   "source": [
    "!conda activate earthengine\n"
   ]
  },
  {
   "cell_type": "code",
   "execution_count": 166,
   "metadata": {},
   "outputs": [
    {
     "name": "stdout",
     "output_type": "stream",
     "text": [
      "\r\n",
      "CommandNotFoundError: No command 'conda init'.\r\n",
      "\r\n"
     ]
    }
   ],
   "source": [
    "!conda init --help"
   ]
  },
  {
   "cell_type": "code",
   "execution_count": null,
   "metadata": {},
   "outputs": [],
   "source": []
  }
 ],
 "metadata": {
  "kernelspec": {
   "display_name": "Python 3",
   "language": "python",
   "name": "python3"
  },
  "language_info": {
   "codemirror_mode": {
    "name": "ipython",
    "version": 3
   },
   "file_extension": ".py",
   "mimetype": "text/x-python",
   "name": "python",
   "nbconvert_exporter": "python",
   "pygments_lexer": "ipython3",
   "version": "3.6.7"
  },
  "latex_envs": {
   "LaTeX_envs_menu_present": true,
   "autoclose": false,
   "autocomplete": true,
   "bibliofile": "biblio.bib",
   "cite_by": "apalike",
   "current_citInitial": 1,
   "eqLabelWithNumbers": true,
   "eqNumInitial": 1,
   "hotkeys": {
    "equation": "Ctrl-E",
    "itemize": "Ctrl-I"
   },
   "labels_anchors": false,
   "latex_user_defs": false,
   "report_style_numbering": false,
   "user_envs_cfg": false
  }
 },
 "nbformat": 4,
 "nbformat_minor": 2
}
