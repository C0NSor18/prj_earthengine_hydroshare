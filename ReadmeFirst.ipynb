{
 "cells": [
  {
   "cell_type": "markdown",
   "metadata": {},
   "source": [
    "# Readme for using Earth Engine in HydroShare"
   ]
  },
  {
   "cell_type": "markdown",
   "metadata": {},
   "source": [
    "## By Alfonso Torres-Rua, 2019, Utah State University\n",
    "\n",
    "This is a series of **jupyter notebooks** for integrating the vast array of spatial datasets stored in **Google Earth Engine** https://earthengine.google.com/ to the Hydroshare platform and store the code and results into HydroShare.\n",
    "\n",
    "This is a live document, that is updated with the semesters and years. So it will keeep evolving.\n",
    "\n",
    "This is what is expected from you to run these notebooks:\n",
    "\n",
    "1) You are able to import or upload resources (notebooks) from  internet / Github and store it in a HydroShare folder (unzipped, of course). \n",
    " For example, you should be able to bring these github notebook repositories to your Hydroshare folder to respective subfolders: \n",
    " \n",
    " https://github.com/tylere/eeus2017-python\n",
    " \n",
    " https://github.com/tylere/EEUS2018-JupyterSession\n",
    " \n",
    " \n",
    " A nice description on how to use git commands to **\"clone\"** git repositores into Hydroshare is in this document:\n",
    " (Ask Jeff/Tony about this)\n",
    "\n",
    "2) You are familiar (not necessarily an expert) in Python. Why use Python? Because of the Pandas library. (I am a Matlab guy and this is my main reason to to migrate to Python). If you do not know much about Pandas, here is a good description about it: https://www.learnpython.org/en/Pandas_Basics (this is a meh link, need something better). \n",
    "\n",
    "3) Complete the EarthEngine Hydroshare integration steps as described in this *notebook*. This is done ONE TIME ONLY. After completion, you just need to go to Step 4.\n",
    "\n",
    "\n",
    "4) When comming back to work on these lectures, open a terminal and run (copy and paste) the following lines:\n"
   ]
  },
  {
   "cell_type": "raw",
   "metadata": {},
   "source": [
    "pip install google-api-python-client --quiet\n",
    "pip install oauth2client --quiet\n",
    "pip install pyCrypto --quiet\n",
    "pip install earthengine-api --quiet\n",
    "pip install ipyleaflet --quiet\n",
    "jupyter nbextension enable --py widgetsnbextension\n",
    "jupyter nbextension enable --py --sys-prefix ipyleaflet\n",
    "\n",
    "pip install folium --quiet\n",
    "pip install pillow --quiet\n",
    "pip install pygal --quiet\n",
    "pip install pandas --quiet\n",
    "pip install geopy --quiet\n",
    "earthengine du\n"
   ]
  },
  {
   "cell_type": "markdown",
   "metadata": {},
   "source": [
    "That's it! You are ready to go on the next notebooks. \n",
    "\n",
    "HAPPY CODING!\n",
    "\n",
    "\n",
    "The \"Awesome\" USU Team"
   ]
  },
  {
   "cell_type": "code",
   "execution_count": 1,
   "metadata": {},
   "outputs": [
    {
     "name": "stdout",
     "output_type": "stream",
     "text": [
      "The Zen of Python, by Tim Peters\n",
      "\n",
      "Beautiful is better than ugly.\n",
      "Explicit is better than implicit.\n",
      "Simple is better than complex.\n",
      "Complex is better than complicated.\n",
      "Flat is better than nested.\n",
      "Sparse is better than dense.\n",
      "Readability counts.\n",
      "Special cases aren't special enough to break the rules.\n",
      "Although practicality beats purity.\n",
      "Errors should never pass silently.\n",
      "Unless explicitly silenced.\n",
      "In the face of ambiguity, refuse the temptation to guess.\n",
      "There should be one-- and preferably only one --obvious way to do it.\n",
      "Although that way may not be obvious at first unless you're Dutch.\n",
      "Now is better than never.\n",
      "Although never is often better than *right* now.\n",
      "If the implementation is hard to explain, it's a bad idea.\n",
      "If the implementation is easy to explain, it may be a good idea.\n",
      "Namespaces are one honking great idea -- let's do more of those!\n"
     ]
    }
   ],
   "source": [
    "import this"
   ]
  },
  {
   "cell_type": "code",
   "execution_count": null,
   "metadata": {},
   "outputs": [],
   "source": []
  }
 ],
 "metadata": {
  "kernelspec": {
   "display_name": "Python 3",
   "language": "python",
   "name": "python3"
  },
  "language_info": {
   "codemirror_mode": {
    "name": "ipython",
    "version": 3
   },
   "file_extension": ".py",
   "mimetype": "text/x-python",
   "name": "python",
   "nbconvert_exporter": "python",
   "pygments_lexer": "ipython3",
   "version": "3.6.7"
  },
  "varInspector": {
   "cols": {
    "lenName": 16,
    "lenType": 16,
    "lenVar": 40
   },
   "kernels_config": {
    "python": {
     "delete_cmd_postfix": "",
     "delete_cmd_prefix": "del ",
     "library": "var_list.py",
     "varRefreshCmd": "print(var_dic_list())"
    },
    "r": {
     "delete_cmd_postfix": ") ",
     "delete_cmd_prefix": "rm(",
     "library": "var_list.r",
     "varRefreshCmd": "cat(var_dic_list()) "
    }
   },
   "oldHeight": 123,
   "position": {
    "height": "40px",
    "left": "1278px",
    "right": "20px",
    "top": "120px",
    "width": "250px"
   },
   "types_to_exclude": [
    "module",
    "function",
    "builtin_function_or_method",
    "instance",
    "_Feature"
   ],
   "varInspector_section_display": "none",
   "window_display": true
  }
 },
 "nbformat": 4,
 "nbformat_minor": 2
}
