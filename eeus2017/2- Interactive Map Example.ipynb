{
 "cells": [
  {
   "cell_type": "markdown",
   "metadata": {},
   "source": [
    "Import and initialize the Earth Engine Python API."
   ]
  },
  {
   "cell_type": "code",
   "execution_count": 54,
   "metadata": {},
   "outputs": [],
   "source": [
    "import ee\n",
    "ee.Initialize()"
   ]
  },
  {
   "cell_type": "code",
   "execution_count": 55,
   "metadata": {},
   "outputs": [],
   "source": [
    "import ipyleaflet"
   ]
  },
  {
   "cell_type": "markdown",
   "metadata": {},
   "source": [
    "Import a customized version of IPyLeaflet. The customized version is defined in the file ipyleafletee.py, which is stored in the same folder as this notebook. "
   ]
  },
  {
   "cell_type": "code",
   "execution_count": 56,
   "metadata": {},
   "outputs": [],
   "source": [
    "import ipyleafletee"
   ]
  },
  {
   "cell_type": "markdown",
   "metadata": {},
   "source": [
    "Display the default map. The basemap is based on NOAA's [ETOPO1](https://explorer.earthengine.google.com/#detail/NOAA%2FNGDC%2FETOPO1) elevation dataset."
   ]
  },
  {
   "cell_type": "code",
   "execution_count": 57,
   "metadata": {},
   "outputs": [
    {
     "data": {
      "application/vnd.jupyter.widget-view+json": {
       "model_id": "933037431d664b3c8f41ece3f553f178",
       "version_major": 2,
       "version_minor": 0
      },
      "text/plain": [
       "Map(basemap={'url': 'https://{s}.tile.openstreetmap.org/{z}/{x}/{y}.png', 'max_zoom': 19, 'attribution': 'Map …"
      ]
     },
     "metadata": {},
     "output_type": "display_data"
    }
   ],
   "source": [
    "map1 = ipyleafletee.Map(zoom=2)\n",
    "map1"
   ]
  },
  {
   "cell_type": "markdown",
   "metadata": {},
   "source": [
    "Examine the map object, to see what it can do."
   ]
  },
  {
   "cell_type": "code",
   "execution_count": 58,
   "metadata": {},
   "outputs": [
    {
     "name": "stdout",
     "output_type": "stream",
     "text": [
      "add_class, add_control, add_layer, add_traits, attribution_control, basemap, bounce_at_zoom_limits, bounds, bounds_polygon, box_zoom, center, class_own_trait_events, class_own_traits, class_trait_names, class_traits, clear_controls, clear_layers, close, close_all, close_popup_on_click, comm, controls, cross_validation_lock, default_tiles, double_click_zoom, dragging, east, get_manager_state, get_state, get_view_spec, handle_comm_opened, has_trait, hold_sync, hold_trait_notifications, inertia, inertia_deceleration, inertia_max_speed, interact, interpolation, keyboard, keyboard_pan_offset, keyboard_zoom_offset, keys, layers, layout, log, max_zoom, min_zoom, model_id, modisdate, north, notify_change, observe, on_displayed, on_interaction, on_msg, on_trait_change, on_widget_constructed, open, options, remove_class, remove_control, remove_layer, scroll_wheel_zoom, send, send_state, set_state, set_trait, setup_instance, south, substitute_layer, tap, tap_tolerance, touch_zoom, trait_events, trait_metadata, trait_names, traits, unobserve, unobserve_all, west, widget_types, widgets, world_copy_jump, zoom, zoom_animation_threshold, zoom_control, zoom_start\n"
     ]
    }
   ],
   "source": [
    "# Generate a list of methods and properties, suppressing private methods that start with and underscore.\n",
    "method_and_property_list = ', '.join([prop for prop in dir(map1) if not prop.startswith('_')])\n",
    "print(method_and_property_list)"
   ]
  },
  {
   "cell_type": "markdown",
   "metadata": {},
   "source": [
    "As we can see, this map object can do a lot. For example, you can set and get the center of the map."
   ]
  },
  {
   "cell_type": "code",
   "execution_count": 59,
   "metadata": {},
   "outputs": [
    {
     "name": "stdout",
     "output_type": "stream",
     "text": [
      "center coords = [0.0, 0.0]\n",
      "zoom = 2\n"
     ]
    }
   ],
   "source": [
    "# Get the current map center and zoom level.\n",
    "print('center coords = {0}'.format(map1.center))\n",
    "print('zoom = {0}'.format(map1.zoom))"
   ]
  },
  {
   "cell_type": "code",
   "execution_count": 60,
   "metadata": {},
   "outputs": [],
   "source": [
    "# Set the current map center and zoom level (to the San Francisco Bay Area)\n",
    "map1.center = [37.9, -122.0]\n",
    "map1.zoom =6"
   ]
  },
  {
   "cell_type": "markdown",
   "metadata": {},
   "source": [
    "Create a second map, using a custom basemap."
   ]
  },
  {
   "cell_type": "code",
   "execution_count": 61,
   "metadata": {},
   "outputs": [
    {
     "data": {
      "application/vnd.jupyter.widget-view+json": {
       "model_id": "c4d4470dd17147d49f7b3904bc453e13",
       "version_major": 2,
       "version_minor": 0
      },
      "text/plain": [
       "Map(basemap={'url': 'https://{s}.tile.openstreetmap.org/{z}/{x}/{y}.png', 'max_zoom': 19, 'attribution': 'Map …"
      ]
     },
     "metadata": {},
     "output_type": "display_data"
    }
   ],
   "source": [
    "def getTileLayerUrl(map_id):\n",
    "  template = \"https://earthengine.googleapis.com/map/{mapid}/{{z}}/{{x}}/{{y}}?token={token}\"\n",
    "  return template.format(**map_id)\n",
    "\n",
    "custom_basemap_mapid = ee.Image('NOAA/NGDC/ETOPO1').select('bedrock').gt(0).getMapId()\n",
    "\n",
    "map2 = ipyleafletee.Map(\n",
    "  zoom=2,\n",
    "  center=[37.9, -122.0],\n",
    "  default_tiles=ipyleafletee.TileLayerEE(\n",
    "    url=getTileLayerUrl(custom_basemap_mapid)\n",
    "  )\n",
    ")\n",
    "map2\n"
   ]
  },
  {
   "cell_type": "markdown",
   "metadata": {},
   "source": [
    "Add an overlay layer to the map."
   ]
  },
  {
   "cell_type": "code",
   "execution_count": 62,
   "metadata": {},
   "outputs": [],
   "source": [
    "gsw = ee.Image('JRC/GSW1_0/GlobalSurfaceWater')\n",
    "occurrence = gsw.select('occurrence')\n",
    "map_id = occurrence.visualize(\n",
    "  min=0,\n",
    "  max=100,\n",
    "  palette= ['red', 'blue']\n",
    ").updateMask(occurrence.divide(100)).getMapId()\n",
    "\n",
    "jrc_tile_url = \"https://earthengine.googleapis.com/map/{mapid}/{{z}}/{{x}}/{{y}}?token={token}\".format(**map_id)\n",
    "tl_jrc = ipyleafletee.TileLayer(url=jrc_tile_url)\n",
    "map2.add_layer(tl_jrc)"
   ]
  },
  {
   "cell_type": "code",
   "execution_count": null,
   "metadata": {},
   "outputs": [],
   "source": []
  }
 ],
 "metadata": {
  "kernelspec": {
   "display_name": "Python 3",
   "language": "python",
   "name": "python3"
  },
  "language_info": {
   "codemirror_mode": {
    "name": "ipython",
    "version": 3
   },
   "file_extension": ".py",
   "mimetype": "text/x-python",
   "name": "python",
   "nbconvert_exporter": "python",
   "pygments_lexer": "ipython3",
   "version": "3.6.8"
  },
  "varInspector": {
   "cols": {
    "lenName": 16,
    "lenType": 16,
    "lenVar": 40
   },
   "kernels_config": {
    "python": {
     "delete_cmd_postfix": "",
     "delete_cmd_prefix": "del ",
     "library": "var_list.py",
     "varRefreshCmd": "print(var_dic_list())"
    },
    "r": {
     "delete_cmd_postfix": ") ",
     "delete_cmd_prefix": "rm(",
     "library": "var_list.r",
     "varRefreshCmd": "cat(var_dic_list()) "
    }
   },
   "types_to_exclude": [
    "module",
    "function",
    "builtin_function_or_method",
    "instance",
    "_Feature"
   ],
   "window_display": false
  },
  "widgets": {
   "application/vnd.jupyter.widget-state+json": {
    "state": {
     "43f7ec3bea204f5b9fd71af93e7aca56": {
      "model_module": "jupyter-leaflet",
      "model_module_version": "*",
      "model_name": "LeafletMapModel",
      "state": {
       "_dom_classes": [],
       "_east": -76.7889404296875,
       "_model_module_version": "*",
       "_north": 34.85100201839405,
       "_south": 34.39897808891371,
       "_view_module_version": "*",
       "_west": -77.90130615234375,
       "center": [
        34.6252978589571,
        -77.34512329101562
       ],
       "layers": [
        "IPY_MODEL_8a61e7c4e2a941ab922bef3022437426"
       ],
       "layout": "IPY_MODEL_5601f54a71b84e158374910419bfa244",
       "msg_throttle": 1,
       "options": [
        "keyboard_pan_offset",
        "tap",
        "attribution_control",
        "max_zoom",
        "min_zoom",
        "bounce_at_zoom_limits",
        "keyboard",
        "scroll_wheel_zoom",
        "dragging",
        "inertia_max_speed",
        "close_popup_on_click",
        "zoom_control",
        "box_zoom",
        "double_click_zoom",
        "tap_tolerance",
        "zoom_start",
        "keyboard_zoom_offset",
        "inertia_deceleration",
        "inertia",
        "center",
        "zoom",
        "world_copy_jump",
        "zoom_animation_threshold",
        "touch_zoom"
       ],
       "zoom": 10
      }
     },
     "5601f54a71b84e158374910419bfa244": {
      "model_module": "jupyter-js-widgets",
      "model_module_version": "~2.1.1",
      "model_name": "LayoutModel",
      "state": {
       "_model_module_version": "~2.1.1",
       "_view_module_version": "~2.1.1",
       "align_self": "stretch",
       "height": "400px"
      }
     },
     "8a61e7c4e2a941ab922bef3022437426": {
      "model_module": "jupyter-leaflet",
      "model_module_version": "*",
      "model_name": "LeafletTileLayerModel",
      "state": {
       "_model_module_version": "*",
       "_view_module_version": "*",
       "msg_throttle": 1,
       "options": [
        "opacity",
        "attribution",
        "max_zoom",
        "detect_retina",
        "min_zoom",
        "tile_size"
       ]
      }
     }
    },
    "version_major": 1,
    "version_minor": 0
   }
  }
 },
 "nbformat": 4,
 "nbformat_minor": 1
}
