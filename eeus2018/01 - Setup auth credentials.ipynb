{
 "cells": [
  {
   "cell_type": "markdown",
   "metadata": {},
   "source": [
    "# Obtain and store authentication credentials\n",
    "\n",
    "The Earth Engine backend authenticates requests using OAuth2. To establish OAuth2 credentials for the server running this notebook, we will:\n",
    "\n",
    "1. Open up a browser tab that initiates the OAuth2 authentication process.\n",
    "2. Choose an account to use for authentication. Choose an account that has previosly been whitelisted to access  Earth Engine.\n",
    "3. Grant the Google Earth Engine Python Authenticator permission to access your Google Account.\n",
    "4. Copy the OAuth2 code and paste it below."
   ]
  },
  {
   "cell_type": "code",
   "execution_count": 1,
   "metadata": {},
   "outputs": [
    {
     "data": {
      "application/vnd.jupyter.widget-view+json": {
       "model_id": "fa7f6d55362e455f893bf892c8e62916",
       "version_major": 2,
       "version_minor": 0
      },
      "text/plain": [
       "SFRNTCh2YWx1ZT11JzxhIGhyZWY9Imh0dHBzOi8vYWNjb3VudHMuZ29vZ2xlLmNvbS9vL29hdXRoMi9hdXRoP3Njb3BlPWh0dHBzJTNBJTJGJTJGd3d3Lmdvb2dsZWFwaXMuY29tJTJGYXV0aCXigKY=\n"
      ]
     },
     "metadata": {},
     "output_type": "display_data"
    }
   ],
   "source": [
    "import ee\n",
    "import ipywidgets\n",
    "\n",
    "ipywidgets.HTML(\n",
    "    '<a href=\"{url}\" target=\"auth\">Open OAuth2 Page</a><br/>'.format(\n",
    "        url=ee.oauth.get_authorization_url()\n",
    "    )\n",
    ")"
   ]
  },
  {
   "cell_type": "markdown",
   "metadata": {},
   "source": [
    "Paste the OAuth2 code that you receive in the code below and run the cell."
   ]
  },
  {
   "cell_type": "code",
   "execution_count": 2,
   "metadata": {},
   "outputs": [
    {
     "name": "stdout",
     "output_type": "stream",
     "text": [
      "Problem requesting tokens. Please try again.  HTTP Error 400: Bad Request {\n",
      "  \"error\": \"invalid_grant\",\n",
      "  \"error_description\": \"Bad Request\"\n",
      "}\n"
     ]
    }
   ],
   "source": [
    "code = '4/AACH3nTLPlXItmj8f3JKIP-cqhqahx_qLspOQJ9kB09rMpwcrS8e2bo'\n",
    "\n",
    "try:\n",
    "    token = ee.oauth.request_token(code)\n",
    "    ee.oauth.write_token(token)\n",
    "    print('Successfully saved authorization token.')\n",
    "except Exception as e:\n",
    "    print(e)"
   ]
  },
  {
   "cell_type": "markdown",
   "metadata": {},
   "source": [
    "# Test that the server is authenticated\n",
    "\n",
    "Try to initialize the Earth Engine Python module. If it initializes successfully, it does not return any output."
   ]
  },
  {
   "cell_type": "code",
   "execution_count": 3,
   "metadata": {},
   "outputs": [],
   "source": [
    "ee.Initialize()"
   ]
  },
  {
   "cell_type": "markdown",
   "metadata": {},
   "source": [
    "Finally, test out retrieving some results from the Earth Engine backend servers."
   ]
  },
  {
   "cell_type": "code",
   "execution_count": 4,
   "metadata": {},
   "outputs": [
    {
     "data": {
      "text/html": [
       "<img src=\"https://earthengine.googleapis.com/api/thumb?thumbid=bb0fc99bd8ce3577d5b2169f43d60bb1&token=cfc6a8d49561053e37d29140f1c3d56b\"/>"
      ],
      "text/plain": [
       "<IPython.core.display.Image object>"
      ]
     },
     "execution_count": 4,
     "metadata": {},
     "output_type": "execute_result"
    }
   ],
   "source": [
    "# Code to display an Earth Engine generated image.# Code  \n",
    "from IPython.display import Image\n",
    "\n",
    "url = ee.Image(\"CGIAR/SRTM90_V4\").getThumbUrl({'min':0, 'max':3000})\n",
    "Image(url=url)"
   ]
  },
  {
   "cell_type": "code",
   "execution_count": null,
   "metadata": {},
   "outputs": [],
   "source": []
  },
  {
   "cell_type": "code",
   "execution_count": null,
   "metadata": {},
   "outputs": [],
   "source": []
  }
 ],
 "metadata": {
  "kernelspec": {
   "display_name": "Python 2.7",
   "language": "python",
   "name": "python2"
  },
  "language_info": {
   "codemirror_mode": {
    "name": "ipython",
    "version": 2
   },
   "file_extension": ".py",
   "mimetype": "text/x-python",
   "name": "python",
   "nbconvert_exporter": "python",
   "pygments_lexer": "ipython2",
   "version": "2.7.15"
  }
 },
 "nbformat": 4,
 "nbformat_minor": 2
}
