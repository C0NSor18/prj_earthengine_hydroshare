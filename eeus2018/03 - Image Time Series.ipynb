{
 "cells": [
  {
   "cell_type": "markdown",
   "metadata": {},
   "source": [
    "# Overview\n",
    "\n",
    "This example shows how to extract a time series of images from Earth Engine, annotate them, and save them as a video."
   ]
  },
  {
   "cell_type": "markdown",
   "metadata": {},
   "source": [
    "# Initialize Earth Engine\n",
    "\n",
    "We start by importing the [Earth Engine Python API](https://pypi.org/project/earthengine-api/) module."
   ]
  },
  {
   "cell_type": "code",
   "execution_count": null,
   "metadata": {},
   "outputs": [],
   "source": [
    "import ee"
   ]
  },
  {
   "cell_type": "markdown",
   "metadata": {},
   "source": [
    "The following command initializes the Earth Engine Python API."
   ]
  },
  {
   "cell_type": "code",
   "execution_count": null,
   "metadata": {},
   "outputs": [],
   "source": [
    "ee.Initialize()"
   ]
  },
  {
   "cell_type": "markdown",
   "metadata": {},
   "source": [
    "If the cell produces output that displays an error about needing to authenticate, open up the notebook entitled `01 - Setup auth credentials` and follow the instructions."
   ]
  },
  {
   "cell_type": "markdown",
   "metadata": {},
   "source": [
    "# Define Helper Functions"
   ]
  },
  {
   "cell_type": "code",
   "execution_count": null,
   "metadata": {},
   "outputs": [],
   "source": [
    "def GetTileLayerUrl(ee_image_object):\n",
    "    map_id = ee.Image(ee_image_object).getMapId()\n",
    "    tile_url_template = \"https://earthengine.googleapis.com/map/{mapid}/{{z}}/{{x}}/{{y}}?token={token}\"\n",
    "    return tile_url_template.format(**map_id)"
   ]
  },
  {
   "cell_type": "markdown",
   "metadata": {},
   "source": [
    "# Building an image collection"
   ]
  },
  {
   "cell_type": "code",
   "execution_count": null,
   "metadata": {},
   "outputs": [],
   "source": [
    "import datetime\n",
    "import ipywidgets as widgets\n",
    "import ipyleaflet  # an interactive mapping \"widget\"\n",
    "from sidecar import Sidecar"
   ]
  },
  {
   "cell_type": "markdown",
   "metadata": {},
   "source": [
    "## Define the Image Collection to work with"
   ]
  },
  {
   "cell_type": "code",
   "execution_count": null,
   "metadata": {},
   "outputs": [],
   "source": [
    "vis_params = {\n",
    "    'bands': ['HV'],\n",
    "    'min':-20,\n",
    "    'max':0,\n",
    "}"
   ]
  },
  {
   "cell_type": "code",
   "execution_count": null,
   "metadata": {},
   "outputs": [],
   "source": []
  },
  {
   "cell_type": "markdown",
   "metadata": {},
   "source": [
    "## Define User Interface Elements"
   ]
  },
  {
   "cell_type": "code",
   "execution_count": null,
   "metadata": {},
   "outputs": [],
   "source": [
    "roi_dimension = widgets.IntSlider(\n",
    "    value=1e4,\n",
    "    min=1e2,\n",
    "    max=2e4,\n",
    "    description='ROI Size (m):',\n",
    "    continuous_update=False,\n",
    ")"
   ]
  },
  {
   "cell_type": "code",
   "execution_count": null,
   "metadata": {},
   "outputs": [],
   "source": [
    "# Define the map.\n",
    "map1 = ipyleaflet.Map(\n",
    "    center=(81.736, -45.912),\n",
    "    zoom=8,\n",
    "    layout={'height':'300px'},\n",
    ")\n",
    "map1.add_control(ipyleaflet.LayersControl())\n",
    "\n",
    "# Define and add a Marker pin to the map.\n",
    "center_marker = ipyleaflet.Marker(\n",
    "    name='ROI Selection Marker',\n",
    "    location=map1.center\n",
    ")\n",
    "map1 += center_marker\n",
    "\n",
    "mosaic_layer_group = ipyleaflet.LayerGroup(layers=(), name='Mosaic Layer')\n",
    "map1 += mosaic_layer_group\n",
    "\n",
    "roi_layer_group = ipyleaflet.LayerGroup(layers=(), name='ROI Layer')\n",
    "map1 += roi_layer_group"
   ]
  },
  {
   "cell_type": "code",
   "execution_count": null,
   "metadata": {},
   "outputs": [],
   "source": [
    "start_datepicker = widgets.DatePicker(\n",
    "    description='Start Date',\n",
    "    disabled=False,\n",
    "    value=datetime.datetime(2017, 8, 1)\n",
    ")\n",
    "end_datepicker = widgets.DatePicker(\n",
    "    description='End Date',\n",
    "    disabled=False,\n",
    "    value=datetime.datetime(2017, 8, 10)\n",
    ")"
   ]
  },
  {
   "cell_type": "code",
   "execution_count": null,
   "metadata": {},
   "outputs": [],
   "source": [
    "out = widgets.Output()"
   ]
  },
  {
   "cell_type": "markdown",
   "metadata": {},
   "source": [
    "## Display the UI Elements"
   ]
  },
  {
   "cell_type": "code",
   "execution_count": null,
   "metadata": {},
   "outputs": [],
   "source": [
    "# Layout the UI elements.\n",
    "panel = widgets.VBox([\n",
    "    map1,\n",
    "    start_datepicker,\n",
    "    end_datepicker,\n",
    "    roi_dimension,\n",
    "    out\n",
    "])\n",
    "\n",
    "out.clear_output()\n",
    "display(panel)"
   ]
  },
  {
   "cell_type": "markdown",
   "metadata": {},
   "source": [
    "## Define interactions"
   ]
  },
  {
   "cell_type": "code",
   "execution_count": null,
   "metadata": {},
   "outputs": [],
   "source": [
    "# Define helper functions to swap the coordinate ordering.\n",
    "def swap_coordinate_xy_for_location(coord):\n",
    "    return (coord[1],coord[0])\n",
    "\n",
    "def swap_coordinate_xy_for_list(coord_list):\n",
    "    return [swap_coordinate_xy_for_location(coord) for coord in coord_list]  \n",
    "\n",
    "def update_roi_layer(map_reference):    \n",
    "    coord_list_xy = get_roi_polygon()['coordinates'][0]\n",
    "    coord_list_yx = swap_coordinate_xy_for_list(coord_list_xy)\n",
    "    \n",
    "    roi_layer = ipyleaflet.Polygon(\n",
    "        name='TEST update ROI Polygon',\n",
    "        locations=coord_list_yx,\n",
    "        weight=3,\n",
    "        color='#F00',\n",
    "        opacity=0.8,\n",
    "        fill_opacity=0.1,\n",
    "        fill_color='#F00'\n",
    "    )\n",
    "    roi_layer_group.clear_layers()\n",
    "    roi_layer_group.add_layer(roi_layer)"
   ]
  },
  {
   "cell_type": "code",
   "execution_count": null,
   "metadata": {},
   "outputs": [],
   "source": [
    "def get_roi_polygon():\n",
    "    center_marker_xy = swap_coordinate_xy_for_location(center_marker.location)\n",
    "    centroid = ee.Geometry.Point(center_marker_xy)\n",
    "    buffered = centroid.buffer(roi_dimension.value).bounds()\n",
    "    return buffered.getInfo() "
   ]
  },
  {
   "cell_type": "code",
   "execution_count": null,
   "metadata": {},
   "outputs": [],
   "source": [
    "def get_image_collection():\n",
    "\n",
    "    # Get filter values from the UI widgets.\n",
    "    roi = get_roi_polygon()\n",
    "    start_date = ee.Date(start_datepicker.value.isoformat())\n",
    "    end_date = ee.Date(end_datepicker.value.isoformat())\n",
    "\n",
    "    collection = (\n",
    "        base_collection\n",
    "          .filterDate(start_date, end_date)\n",
    "          .filterBounds(roi)\n",
    "    )\n",
    "    return collection"
   ]
  },
  {
   "cell_type": "code",
   "execution_count": null,
   "metadata": {},
   "outputs": [],
   "source": [
    "base_collection = (\n",
    "    ee.ImageCollection('COPERNICUS/S1_GRD')\n",
    "      .filter(ee.Filter.listContains('transmitterReceiverPolarisation', 'HV'))\n",
    "      .select(['HV'])\n",
    ")"
   ]
  },
  {
   "cell_type": "code",
   "execution_count": null,
   "metadata": {},
   "outputs": [],
   "source": [
    "def update_mosaic_layer(map_reference):\n",
    "    \n",
    "    out.clear_output()\n",
    "    with out:\n",
    "        print('Total images = {0}'.format(get_image_collection().size().getInfo()))\n",
    "    \n",
    "    mosaic_tilelayer = ipyleaflet.TileLayer(\n",
    "        url=GetTileLayerUrl(\n",
    "            get_image_collection().mosaic().visualize(**vis_params)\n",
    "        ),\n",
    "        attribution='Map tiles by <a href=\"http://earthengine.google.com/\">Earth Engine</a>.'\n",
    "    )\n",
    "    mosaic_layer_group.clear_layers()\n",
    "    mosaic_layer_group.add_layer(mosaic_tilelayer)"
   ]
  },
  {
   "cell_type": "code",
   "execution_count": null,
   "metadata": {},
   "outputs": [],
   "source": [
    "# Define the actions performed when the marker moves.\n",
    "def center_marker_on_move(change):\n",
    "    update_roi_layer(map1)\n",
    "    update_mosaic_layer(map1)\n",
    "center_marker.unobserve_all()\n",
    "center_marker.observe(center_marker_on_move, names='location')"
   ]
  },
  {
   "cell_type": "code",
   "execution_count": null,
   "metadata": {},
   "outputs": [],
   "source": [
    "# Define the actions performed when the ROI size is changed.\n",
    "def roi_dimension_on_change(change):\n",
    "    update_roi_layer(map1)\n",
    "    update_mosaic_layer(map1)\n",
    "roi_dimension.unobserve_all()\n",
    "roi_dimension.observe(roi_dimension_on_change, names='value')"
   ]
  },
  {
   "cell_type": "markdown",
   "metadata": {},
   "source": [
    "Initialize the overlay layers."
   ]
  },
  {
   "cell_type": "code",
   "execution_count": null,
   "metadata": {},
   "outputs": [],
   "source": [
    "update_roi_layer(map1)\n",
    "update_mosaic_layer(map1)"
   ]
  },
  {
   "cell_type": "markdown",
   "metadata": {},
   "source": [
    "# Testing out a series\n",
    "\n",
    "This section will demonstrate outputing an image time series for the specified location, time interval, and image collection."
   ]
  },
  {
   "cell_type": "code",
   "execution_count": null,
   "metadata": {},
   "outputs": [],
   "source": [
    "collection = get_image_collection()\n",
    "print(collection.size().getInfo())"
   ]
  },
  {
   "cell_type": "code",
   "execution_count": null,
   "metadata": {},
   "outputs": [],
   "source": [
    "MAX_ELEMENTS=100\n",
    "images = collection.toList(MAX_ELEMENTS).getInfo()"
   ]
  },
  {
   "cell_type": "code",
   "execution_count": null,
   "metadata": {},
   "outputs": [],
   "source": [
    "[img['id'] for img in images]"
   ]
  },
  {
   "cell_type": "code",
   "execution_count": null,
   "metadata": {},
   "outputs": [],
   "source": [
    "import os\n",
    "output_directory = 'output'\n",
    "if not os.path.exists(output_directory):\n",
    "    os.makedirs(output_directory)"
   ]
  },
  {
   "cell_type": "code",
   "execution_count": null,
   "metadata": {},
   "outputs": [],
   "source": [
    "import datetime\n",
    "from IPython.display import Image\n",
    "import imageio\n",
    "import pprint\n",
    "import PIL.Image\n",
    "import PIL.ImageDraw\n",
    "import PIL.ImageFont\n",
    "import requests\n",
    "import numpy\n",
    "\n",
    "pp = pprint.PrettyPrinter(indent=4)\n",
    "\n",
    "image_no = 0\n",
    "\n",
    "for img in images:\n",
    "    image_no += 1\n",
    "    id = img['id']\n",
    "    print(id)\n",
    "\n",
    "    image_time_ms = img['properties']['system:time_start']\n",
    "    start_time = datetime.datetime.fromtimestamp(image_time_ms/1000.0)\n",
    "\n",
    "    sample = ee.Image(id)\n",
    "    url = sample.getThumbUrl({\n",
    "        'bands': 'HH',\n",
    "        'min':-20,\n",
    "        'max':0,\n",
    "        'region':get_roi_polygon()\n",
    "    })\n",
    "\n",
    "    # Create a base image, from the Earth Engine Thumbnail URL.\n",
    "    base_ee = PIL.Image.open(requests.get(url, stream=True).raw).convert('RGBA')\n",
    "\n",
    "    # Create a background image.\n",
    "    background = PIL.Image.new('RGBA', base_ee.size, (12,12,12,255))\n",
    "\n",
    "    # Burn the EE data onto the backgound.\n",
    "    base = PIL.Image.alpha_composite(background, base_ee)\n",
    "\n",
    "    # make a blank image for the text, initialized to transparent text color\n",
    "    txt = PIL.Image.new('RGBA', base_ee.size, (255,255,255,0))\n",
    "\n",
    "    # Get a font.\n",
    "    # Additional fonts available on this server can be found by running the following in a terminal:\n",
    "    # find / -name *.ttf\n",
    "    fnt = PIL.ImageFont.truetype('/usr/share/fonts/truetype/liberation/LiberationMono-Bold.ttf', 30)\n",
    "\n",
    "    # Get a drawing context.\n",
    "    d = PIL.ImageDraw.Draw(txt)\n",
    "    # Draw text. For date formatting codes see:\n",
    "    # https://docs.python.org/3/library/datetime.html#strftime-and-strptime-behavior\n",
    "    date_string = '{:%Y-%m-%d %H:%M:%S}'.format(start_time)\n",
    "    d.text((10,10), date_string, font=fnt, fill=(255,0,0,255))\n",
    "    # Composite the image and text annotation.\n",
    "    out_image = PIL.Image.alpha_composite(base, txt)\n",
    "\n",
    "    outfile = '{0}/img{1:03d}.png'.format(output_directory, image_no)\n",
    "    out_image.save(outfile, format='PNG')\n",
    "\n",
    "    display(out_image)"
   ]
  },
  {
   "cell_type": "markdown",
   "metadata": {},
   "source": [
    "## Create an animated GIF."
   ]
  },
  {
   "cell_type": "code",
   "execution_count": null,
   "metadata": {},
   "outputs": [],
   "source": [
    "import glob\n",
    "\n",
    "gif_images = []\n",
    "filenames = sorted(glob.glob('output/img???.png'))\n",
    "for filename in filenames:\n",
    "    gif_images.append(imageio.imread(filename))\n",
    "imageio.mimsave('output/movie.gif', gif_images, 'GIF', duration=0.5)"
   ]
  },
  {
   "cell_type": "markdown",
   "metadata": {},
   "source": [
    "## Create an MPEG video."
   ]
  },
  {
   "cell_type": "code",
   "execution_count": null,
   "metadata": {},
   "outputs": [],
   "source": [
    "%%bash  \n",
    "ffmpeg -r 1 \\\n",
    "    -i output/img%03d.png \\\n",
    "    -vcodec mpeg4 \\\n",
    "    -y output/out.mp4"
   ]
  },
  {
   "cell_type": "code",
   "execution_count": null,
   "metadata": {},
   "outputs": [],
   "source": []
  }
 ],
 "metadata": {
  "kernelspec": {
   "display_name": "Python 3",
   "language": "python",
   "name": "python3"
  },
  "language_info": {
   "codemirror_mode": {
    "name": "ipython",
    "version": 3
   },
   "file_extension": ".py",
   "mimetype": "text/x-python",
   "name": "python",
   "nbconvert_exporter": "python",
   "pygments_lexer": "ipython3",
   "version": "3.6.8"
  },
  "varInspector": {
   "cols": {
    "lenName": 16,
    "lenType": 16,
    "lenVar": 40
   },
   "kernels_config": {
    "python": {
     "delete_cmd_postfix": "",
     "delete_cmd_prefix": "del ",
     "library": "var_list.py",
     "varRefreshCmd": "print(var_dic_list())"
    },
    "r": {
     "delete_cmd_postfix": ") ",
     "delete_cmd_prefix": "rm(",
     "library": "var_list.r",
     "varRefreshCmd": "cat(var_dic_list()) "
    }
   },
   "types_to_exclude": [
    "module",
    "function",
    "builtin_function_or_method",
    "instance",
    "_Feature"
   ],
   "window_display": false
  }
 },
 "nbformat": 4,
 "nbformat_minor": 2
}
